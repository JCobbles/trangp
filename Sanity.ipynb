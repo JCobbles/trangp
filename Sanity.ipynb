{
 "cells": [
  {
   "cell_type": "code",
   "execution_count": 19,
   "metadata": {},
   "outputs": [],
   "source": [
    "from sklearn.datasets import make_friedman2\n",
    "from sklearn.gaussian_process import GaussianProcessRegressor\n",
    "from sklearn.gaussian_process.kernels import DotProduct, WhiteKernel, RBF\n",
    "from scipy.spatial.distance import pdist, cdist, squareform\n",
    "import numpy as np\n",
    "\n",
    "X, y = make_friedman2(n_samples=500, noise=0, random_state=0)\n",
    "kernel = RBF() + WhiteKernel()\n",
    "gpr = GaussianProcessRegressor(kernel=kernel,\n",
    "         random_state=0).fit(X, y)\n"
   ]
  },
  {
   "cell_type": "code",
   "execution_count": 13,
   "metadata": {},
   "outputs": [
    {
     "data": {
      "text/plain": [
       "-1.439871997881387"
      ]
     },
     "execution_count": 13,
     "metadata": {},
     "output_type": "execute_result"
    }
   ],
   "source": [
    "gpr.score(X, y)"
   ]
  },
  {
   "cell_type": "code",
   "execution_count": 21,
   "metadata": {},
   "outputs": [
    {
     "name": "stdout",
     "output_type": "stream",
     "text": [
      "(500, 500) RBF(length_scale=1e+05) + WhiteKernel(noise_level=1e+05)\n",
      "(500, 4) (500, 4)\n",
      "(124750,)\n",
      "(500, 500)\n"
     ]
    }
   ],
   "source": [
    "print(gpr.kernel_(X).shape, gpr.kernel_)#K = self.kernel_(self.X_train_)\n",
    "print (X.shape, gpr.X_train_.shape)\n",
    "\n",
    "dists = pdist(X / 1, metric='sqeuclidean')\n",
    "K = np.exp(-.5 * dists)\n",
    "print(K.shape)\n",
    "# convert from upper-triangular matrix to square matrix\n",
    "K = squareform(K)\n",
    "print(K.shape)\n",
    "np.fill_diagonal(K, 1)\n"
   ]
  },
  {
   "cell_type": "code",
   "execution_count": null,
   "metadata": {},
   "outputs": [],
   "source": []
  }
 ],
 "metadata": {
  "kernelspec": {
   "display_name": "Python 3",
   "language": "python",
   "name": "python3"
  },
  "language_info": {
   "codemirror_mode": {
    "name": "ipython",
    "version": 3
   },
   "file_extension": ".py",
   "mimetype": "text/x-python",
   "name": "python",
   "nbconvert_exporter": "python",
   "pygments_lexer": "ipython3",
   "version": "3.7.6"
  }
 },
 "nbformat": 4,
 "nbformat_minor": 4
}
