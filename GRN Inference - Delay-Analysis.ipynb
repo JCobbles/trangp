{
 "cells": [
  {
   "cell_type": "code",
   "execution_count": null,
   "metadata": {},
   "outputs": [],
   "source": [
    "import tensorflow as tf\n",
    "tf.config.set_visible_devices([], 'GPU')\n",
    "\n",
    "from tensorflow import math as tfm\n",
    "from tensorflow_probability import distributions as tfd\n",
    "import tensorflow_probability as tfp\n",
    "\n",
    "from reggae.models import TranscriptionLikelihood, Options, TranscriptionMixedSampler\n",
    "from reggae.data_loaders import DataHolder\n",
    "from reggae.data_loaders.artificial import artificial_dataset\n",
    "from reggae.utilities import logit, logistic, inverse_positivity\n",
    "from reggae.plot import plotters\n",
    "from reggae.models.results import SampleResults, GenericResults\n",
    "\n",
    "from matplotlib import pyplot as plt\n",
    "from IPython.display import HTML\n",
    "plt.rcParams['animation.ffmpeg_path'] = 'C:\\\\Users\\\\Jacob\\\\Documents\\\\ffmpeg-static\\\\bin\\\\ffmpeg.exe'\n",
    "import arviz\n",
    "\n",
    "import pandas as pd\n",
    "import numpy as np\n",
    "\n",
    "np.set_printoptions(formatter={'float': lambda x: \"{0:0.5f}\".format(x)})\n",
    "plt.style.use('ggplot')\n",
    "%matplotlib inline\n",
    "f64 = np.float64\n"
   ]
  },
  {
   "cell_type": "code",
   "execution_count": null,
   "metadata": {},
   "outputs": [],
   "source": [
    "num_genes = 13\n",
    "num_tfs = 3\n",
    "tf.random.set_seed(1)\n",
    "w = tf.random.normal([num_genes, num_tfs], mean=0.5, stddev=0.71, seed=42, dtype='float64')\n",
    "\n",
    "Δ_delay = tf.constant([0, 4, 10], dtype='float64')\n",
    "\n",
    "w_0 = tf.zeros(num_genes, dtype='float64')\n",
    "\n",
    "true_kbar = logistic((np.array([\n",
    "    [1.319434062, 1.3962113525, 0.8245041865, 2.2684353378],\n",
    "    [1.3080045137, 3.3992868747, 2.0189033658, 3.7460822389],\n",
    "    [2.0189525448, 1.8480506624, 0.6805040228, 3.1039094120],\n",
    "    [1.7758426875, 0.1907625023, 0.1925539427, 1.8306885751],\n",
    "    [1.7207442227, 0.1252089546, 0.6297333943, 3.2567248923],\n",
    "    [1.4878806850, 3.8623843570, 2.4816128746, 4.3931294404],\n",
    "    [2.0853079514, 2.5115446790, 0.6560607356, 3.0945313562],\n",
    "    [1.6144843688, 1.8651409657, 0.7785363895, 2.6845058360],\n",
    "    [1.4858223122, 0.5396687493, 0.5842698019, 3.0026805243],\n",
    "    [1.6610647522, 2.0486340884, 0.9863876546, 1.4300094581],\n",
    "    [1.6027276189, 1.4320302060, 0.7175033248, 3.2151637970],\n",
    "    [2.4912882714, 2.7935526605, 1.2438786874, 4.3944794204],\n",
    "    [2.894114279, 1.4726280947, 0.7356719860, 2.2316019158],\n",
    " [1.7927833839, 1.0405867396, 0.4055775218, 2.9888350247],\n",
    " [1.0429721112, 0.1011544950, 0.7330443670, 3.1936843755],\n",
    " [1.2519286771, 2.0617880701, 1.0759649567, 3.9406060364],\n",
    " [1.4297185709, 1.3578824015, 0.6037986912, 2.6512418604],\n",
    " [1.9344878813, 1.4235867760, 0.8226320338, 4.2847217252],\n",
    " [1.4325562449, 1.1940752177, 1.0556928599, 4.1850449557],\n",
    " [0.8911103971, 1.3560009300, 0.5643954823, 3.4300182328],\n",
    " [1.0269654997, 1.0788097511, 0.5268448648, 4.4793299593],\n",
    " [0.8378220502, 1.8148234459, 1.0167440138, 4.4903387696]]\n",
    ")))\n",
    "true_kbar = true_kbar[:num_genes]\n",
    "opt = Options(preprocessing_variance=False, \n",
    "              tf_mrna_present=True, \n",
    "              kinetic_exponential=True,\n",
    "              weights=True,\n",
    "              initial_step_sizes={'logistic': 1e-8, 'latents': 10},\n",
    "              delays=True)\n",
    "\n",
    "\n",
    "data, fbar, kinetics = artificial_dataset(opt, TranscriptionLikelihood, num_genes=num_genes, \n",
    "                                          weights=(w, w_0), delays=Δ_delay.numpy(), t_end=10\n",
    "                                          )\n",
    "true_kbar, true_k_fbar = kinetics\n",
    "f_i = inverse_positivity(fbar)\n",
    "t, τ, common_indices = data.t, data.τ, data.common_indices\n",
    "common_indices = common_indices.numpy()\n",
    "N_p = τ.shape[0]\n",
    "N_m = t.shape[0]\n",
    "\n",
    "def expand(x):\n",
    "    return np.expand_dims(x, 0)\n",
    "true_results = SampleResults(opt, expand(fbar), expand(true_kbar), expand(true_k_fbar), Δ_delay, \n",
    "                             None, expand((w)), expand((w_0)), None, None)\n",
    "model = TranscriptionMixedSampler(data, opt)\n"
   ]
  },
  {
   "cell_type": "code",
   "execution_count": null,
   "metadata": {},
   "outputs": [],
   "source": [
    "# Transcription factor\n",
    "tf_labels = ['A', 'B', 'C']\n",
    "plt.title('TFs')\n",
    "for i in range(num_tfs):\n",
    "    plt.plot(τ, f_i[0, i], label=f'TF {i}')\n",
    "    plt.scatter(t, data.f_obs[0, i], marker='x')\n",
    "plt.xticks(np.arange(0, 12))\n",
    "plt.legend()\n",
    "print(τ.shape)"
   ]
  },
  {
   "cell_type": "code",
   "execution_count": null,
   "metadata": {
    "scrolled": false
   },
   "outputs": [],
   "source": [
    "def plot_genes(num, tup1, tup2):\n",
    "    for j in range(num):\n",
    "        ax = plt.subplot(num,2, 1+j)\n",
    "        plt.title(f'Gene {j}')\n",
    "        plt.scatter(np.arange(N_p)[common_indices], tup1[1][j], marker='x', label=tup1[2])\n",
    "        if tup1[0] is not None:\n",
    "            plt.plot(tup1[0][j], color='grey')\n",
    "        plt.scatter(np.arange(N_p)[common_indices], tup2[1][j], marker='x', label=tup2[2])\n",
    "        plt.plot(tup2[0][j], color='grey')\n",
    "        plt.xticks(np.arange(0, 123, 11))\n",
    "        ax.set_xticklabels(np.arange(12));\n",
    "        plt.xlabel('Time / hr')\n",
    "        plt.legend()\n",
    "\n",
    "    plt.tight_layout()\n",
    "    \n",
    "plt.figure(figsize=(10, 28))\n",
    "\n",
    "lik = model.likelihood\n",
    "Δ_nodelay = tf.constant([0, 0, 0], dtype='float64')\n",
    "m_pred = lik.predict_m(true_kbar, true_k_fbar, (w), fbar, (w_0), Δ_delay)\n",
    "m_pred_nodelay = lik.predict_m(true_kbar, true_k_fbar, (w), fbar, (w_0), Δ_nodelay)\n",
    "m_observed_nodelay = tf.stack([m_pred_nodelay.numpy()[:,i,common_indices] for i in range(num_genes)], axis=1)\n",
    "\n",
    "\n",
    "plot_genes(num_genes, (m_pred_nodelay[0][:], m_observed_nodelay[0][:], 'no delay'), \n",
    "              (m_pred[0][:], data.m_obs[0][:], 'delay'))\n",
    "\n",
    "fig = plt.figure(figsize=(6, 4))\n",
    "# plt.title('TF Proteins')\n",
    "p_nodelay = lik.calculate_protein(fbar, true_k_fbar, Δ_nodelay)\n",
    "p = lik.calculate_protein(fbar, true_k_fbar, Δ_delay)\n",
    "\n",
    "colors = ['black', 'darkgreen', 'orangered']\n",
    "delay_colors = ['grey', 'green', 'lightcoral']\n",
    "for i in range(num_tfs):\n",
    "    plt.plot(np.arange(N_p), p[0,i], color=delay_colors[i])\n",
    "    plt.plot(np.arange(N_p), p_nodelay[0,i], label=f'Protein {i}', color=colors[i], alpha=0.8)\n",
    "    plt.xticks(np.arange(0, 123, 11))\n",
    "    fig.axes[0].set_xticklabels(np.arange(12));\n",
    "    plt.xlabel('Time / hr')\n",
    "plt.legend();\n",
    "plt.tight_layout()"
   ]
  },
  {
   "cell_type": "code",
   "execution_count": null,
   "metadata": {},
   "outputs": [],
   "source": [
    "model = TranscriptionMixedSampler.load('w-fix', [data, opt]) #delay-w\n",
    "is_accepted = model.is_accepted\n",
    "samples = model.samples"
   ]
  },
  {
   "cell_type": "code",
   "execution_count": null,
   "metadata": {
    "scrolled": false
   },
   "outputs": [],
   "source": [
    "burnin = 0\n",
    "if samples[0][0].shape[0] > 5000:\n",
    "    burnin = 1500\n",
    "results = model.results(burnin=burnin)\n",
    "\n",
    "\n",
    "pcs = list()\n",
    "for i, param in enumerate(model.state_indices):\n",
    "    pcs.append(tf.reduce_mean(tf.cast(is_accepted[i], dtype=tf.float32)).numpy())\n",
    "\n",
    "display(pd.DataFrame([[f'{100*pc:.02f}%' for pc in pcs]], columns=list(model.state_indices)))\n",
    "\n",
    "def moving_average(a, n=3) :\n",
    "    ret = np.cumsum(a, dtype=float)\n",
    "    ret[n:] = ret[n:] - ret[:-n]\n",
    "    return ret[n - 1:] / n\n",
    "\n",
    "print(tf.round(results.Δ[-1]))\n",
    "plt.title('Moving Average of Deltas')\n",
    "\n",
    "for i in range(num_tfs):\n",
    "#     plt.plot(moving_average(results.Δ[:, i], 5), label=i)\n",
    "    plt.plot(results.Δ[-3000:, i], label=i)\n",
    "plt.legend()\n"
   ]
  },
  {
   "cell_type": "code",
   "execution_count": null,
   "metadata": {},
   "outputs": [],
   "source": [
    "m_preds = model.sample_latents(results, 50)"
   ]
  },
  {
   "cell_type": "code",
   "execution_count": null,
   "metadata": {
    "scrolled": false
   },
   "outputs": [],
   "source": [
    "true_k = np.exp(logit(true_kbar[:,:]).numpy())\n",
    "true_k_f = np.expand_dims(logit(true_k_fbar).numpy(), 0)\n",
    "\n",
    "plot_opt = plotters.PlotOptions(\n",
    "    num_plot_genes=10, num_plot_tfs=10,\n",
    "    for_report=False, kernel_names=model.kernel_selector.names()\n",
    ")\n",
    "plotter = plotters.Plotter(data, plot_opt)"
   ]
  },
  {
   "cell_type": "code",
   "execution_count": null,
   "metadata": {},
   "outputs": [],
   "source": [
    "f_pred = results.f\n",
    "sq_diff = tfm.square(data.f_obs - tf.transpose(tf.gather(tf.transpose(f_pred),data.common_indices)))\n",
    "print(sq_diff.shape)\n",
    "plt.subplot(2, 2, 1)\n",
    "plt.plot(tf.reduce_sum(sq_diff, axis=[1, 2, 3]))\n",
    "plt.title('latent error')\n",
    "k = results.k\n",
    "error = tf.square(k-tf.expand_dims(true_k, 0))\n",
    "plt.subplot(2, 2, 2)\n",
    "plt.plot(tf.reduce_sum(error, axis=[1, 2]))\n",
    "plt.title('kinetic error')"
   ]
  },
  {
   "cell_type": "code",
   "execution_count": null,
   "metadata": {},
   "outputs": [],
   "source": [
    "plt.plot(results.weights[0][:, 0])\n",
    "plt.figure()\n",
    "plt.plot(results.weights[0][-20:,1])\n",
    "\n",
    "# m_samples = model.sample_latents(results, 1000, step=10)\n",
    "# HTML(plotter.anim_latent(m_samples, index=0, interval=1))"
   ]
  },
  {
   "cell_type": "code",
   "execution_count": null,
   "metadata": {},
   "outputs": [],
   "source": [
    "f_samples = inverse_positivity(samples[1][0][:, 0]).numpy()#results.f[:, 0]\n",
    "print(f_samples.shape)\n",
    "plt.figure(figsize=(9, 5))\n",
    "colors = ['slategrey', 'orchid', 'tab:blue']\n",
    "for i in range(3):\n",
    "    bounds = arviz.hpd(f_samples[-500:,i,:], credible_interval=0.95)\n",
    "    label = '95% credibility interval' if i == 0 else None\n",
    "    plt.fill_between(data.τ, bounds[:, 0], bounds[:, 1], color='grey', alpha=0.3, label=label)\n",
    "    plt.scatter(data.t, data.f_obs[0, i], marker='x', color=colors[i])\n",
    "    plt.plot(data.τ, np.mean(f_samples[-500:, i], axis=0), color=colors[i], label=f'TF {i}')\n",
    "plt.legend()\n",
    "plt.ylabel('Abundance (AU)')\n",
    "plt.xlabel('Time (h)');"
   ]
  },
  {
   "cell_type": "code",
   "execution_count": null,
   "metadata": {
    "scrolled": false
   },
   "outputs": [],
   "source": [
    "plotter.summary(results, m_preds, true_k=true_k, true_k_f=true_k_f)"
   ]
  },
  {
   "cell_type": "code",
   "execution_count": null,
   "metadata": {
    "scrolled": false
   },
   "outputs": [],
   "source": [
    "plotter.convergence_summary(results)\n"
   ]
  },
  {
   "cell_type": "code",
   "execution_count": null,
   "metadata": {},
   "outputs": [],
   "source": [
    "print(results.weights[0].shape)\n",
    "print(plotter.opt.gene_names)\n",
    "plt.figure(figsize=(12, 5))\n",
    "plotter.plot_grn(results, use_sensitivities=False, log=True)\n",
    "plt.figure(figsize=(12, 5))\n",
    "print(true_results.k.shape)\n",
    "plotter.plot_grn(true_results, use_sensitivities=False, log=True)"
   ]
  },
  {
   "cell_type": "code",
   "execution_count": null,
   "metadata": {},
   "outputs": [],
   "source": [
    "f_samples = results.f\n",
    "HTML(plotter.anim_latent(f_samples, index=2))"
   ]
  },
  {
   "cell_type": "code",
   "execution_count": null,
   "metadata": {},
   "outputs": [],
   "source": [
    "params = model.params\n",
    "all_states = [param.value for param in model.active_params]\n",
    "\n",
    "def compute_prob(delta):\n",
    "    prob = tf.reduce_sum(model.likelihood.genes(\n",
    "            all_states=all_states, \n",
    "            state_indices=model.state_indices,\n",
    "            σ2_m=params.σ2_m.value,\n",
    "            Δ=delta,\n",
    "    )) +  tf.reduce_sum(tfd.Exponential(f64(0.3)).log_prob(delta))\n",
    "#     prior_prob = model.params.Δ.prior.log_prob(logit(delta))\n",
    "#     print(logit(delta), prior_prob)\n",
    "    print(prob)# + tf.reduce_sum(prior_prob))\n",
    "\n",
    "print(params.Δ.value)\n",
    "compute_prob(params.Δ.value)\n",
    "compute_prob(tf.constant([0, 4, 8], dtype='float64'))\n",
    "compute_prob(tf.constant([0, 0, 8], dtype='float64'))\n",
    "compute_prob(tf.constant([0, 10, 8], dtype='float64'))\n",
    "\n",
    "print(model.likelihood.genes(\n",
    "            all_states=all_states, \n",
    "            state_indices=model.state_indices,\n",
    "            σ2_m=logistic(10*params.σ2_m.value),\n",
    "            Δ=tf.constant([0, 10, 8], dtype='float64'),\n",
    "        ))"
   ]
  },
  {
   "cell_type": "code",
   "execution_count": null,
   "metadata": {},
   "outputs": [],
   "source": [
    "fig = plt.figure(figsize=(6, 4))\n",
    "Δ_other = tf.constant([10, 4, 10], dtype='float64')\n",
    "m_pred = m_preds[-1]\n",
    "m_pred_ = model.likelihood.predict_m(model.params.kinetics.value[0], \n",
    "                                    model.params.kinetics.value[1], \n",
    "                                    model.params.weights.value[0], \n",
    "                                    model.params.latents.value[0],\n",
    "                                    model.params.weights.value[1],\n",
    "                                    Δ_other)\n",
    "m_pred = model.likelihood.predict_m(model.params.kinetics.value[0], \n",
    "                                    model.params.kinetics.value[1], \n",
    "                                    model.params.weights.value[0], \n",
    "                                    model.params.latents.value[0],\n",
    "                                    model.params.weights.value[1],\n",
    "                                    model.params.Δ.value[-1])\n",
    "\n",
    "plt.scatter(t, m_observed_nodelay[0, 3], marker='x', label='no delay')\n",
    "plt.scatter(t, data.m_obs[0, 3], marker='x', s=70, linewidth=3, label='observations')\n",
    "plt.plot(τ, np.mean(m_preds[-5:, 0, 3], axis=0), color='darkslateblue', label='prediction 1')\n",
    "plt.plot(τ, m_pred_[0,3], color='orangered', label='prediction 2')\n",
    "\n",
    "print(m_preds.shape)\n",
    "bounds = arviz.hpd(m_preds[:, 0, 3, :], credible_interval=0.95)\n",
    "# plot_genes((m_pred_, m_observed_nodelay, 'no delay'), (m_pred, m_observed, ))\n",
    "plt.fill_between(τ, bounds[:, 0], bounds[:, 1], color='grey', alpha=0.3, label='95% credibility interval')\n",
    "plt.legend(loc=2)\n",
    "# plt.xticks(np.arange(0, 101, 11))\n",
    "# fig.axes[0].set_xticklabels(np.arange(10));\n",
    "plt.xlabel('Time / hr')"
   ]
  },
  {
   "cell_type": "code",
   "execution_count": null,
   "metadata": {},
   "outputs": [],
   "source": [
    "print(model.params.Δ.value)\n",
    "delta_model = model.params.Δ.value\n",
    "delta_true = Δ_delay\n",
    "deltas = [delta_model, delta_true]\n",
    "plt.figure(figsize=(7, 4))\n",
    "labels=['Model', 'True']\n",
    "colors = ['chocolate', 'slategrey']\n",
    "j = 11\n",
    "\n",
    "for i in range(2):\n",
    "    pred = model.likelihood.predict_m(model.params.kinetics.value[0], \n",
    "                               model.params.kinetics.value[1], \n",
    "                               model.params.weights.value[0], \n",
    "                               model.params.latents.value[0],\n",
    "                               model.params.weights.value[1],\n",
    "                               deltas[i])\n",
    "    plt.plot(data.τ, pred[0, j], label=labels[i], color=colors[i])\n",
    "    plt.scatter(data.t, data.m_obs[0, j], marker='x')\n",
    "\n",
    "bounds = arviz.hpd(m_preds[:,0, j,:], credible_interval=0.99)\n",
    "plt.fill_between(data.τ, bounds[:, 0], bounds[:, 1], color='grey', alpha=0.3, label='95% credibility interval')\n",
    "plt.xlabel('Time (h)')\n",
    "plt.xticks(np.arange(0, 10))\n",
    "plt.legend()"
   ]
  },
  {
   "cell_type": "code",
   "execution_count": null,
   "metadata": {},
   "outputs": [],
   "source": [
    "p_samples = model.sample_proteins(results, 20)\n",
    "plt.figure(figsize=(10, 5))\n",
    "plotter.plot_samples(p_samples[:,0], ['', '', ''], 4, color='orangered')"
   ]
  },
  {
   "cell_type": "code",
   "execution_count": null,
   "metadata": {},
   "outputs": [],
   "source": [
    "fig = plt.figure(figsize=(6, 4.2))\n",
    "horizontal_subplots = 21 if num_tfs > 1 else 11\n",
    "\n",
    "kwargs = {'label':'Samples'}\n",
    "plt.plot(τ, np.mean(results.f[-400:, 0, i], axis=0), c='grey', alpha=1, **kwargs)\n",
    "\n",
    "\n",
    "plt.scatter(τ[common_indices], data.f_obs[0, i], marker='x', s=60, linewidth=2, color='tab:blue', label='Observed')\n",
    "\n",
    "# HPD:\n",
    "bounds = arviz.hpd(results.f[-2000:,0, i], credible_interval=0.95)\n",
    "#     plt.fill_between(τ, bounds[:, 0], bounds[:, 1], color='grey', alpha=0.3, label='95% credibility interval')\n",
    "\n",
    "\n",
    "plt.fill_between(τ, bounds[:, 0], bounds[:, 1], color='grey', alpha=0.3, label='95% credibility interval')\n",
    "plt.xticks(t)\n",
    "fig.axes[0].set_xticklabels(t)\n",
    "plt.xlabel('Time / hr')\n",
    "plt.legend()\n",
    "plt.tight_layout()\n"
   ]
  }
 ],
 "metadata": {
  "kernelspec": {
   "display_name": "Python 3.7.6 64-bit",
   "language": "python",
   "name": "python37664bit374b75da0e1b40de8b7922d3f142c01d"
  },
  "language_info": {
   "codemirror_mode": {
    "name": "ipython",
    "version": 3
   },
   "file_extension": ".py",
   "mimetype": "text/x-python",
   "name": "python",
   "nbconvert_exporter": "python",
   "pygments_lexer": "ipython3",
   "version": "3.7.6"
  }
 },
 "nbformat": 4,
 "nbformat_minor": 4
}
