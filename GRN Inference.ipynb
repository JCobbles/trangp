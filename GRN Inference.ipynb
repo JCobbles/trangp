{
 "cells": [
  {
   "cell_type": "markdown",
   "metadata": {},
   "source": [
    "## Metropolis Hastings Custom MCMC Algorithm"
   ]
  },
  {
   "cell_type": "code",
   "execution_count": null,
   "metadata": {},
   "outputs": [],
   "source": [
    "from IPython.display import display\n",
    "import matplotlib.pyplot as plt\n",
    "\n",
    "from reggae.data_loaders import load_barenco_puma, load_3day_dros, DataHolder\n",
    "from reggae.mcmc import create_chains, MetropolisHastings\n",
    "from reggae.models import transcription\n",
    "from reggae.utilities import get_rbf_dist, exp, mult, discretise\n",
    "\n",
    "import numpy as np\n",
    "import arviz\n",
    "from multiprocessing import Pool\n",
    "\n",
    "np.set_printoptions(formatter={'float': lambda x: \"{0:0.5f}\".format(x)})\n",
    "plt.style.use('ggplot')\n",
    "%matplotlib inline"
   ]
  },
  {
   "cell_type": "code",
   "execution_count": null,
   "metadata": {},
   "outputs": [],
   "source": [
    "#df, genes, genes_se, m_observed, f_observed, σ2_m_pre, σ2_f_pre, t = load_barenco_puma()\n",
    "m_observed, f_observed, σ2_m_pre, σ2_f_pre, t = load_barenco_puma()\n",
    "\n",
    "# m_observed, f_observed, t = load_3day_dros()\n",
    "\n",
    "replicate = 0\n",
    "\n",
    "m_df, m_observed = m_observed \n",
    "f_df, f_observed = f_observed\n",
    "\n",
    "# Shape of m_observed = (replicates, genes, times)\n",
    "m_observed = m_observed[replicate]\n",
    "f_observed = np.atleast_2d(f_observed[replicate])\n",
    "σ2_m_pre = σ2_m_pre[0]\n",
    "σ2_f_pre = σ2_f_pre[0]\n",
    "\n",
    "num_genes = m_observed.shape[0]\n",
    "τ, common_indices = discretise(t)\n",
    "N_p = τ.shape[0]\n",
    "N_m = m_observed.shape[1]\n",
    "\n",
    "data = (m_observed, f_observed)\n",
    "noise_data = (σ2_m_pre, σ2_f_pre)\n",
    "time = (t, τ, common_indices)\n",
    "\n",
    "data = DataHolder(data, noise_data, time)\n",
    "opt = transcription.Options(preprocessing_variance=True, tf_mrna_present=True)\n",
    "\n",
    "# transcription_model = transcription.TranscriptionMCMC(data, opt)\n",
    "T = 50\n",
    "store_every = 1\n",
    "burn_in = 0\n",
    "report_every = 20\n",
    "num_chains = 4\n",
    "tune_every = 50"
   ]
  },
  {
   "cell_type": "code",
   "execution_count": null,
   "metadata": {},
   "outputs": [],
   "source": [
    "opt = transcription.Options(preprocessing_variance=True, tf_mrna_present=False)\n",
    "\n",
    "job = create_chains(transcription.TranscriptionMCMC, [data, opt], {\n",
    "              'T': T, \n",
    "              'store_every': store_every, \n",
    "              'burn_in': burn_in,\n",
    "              'report_every': report_every,\n",
    "              'tune_every':tune_every}, num_chains=4)\n",
    "\n",
    "    \n",
    "print('Done')"
   ]
  },
  {
   "cell_type": "code",
   "execution_count": null,
   "metadata": {},
   "outputs": [],
   "source": [
    "for res in job:\n",
    "    print(res)"
   ]
  },
  {
   "cell_type": "code",
   "execution_count": null,
   "metadata": {},
   "outputs": [],
   "source": [
    "# Begin MCMC\n",
    "\n",
    "transcription_model.sample(T, store_every, burn_in, report_every)\n",
    "\n",
    "print(transcription_model.acceptance_rates)\n",
    "\n",
    "samples = transcription_model.samples\n"
   ]
  },
  {
   "cell_type": "code",
   "execution_count": null,
   "metadata": {},
   "outputs": [],
   "source": [
    "print(job[0].get())\n"
   ]
  },
  {
   "cell_type": "markdown",
   "metadata": {},
   "source": [
    "Step size is standard dev, too small means it takes long time to reach high density areas. too long means we reject many of samples"
   ]
  },
  {
   "cell_type": "markdown",
   "metadata": {},
   "source": [
    "## Plots"
   ]
  },
  {
   "cell_type": "code",
   "execution_count": null,
   "metadata": {},
   "outputs": [],
   "source": [
    "## samples = transcription_model.samples\n",
    "plt.figure(figsize=(10,14))\n",
    "parameter_names = transcription_model.acceptance_rates.keys()\n",
    "acc_rates = samples['acc_rates']\n",
    "\n",
    "for i, name in enumerate(parameter_names):\n",
    "    plt.subplot(len(parameter_names), 3, i+1)\n",
    "    deltas = acc_rates[i]\n",
    "    plt.plot(deltas)\n",
    "    plt.title(name)\n",
    "plt.tight_layout()"
   ]
  },
  {
   "cell_type": "code",
   "execution_count": null,
   "metadata": {},
   "outputs": [],
   "source": [
    "# Plot decay\n",
    "plt.figure(figsize=(10, 8))\n",
    "for i, param in enumerate(['δbar', 'L', 'V']):\n",
    "    ax = plt.subplot(331+i)\n",
    "    plt.plot(samples[param].get())\n",
    "    ax.set_title(param)\n",
    "#'σ', 'w']):\n",
    "\n",
    "plt.figure()\n",
    "for j in range(num_genes):\n",
    "    plt.plot(samples['w'].get()[:, j], label=m_df.index[j])\n",
    "plt.legend()\n",
    "plt.title('Interaction weights')\n",
    "\n",
    "plt.figure()\n",
    "for j in range(num_genes):\n",
    "    plt.plot(samples['w_0'].get()[:,j])\n",
    "plt.title('Interaction bias')\n"
   ]
  },
  {
   "cell_type": "markdown",
   "metadata": {},
   "source": [
    "### Plot transcription ODE kinetic params\n"
   ]
  },
  {
   "cell_type": "code",
   "execution_count": null,
   "metadata": {},
   "outputs": [],
   "source": [
    "plt.figure(figsize=(14, 14))\n",
    "plt.title('Transcription ODE kinetic parameters')\n",
    "labels = ['a', 'b', 'd', 's']\n",
    "for j in range(num_genes):\n",
    "    ax = plt.subplot(num_genes, 2, j+1)\n",
    "    k_param = samples['kbar'].get()[:, j]\n",
    "#     print(k_param)\n",
    "    \n",
    "    for k in range(4):\n",
    "        plt.plot(k_param[-20000:, k], label=labels[k])\n",
    "    plt.axhline(np.mean(k_param[-20000:, 3]))\n",
    "    plt.legend()\n",
    "    ax.set_title(f'Gene {j}')\n",
    "\n",
    "plt.tight_layout()\n"
   ]
  },
  {
   "cell_type": "code",
   "execution_count": null,
   "metadata": {
    "scrolled": false
   },
   "outputs": [],
   "source": [
    "plot_barenco = True\n",
    "def plot_kinetics(kbar, plot_barenco=False):\n",
    "    plt.figure(figsize=(14, 14))\n",
    "    k_latest = np.exp(np.mean(kbar[-100:], axis=0))\n",
    "    B = k_latest[:,1]\n",
    "    D = k_latest[:,2]\n",
    "    S = k_latest[:,3]\n",
    "    data = [B, S, D]\n",
    "    barenco_data = [None, None, None]\n",
    "\n",
    "    if plot_barenco:\n",
    "        # From Martino paper ... do a rough rescaling so that the scales match.\n",
    "        B_barenco = np.array([2.6, 1.5, 0.5, 0.2, 1.35])[[0, 4, 2, 3, 1]]\n",
    "        B_barenco = B_barenco/np.mean(B_barenco)*np.mean(B)\n",
    "        S_barenco = (np.array([3, 0.8, 0.7, 1.8, 0.7])/1.8)[[0, 4, 2, 3, 1]]\n",
    "        S_barenco = S_barenco/np.mean(S_barenco)*np.mean(S)\n",
    "        D_barenco = (np.array([1.2, 1.6, 1.75, 3.2, 2.3])*0.8/3.2)[[0, 4, 2, 3, 1]]\n",
    "        D_barenco = D_barenco/np.mean(D_barenco)*np.mean(D)\n",
    "        barenco_data = [B_barenco, S_barenco, D_barenco]\n",
    "\n",
    "    labels = ['Basal rates', 'Sensitivities', 'Decay rates']\n",
    "\n",
    "    plotnum = 331\n",
    "    for A, B, label in zip(data, barenco_data, labels):\n",
    "        plt.subplot(plotnum)\n",
    "        plotnum+=1\n",
    "        plt.bar(np.arange(num_genes)-0.2, A, width=0.4, tick_label=m_df.index)\n",
    "        if B is not None:\n",
    "            plt.bar(np.arange(num_genes)+0.2, B, width=0.4, color='blue', align='center')\n",
    "        plt.title(label)\n",
    "\n",
    "kbar = samples['kbar'].get()\n",
    "plot_kinetics(kbar, plot_barenco)"
   ]
  },
  {
   "cell_type": "code",
   "execution_count": null,
   "metadata": {},
   "outputs": [],
   "source": [
    "# Plot genes\n",
    "plt.figure(figsize=(14, 17))\n",
    "m_pred = transcription_model.predict_m()\n",
    "print(np.arange(N_p)[common_indices])\n",
    "for j in range(num_genes):\n",
    "    ax = plt.subplot(531+j)\n",
    "    plt.title(m_df.index[j])\n",
    "    plt.scatter(common_indices, m_observed[j], marker='x')\n",
    "    # plt.errorbar([n*10+n for n in range(7)], Y[j], 2*np.sqrt(Y_var[j]), fmt='none', capsize=5)\n",
    "    plt.plot(m_pred[j,:], color='grey')\n",
    "    plt.xticks(np.arange(N_p)[common_indices])\n",
    "    ax.set_xticklabels(np.arange(t[-1]))\n",
    "    plt.xlabel('Time (h)')\n",
    "    \n",
    "plt.tight_layout()"
   ]
  },
  {
   "cell_type": "code",
   "execution_count": null,
   "metadata": {},
   "outputs": [],
   "source": [
    "plt.figure(figsize=(12, 10))\n",
    "plt.title('Noise variances')\n",
    "for i, j in enumerate(range(num_genes)):\n",
    "    ax = plt.subplot(num_genes, num_genes-2, i+1)\n",
    "    plt.title(m_df.index[j])\n",
    "    plt.plot(samples['σ2_m'].get()[:,j])\n",
    "    \n",
    "plt.tight_layout()"
   ]
  },
  {
   "cell_type": "code",
   "execution_count": null,
   "metadata": {},
   "outputs": [],
   "source": [
    "def scaled_barenco_data(f):\n",
    "    scale_pred = np.sqrt(np.var(f))\n",
    "    barencof = np.array([[0.0, 200.52011, 355.5216125, 205.7574913, 135.0911372, 145.1080997, 130.7046969],\n",
    "                         [0.0, 184.0994134, 308.47592, 232.1775328, 153.6595161, 85.7272235, 168.0910562],\n",
    "                         [0.0, 230.2262511, 337.5994811, 276.941654, 164.5044287, 127.8653452, 173.6112139]])\n",
    "\n",
    "    barencof = barencof[0]/(np.sqrt(np.var(barencof[0])))*scale_pred\n",
    "    # measured_p53 = df[df.index.isin(['211300_s_at', '201746_at'])]\n",
    "    # measured_p53 = measured_p53.mean(0)\n",
    "    # measured_p53 = measured_p53*scale_pred\n",
    "    measured_p53 = 0\n",
    "    \n",
    "    return barencof, measured_p53\n",
    "\n",
    "def plot_f(f):\n",
    "    fig = plt.figure(figsize=(13, 7))\n",
    "\n",
    "    barencof = scaled_barenco_data(f)\n",
    "    lb = len(barencof)\n",
    "    plt.plot(np.arange(N_p), f, color='grey')\n",
    "    plt.scatter(np.arange(0, N_p)[common_indices], barencof, marker='x')\n",
    "    plt.xticks(np.arange(N_p)[common_indices])\n",
    "    fig.axes[0].set_xticklabels(np.arange(N_m)*2)\n",
    "    plt.xlabel('Time (h)')\n",
    "    \n"
   ]
  },
  {
   "cell_type": "code",
   "execution_count": null,
   "metadata": {},
   "outputs": [],
   "source": [
    "fig = plt.figure(figsize=(13, 7))\n",
    "f_samples = np.log(1+np.exp(np.array(samples['fbar'].get()[-50:])))\n",
    "if 'σ2_f' in transcription_model.params._fields:\n",
    "    σ2_f = transcription_model.params.σ2_f.value\n",
    "else:\n",
    "    σ2_f = σ2_f_pre\n",
    "    \n",
    "bounds = arviz.hpd(f_samples, credible_interval=0.95)\n",
    "for i in range(1,20):\n",
    "    f_i = f_samples[-i]\n",
    "#     plt.plot(f_i)\n",
    "#     f_i[0] = 0\n",
    "    plt.plot(τ, f_i, c='blue', alpha=0.5)\n",
    "\n",
    "if plot_barenco:\n",
    "    barenco_f, _ = scaled_barenco_data(np.mean(f_samples[-10:], axis=0))\n",
    "    plt.scatter(τ[common_indices], barenco_f, marker='x', s=60, linewidth=3, label='Barenco')\n",
    "\n",
    "plt.scatter(τ[common_indices], f_observed[0], marker='x', s=60, linewidth=3, label='Observed')\n",
    "plt.errorbar(τ[common_indices], f_observed[0], 2*np.sqrt(σ2_f[0]), fmt='none', capsize=5, color='blue')\n",
    "\n",
    "plt.fill_between(τ, bounds[:, 0], bounds[:, 1], color='grey', alpha=0.5)\n",
    "plt.xticks(np.arange(N_m)*2)\n",
    "fig.axes[0].set_xticklabels(t)\n",
    "plt.xlabel('Time (h)')\n",
    "plt.legend();"
   ]
  },
  {
   "cell_type": "code",
   "execution_count": null,
   "metadata": {},
   "outputs": [],
   "source": []
  }
 ],
 "metadata": {
  "kernelspec": {
   "display_name": "Python 3.7.6 64-bit",
   "language": "python",
   "name": "python37664bit374b75da0e1b40de8b7922d3f142c01d"
  },
  "language_info": {
   "codemirror_mode": {
    "name": "ipython",
    "version": 3
   },
   "file_extension": ".py",
   "mimetype": "text/x-python",
   "name": "python",
   "nbconvert_exporter": "python",
   "pygments_lexer": "ipython3",
   "version": "3.7.6"
  }
 },
 "nbformat": 4,
 "nbformat_minor": 4
}
