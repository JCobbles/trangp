{
 "cells": [
  {
   "cell_type": "code",
   "execution_count": 1,
   "metadata": {},
   "outputs": [],
   "source": [
    "import pandas as pd\n",
    "import matplotlib.pyplot as plt\n",
    "import numpy as np\n",
    "from scipy.interpolate import interp1d\n",
    "\n",
    "import gpflow\n",
    "from gpflow.utilities import print_summary, positive\n",
    "\n",
    "import tensorflow as tf\n",
    "from tensorflow import math as tfm\n",
    "from tensorflow_probability import bijectors as tfb\n",
    "from tensorflow_probability import distributions as tfd\n",
    "from tensorflow_probability import mcmc\n",
    "\n",
    "from load_puma_data import load_barenco_puma\n",
    "import math\n",
    "import random\n",
    "\n",
    "PI = tf.constant(math.pi, dtype='float64')\n",
    "plt.style.use('ggplot')\n",
    "%matplotlib inline"
   ]
  },
  {
   "cell_type": "code",
   "execution_count": 93,
   "metadata": {},
   "outputs": [],
   "source": [
    "df, genes, genes_se, Y, Y_var = load_barenco_puma()\n",
    "\n",
    "\n",
    "N_m = 7               # Number of observations\n",
    "def calc_N_p(N_p, num_disc=8):\n",
    "    '''A helper recursive function to ensure t is a subset of τ'''\n",
    "    if num_disc <= 0:\n",
    "        return N_p\n",
    "    return N_p -1 + calc_N_p(N_p, num_disc-1)\n",
    "num_disc = 10\n",
    "N_p = calc_N_p(N_m, num_disc)  # Number of time discretisations\n",
    "t = np.arange(N_m)*2           # Observation times\n",
    "τ = np.linspace(0, 12, N_p, dtype='float32')    # Discretised observation times\n",
    "num_genes = 5\n",
    "I = 1 # Number of TFs\n",
    "\n",
    "m = np.float32(Y[:-1])\n",
    "f = np.float32(np.atleast_2d(Y[-1]))\n",
    "σ2 = np.float32(Y_var[:-1])\n",
    "σ2_f = np.float32(np.atleast_2d(Y_var[-1]))"
   ]
  },
  {
   "cell_type": "markdown",
   "metadata": {},
   "source": [
    "## Metropolis Hastings Custom MCMC Algorithm"
   ]
  },
  {
   "cell_type": "code",
   "execution_count": 125,
   "metadata": {},
   "outputs": [],
   "source": [
    "# Parameters\n",
    "w_j0 = 1    # Interaction bias (TODO)\n",
    "fbar_i = np.ones(N_p, dtype='float32')\n",
    "v_i = 1 # Fix this to 1 if translation model is not used (pg.8)\n",
    "l2_i = 0.1\n",
    "δbar_i = np.float32(1)\n",
    "h_δ = 1\n",
    "h_c = 0.5\n",
    "h_f = tf.ones(N_p, dtype='float32')\n",
    "h_k = tf.ones(4, dtype='float32')\n",
    "h_w = tf.ones(num_genes, dtype='float32')\n",
    "h_σm = 1.2*tf.ones(num_genes, dtype='float32')\n",
    "a = tf.constant(-0.5, dtype='float32')\n",
    "b2 = tf.constant(2., dtype='float32')\n",
    "kbar_i = np.float32(np.c_[np.ones(num_genes), # a_j\n",
    "                          np.ones(num_genes), # b_j\n",
    "                          np.ones(num_genes), # d_j\n",
    "                          np.ones(num_genes)])# s_j\n",
    "w_j = 0.5*np.ones((num_genes, I))\n",
    "σ_m2 = np.ones(num_genes, dtype='float32')"
   ]
  },
  {
   "cell_type": "code",
   "execution_count": 145,
   "metadata": {},
   "outputs": [
    {
     "name": "stdout",
     "output_type": "stream",
     "text": [
      "0.0\n",
      "tf.Tensor(\n",
      "[1.93669 1.71939 0.83861 1.74139 1.11366 1.12025 1.09527 -0.02986 0.11047\n",
      " 0.90266 0.38859 -0.62836 0.12126 -0.30178 -0.02374 -0.40155 -1.49737\n",
      " -1.29872 -2.51512 -1.59963 -1.63506 -1.19613 -1.59141 -1.36764 -1.60859\n",
      " -2.29265 -2.11728 -2.57878 -2.71994 -2.17939 -2.62238 -1.86872 -2.10671\n",
      " -2.52768 -2.02299 -1.42567 -0.94513 -1.53279 -0.94740 -0.91548 -0.43479\n",
      " -0.68506 0.40276 0.78613 0.17304 1.04237 1.09368 1.68752 1.11373 1.18130\n",
      " 2.00071 2.11519 2.29594 2.63347 1.95456 1.82323 2.14834 1.97744 2.34997\n",
      " 2.81441 2.40038 2.57949 2.14185 1.90457 2.23732 1.92005 1.19920], shape=(67,), dtype=float32)\n"
     ]
    }
   ],
   "source": [
    "np.set_printoptions(formatter={'float': lambda x: \"{0:0.5f}\".format(x)})\n",
    "\n",
    "# Priors\n",
    "def l2_prior(l2):\n",
    "    return tfd.Uniform(0.01, 1).prob(l2) # TODO\n",
    "def v_prior(v):\n",
    "    return 1\n",
    "def σ_m2_prior(σ):\n",
    "    return tfd.InverseGamma(0.01, 0.01).prob(σ)\n",
    "\n",
    "def w_j_prior(w_j): # At the moment this is the same as w_j0 (see pg.8)\n",
    "    return tfd.Normal(0, 2).prob(w_j0)\n",
    "def w_j0_prior(w_j0):\n",
    "    return tfd.Normal(0, 2).prob(w_j0)\n",
    "    \n",
    "def kbar_prior(kbar):\n",
    "    return np.prod(tfd.Normal(a, b2).prob(kbar))\n",
    "\n",
    "def fbar_prior_params(v=v_i, l2=l2_i):\n",
    "    t_1 = np.reshape(np.tile(τ, N_p), [N_p, N_p]).T\n",
    "    t_2 = np.reshape(np.tile(τ, N_p), [N_p, N_p])\n",
    "    t_dist = t_1-t_2\n",
    "#     print('vl2', v, l2)\n",
    "    jitter = tf.linalg.diag(1e-5 * np.ones(N_p, dtype='float32'))\n",
    "    K = v * np.exp(-np.square(t_dist)/(2*l2)) + jitter\n",
    "    m = np.zeros(N_p, dtype='float32')\n",
    "    return m, K\n",
    "\n",
    "def fbar_prior(fbar, v=v_i, l2=l2_i):\n",
    "    m, K = fbar_prior_params(v, l2)\n",
    "    try:\n",
    "        prob = np.float64(tfd.MultivariateNormalFullCovariance(m, K).prob(fbar))\n",
    "        return prob\n",
    "    except:\n",
    "        jitter = tf.linalg.diag(1e-4 * np.ones(N_p, dtype='float32'))\n",
    "        try:\n",
    "            prob = np.float64(tfd.MultivariateNormalFullCovariance(m, K+jitter).prob(fbar))\n",
    "            return prob\n",
    "        except:\n",
    "            return 0\n",
    "\n",
    "def δbar_prior(δ):\n",
    "    return np.float64(tfd.Normal(a, b2).prob(δ))\n",
    "\n",
    "# Likelihood\n",
    "def G(n, k, p_i, d_j, w):\n",
    "    # TODO add binary vector x_j for prior network knowledge (pg.3)\n",
    "    numerator = np.exp(-d_j*(t[n]-τ[k]))\n",
    "    denominator = (1+np.exp(-w_j0-sum([w[:,i]*np.log(p_i[k]) for i in range(I)])))\n",
    "    return numerator/denominator\n",
    "\n",
    "def m_likelihood(δbar=δbar_i, \n",
    "                 fbar=fbar_i, \n",
    "                 kbar=kbar_i, \n",
    "                 w=w_j,\n",
    "                 σ_m2=σ_m2, for_gene_only=False):        \n",
    "    # Take relevant parameters out of log-space\n",
    "    δ = np.exp(δbar)\n",
    "    f_i = np.exp(fbar)\n",
    "    a_j, b_j, d_j, s_j = (np.exp(kbar_i[:, i]) for i in range(4)) \n",
    "#     print('exped', δ)\n",
    "    # Define p_i vector\n",
    "    p_i = np.zeros(N_p)\n",
    "    for n in range(N_p):\n",
    "        N_pn = n#n*10+n\n",
    "        p_i[n] = np.trapz([f_i[k] * np.exp(-δ*(τ[n]-τ[k])) for k in range(N_pn)])\n",
    "#     print('pi', p_i)\n",
    "    \n",
    "    # Calculate m_pred\n",
    "    m_pred = np.zeros((num_genes, N_m), dtype='float32')\n",
    "    for n in range(N_m):\n",
    "        N_pn = n*10+n\n",
    "        ys =  np.array([G(n, k, p_i, d_j, w) for k in range(N_pn)])\n",
    "        if ys.shape[0] == 0:\n",
    "            ys = np.zeros((0, num_genes))\n",
    "        integrals = np.array([np.trapz(ys[:, i]) for i in range(num_genes)])\n",
    "#         print('integrals', integrals)\n",
    "        m_pred[:, n] = b_j/d_j + (a_j-b_j/d_j) * np.exp(-d_j*t[n]) + s_j*integrals\n",
    "\n",
    "#     print(m_pred, m)\n",
    "    lik = 1    \n",
    "    if for_gene_only is False:\n",
    "        for j in range(num_genes):\n",
    "            prob = tfd.Normal(m[j], σ2[j]+σ_m2[j]).prob(m_pred[j])\n",
    "            lik *= tf.reduce_prod(prob)\n",
    "    else:\n",
    "        j = for_gene_only\n",
    "        prob = tfd.Normal(m[j], σ2[j]+σ_m2[j]).prob(m_pred[j])\n",
    "        lik *= tf.reduce_prod(prob)\n",
    "    return lik\n",
    "\n",
    "def f_likelihood(fbar, i=0): \n",
    "    '''TODO this should be for the i-th TF'''\n",
    "    f_i = np.exp(fbar)\n",
    "    f_i = np.float32(np.atleast_2d([f_i[i*num_disc+i] for i in range(N_m)]))\n",
    "#     print(f_i[i], f[i])\n",
    "    prob = tfd.Normal(f[i], σ2_f[i]).prob(f_i[i])\n",
    "#     print('prob', prob)\n",
    "    lik = tf.reduce_prod(prob)\n",
    "    return lik\n",
    "\n",
    "print(fbar_prior(fbar_i))\n",
    "print(fbar_i)"
   ]
  },
  {
   "cell_type": "code",
   "execution_count": null,
   "metadata": {
    "scrolled": true
   },
   "outputs": [
    {
     "name": "stdout",
     "output_type": "stream",
     "text": [
      "----- Metropolis Begins -----\n",
      "0.00% complete\r"
     ]
    },
    {
     "name": "stderr",
     "output_type": "stream",
     "text": [
      "c:\\users\\jacob\\appdata\\local\\programs\\python\\python37\\lib\\site-packages\\ipykernel_launcher.py:49: RuntimeWarning: divide by zero encountered in log\n",
      "c:\\users\\jacob\\appdata\\local\\programs\\python\\python37\\lib\\site-packages\\ipykernel_launcher.py:72: RuntimeWarning: invalid value encountered in less\n"
     ]
    },
    {
     "name": "stdout",
     "output_type": "stream",
     "text": [
      "95.00% complete\r"
     ]
    }
   ],
   "source": [
    "print('----- Metropolis Begins -----')\n",
    "\n",
    "params = {'δ': list(), \n",
    "          'k': [list() for _ in range(num_genes)],\n",
    "          'σ': [list() for _ in range(num_genes)],\n",
    "          'w': [list() for _ in range(num_genes)],\n",
    "          'L': list(),\n",
    "          'V': list()\n",
    "         }\n",
    "T = 2000\n",
    "\n",
    "\n",
    "h_f =0.4*tf.ones(N_p, dtype='float32')\n",
    "\n",
    "# print(likelihood(δbar_i))\n",
    "for iteration_number in range(T):\n",
    "    if iteration_number % 100 == 0:\n",
    "        print(f'{100*iteration_number/T:.2f}% complete', end='\\r')\n",
    "    # Untransformed tf mRNA vectors F\n",
    "    for i in range(I):\n",
    "        # Gibbs step\n",
    "        z_i = tfd.MultivariateNormalDiag(fbar_i, h_f).sample()\n",
    "        # MH\n",
    "        m, K = fbar_prior_params()\n",
    "        fstar = tfd.MultivariateNormalFullCovariance(m, K).sample()\n",
    "        fstar = tfd.MultivariateNormalDiag(fstar, h_f).sample()\n",
    "        g = lambda fbar: m_likelihood(fbar=fbar) * f_likelihood(fbar)\n",
    "        acceptance = g(fstar)/g(fbar_i)\n",
    "        if random.random() < min(1, acceptance):\n",
    "            fbar_i = fstar\n",
    "\n",
    "    # Log of translation ODE degradation rates\n",
    "    for i in range(I):\n",
    "        # Proposal distribution\n",
    "        Q = tfd.Normal(δbar_i, h_δ)\n",
    "        δstar = Q.sample() # δstar is in log-space, i.e. δstar = δbar*\n",
    "        g = lambda δbar: m_likelihood(δbar=δbar) * δbar_prior(δbar)\n",
    "        acceptance = min(1, g(δstar)/g(δbar_i))\n",
    "        if random.random() < acceptance:\n",
    "            δbar_i = δstar\n",
    "            params['δ'].append(δstar)\n",
    "            \n",
    "    # Log of transcription ODE kinetic params\n",
    "    for j in range(num_genes):\n",
    "        Q = tfd.MultivariateNormalDiag(kbar_i[j], h_k)\n",
    "        kstar = Q.sample()\n",
    "        g = lambda kbar: m_likelihood(kbar=kbar, for_gene_only=j) * kbar_prior(kbar)\n",
    "        acceptance = min(1, g(kstar)/g(kbar_i[j]))\n",
    "        if random.random() < acceptance:\n",
    "            kbar_i[j] = kstar\n",
    "            params['k'][j].append(kstar)\n",
    "\n",
    "    # Interaction weights and biases\n",
    "    for j in range(num_genes):\n",
    "        Q = tfd.Normal(w_j[j], 0.1)#h_w[j])\n",
    "        wstar = Q.sample()[0]\n",
    "        g = lambda w: m_likelihood(for_gene_only=j) * w_j_prior(w)\n",
    "#         print('----')\n",
    "#         print(g(wstar))\n",
    "#         print(g(w_j[j][0]))\n",
    "        acceptance = min(1, g(wstar)/g(w_j[j][0]))\n",
    "#         print('accept', acceptance)\n",
    "        if random.random() < acceptance:\n",
    "            w_j[j] = wstar\n",
    "            params['w'][j].append(wstar)\n",
    "\n",
    "    # Noise variances (this doesn't use a loop over j, TODO: change other subroutines to similar)\n",
    "    Q = lambda σ: tfd.TruncatedNormal(σ, h_σm, low=0, high=100)\n",
    "    σ_m2star = Q(σ_m2).sample()\n",
    "    g = lambda σ, σ_other: m_likelihood(σ_m2=σ, for_gene_only=j) * σ_m2_prior(σ) * Q(σ).prob(σ_other)\n",
    "    acceptance = np.random.random(num_genes) < np.minimum(\n",
    "        np.ones(num_genes), g(σ_m2star, σ_m2) / g(σ_m2, σ_m2star))\n",
    "    for j in range(num_genes):\n",
    "        if acceptance[j]:\n",
    "            σ_m2[j] = σ_m2star[j]\n",
    "            params['σ'][j].append(σ_m2star[j])\n",
    "\n",
    "    # Length scales and variances of GP kernels\n",
    "    for i in range(I):\n",
    "        Q_v = lambda v: tfd.TruncatedNormal(v, l2_i, low=0, high=100)\n",
    "        Q_l = lambda l2: tfd.TruncatedNormal(l2, h_c, low=0, high=100)\n",
    "        vstar = Q_v(v_i).sample()\n",
    "        l2star = Q_l(l2_i).sample()\n",
    "#         print(l2star, 'prior', fbar_prior(fbar_i, vstar, l2star))\n",
    "        g = lambda v, l2, v_other, l2_other: fbar_prior(fbar_i, v, l2) * \\\n",
    "            v_prior(v) * l2_prior(l2) * Q_v(v_other).prob(v) * Q_l(l2_other).prob(l2)\n",
    "#         print(g(v_i, l2_i, vstar, l2star))\n",
    "        acceptance = g(vstar, l2star, v_i, l2_i) / g(v_i, l2_i, vstar, l2star)\n",
    "#         print(acceptance)\n",
    "        if random.random() < min(1, acceptance):\n",
    "            v_i = vstar\n",
    "            l2_i = l2star\n",
    "            params['V'].append(vstar)\n",
    "            params['L'].append(l2star)\n"
   ]
  },
  {
   "cell_type": "code",
   "execution_count": 78,
   "metadata": {},
   "outputs": [
    {
     "data": {
      "text/plain": [
       "[<matplotlib.lines.Line2D at 0x1903f5a4b48>]"
      ]
     },
     "execution_count": 78,
     "metadata": {},
     "output_type": "execute_result"
    },
    {
     "data": {
      "image/png": "[encoded data removed]",
      "text/plain": [
       "<Figure size 432x288 with 1 Axes>"
      ]
     },
     "metadata": {
      "needs_background": "light"
     },
     "output_type": "display_data"
    }
   ],
   "source": [
    "plt.figure(figsize=(7, 5))\n",
    "for param in ['δ', 'L', 'V']:\n",
    "    plt.plot(params[param], label=param)\n",
    "plt.legend()\n",
    "#'σ', 'w']):\n",
    "\n",
    "# Plot transcription ODE kinetic params\n",
    "plt.figure(figsize=(10, 6))\n",
    "plt.suptitle('Transcription ODE kinetic parameters')\n",
    "for i, j in enumerate(range(num_genes)):\n",
    "    ax = plt.subplot(num_genes, num_genes, i+1)\n",
    "    print(params['k'][j])\n",
    "    plt.plot(params['k'][j], label=['a', 'b', 'd', 's'])\n",
    "    ax.set_title(f'Gene {j}')\n",
    "plt.legend()\n",
    "\n",
    "plt.figure(figsize=(7, 5))\n",
    "plt.title('Noise variances')\n",
    "plt.plot(params['σ'])"
   ]
  },
  {
   "cell_type": "code",
   "execution_count": null,
   "metadata": {},
   "outputs": [],
   "source": []
  },
  {
   "cell_type": "code",
   "execution_count": 81,
   "metadata": {},
   "outputs": [
    {
     "data": {
      "text/plain": [
       "[<matplotlib.lines.Line2D at 0x1903faa2148>]"
      ]
     },
     "execution_count": 81,
     "metadata": {},
     "output_type": "execute_result"
    },
    {
     "data": {
      "image/png": "[encoded data removed]",
      "text/plain": [
       "<Figure size 432x288 with 1 Axes>"
      ]
     },
     "metadata": {
      "needs_background": "light"
     },
     "output_type": "display_data"
    }
   ],
   "source": [
    "sigma = np.array(params['σ'][0])\n",
    "plt.plot(sigma)"
   ]
  },
  {
   "cell_type": "code",
   "execution_count": 80,
   "metadata": {},
   "outputs": [
    {
     "name": "stdout",
     "output_type": "stream",
     "text": [
      "[0.059980802, 2.8725512, 0.085408285, 0.8999171, 0.45165178, 0.6538061, 0.20723581]\n"
     ]
    },
    {
     "data": {
      "text/plain": [
       "[<matplotlib.lines.Line2D at 0x1903fa99f88>]"
      ]
     },
     "execution_count": 80,
     "metadata": {},
     "output_type": "execute_result"
    },
    {
     "data": {
      "image/png": "[encoded data removed]",
      "text/plain": [
       "<Figure size 432x288 with 1 Axes>"
      ]
     },
     "metadata": {
      "needs_background": "light"
     },
     "output_type": "display_data"
    },
    {
     "data": {
      "image/png": "[encoded data removed]",
      "text/plain": [
       "<Figure size 432x288 with 1 Axes>"
      ]
     },
     "metadata": {
      "needs_background": "light"
     },
     "output_type": "display_data"
    }
   ],
   "source": [
    "f_i = np.exp(fbar_i)\n",
    "plt.plot(f_i)\n",
    "plt.figure()\n",
    "f_i = [f_i[i*num_disc+i] for i in range(N_m)]\n",
    "print(f_i)\n",
    "plt.plot(f_i)\n"
   ]
  },
  {
   "cell_type": "code",
   "execution_count": null,
   "metadata": {},
   "outputs": [],
   "source": []
  }
 ],
 "metadata": {
  "kernelspec": {
   "display_name": "Python 3",
   "language": "python",
   "name": "python3"
  },
  "language_info": {
   "codemirror_mode": {
    "name": "ipython",
    "version": 3
   },
   "file_extension": ".py",
   "mimetype": "text/x-python",
   "name": "python",
   "nbconvert_exporter": "python",
   "pygments_lexer": "ipython3",
   "version": "3.7.6"
  }
 },
 "nbformat": 4,
 "nbformat_minor": 4
}
