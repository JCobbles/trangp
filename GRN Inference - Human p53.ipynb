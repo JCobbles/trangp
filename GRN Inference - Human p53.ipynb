{
 "cells": [
  {
   "cell_type": "markdown",
   "metadata": {},
   "source": [
    "## Human p53 network - REGGaE"
   ]
  },
  {
   "cell_type": "code",
   "execution_count": 7,
   "metadata": {
    "scrolled": false
   },
   "outputs": [],
   "source": [
    "## TensorFlow SETUP\n",
    "import tensorflow as tf\n",
    "tf.config.set_visible_devices([], 'GPU')\n",
    "# tf.debugging.set_log_device_placement(True)\n",
    "from tensorflow import math as tfm\n",
    "\n",
    "from timeit import default_timer as timer\n",
    "from datetime import datetime\n",
    "from IPython.display import display\n",
    "import matplotlib.pyplot as plt\n",
    "\n",
    "from reggae.data_loaders import load_barenco_puma, DataHolder, load_humanp53\n",
    "from reggae.mcmc import create_chains, MetropolisHastings, Parameter\n",
    "from reggae.utilities import discretise, logit, logistic, LogisticNormal, inverse_positivity\n",
    "from reggae.plot import mcmc_plotters\n",
    "from reggae.mcmc.models import TranscriptionMixedSampler\n",
    "from reggae.mcmc import TranscriptionLikelihood, Options\n",
    "from reggae.mcmc.results import GenericResults, SampleResultsMH\n",
    "\n",
    "import numpy as np\n",
    "import pandas as pd\n",
    "import arviz\n",
    "from ipywidgets import IntProgress\n",
    "\n",
    "plt.style.use('ggplot')\n",
    "%matplotlib inline\n",
    "f64 = np.float64\n",
    "np.set_printoptions(threshold=np.inf)\n",
    "np.set_printoptions(formatter={'float': lambda x: \"{0:0.10f}\".format(x)})\n"
   ]
  },
  {
   "cell_type": "code",
   "execution_count": 22,
   "metadata": {
    "scrolled": false
   },
   "outputs": [
    {
     "name": "stdout",
     "output_type": "stream",
     "text": [
      "(1, 1, 13) (1, 22, 13)\n"
     ]
    }
   ],
   "source": [
    "target_genes = [\n",
    "    'KAZN','PMAIP1','PRKAB1','CSNK1G1','E2F7','SLC30A1',\n",
    "    'PTP4A1','RAP2B','SUSD6','UBR5-AS1','RNF19B','AEN','ZNF79','XPC',\n",
    "    'FAM212B','SESN2','DCP1B','MDM2','GADD45A','SESN1','CDKN1A','BTG2'\n",
    "]\n",
    "known_target_genes = [\n",
    "    'CDKN1A', #p21\n",
    "    'SESN1', #hPA26\n",
    "    'DDB2',\n",
    "    'TNFRSF10B',\n",
    "    'BIK',\n",
    "]\n",
    "\n",
    "m_observed, f_observed, t = load_humanp53(target_genes)\n",
    "\n",
    "# m_observed, f_observed, t = load_3day_dros()\n",
    "\n",
    "replicate = 0\n",
    "\n",
    "m_df, m_observed = m_observed \n",
    "f_df, f_observed = f_observed\n",
    "# Shape of m_observed = (replicates, genes, times)\n",
    "m_observed = m_observed\n",
    "f_observed = f_observed\n",
    "\n",
    "num_genes = m_observed.shape[1]\n",
    "τ, common_indices = discretise(t, num_disc=13)\n",
    "N_p = τ.shape[0]\n",
    "N_m = m_observed.shape[1]\n",
    "\n",
    "data = (m_observed, f_observed)\n",
    "time = (t, τ, tf.constant(common_indices))\n",
    "\n",
    "data = DataHolder(data, None, time)\n",
    "N_p = τ.shape[0]\n",
    "\n",
    "print(f_observed.shape, m_observed.shape)"
   ]
  },
  {
   "cell_type": "code",
   "execution_count": 24,
   "metadata": {
    "scrolled": true
   },
   "outputs": [],
   "source": [
    "opt = Options(preprocessing_variance=False, \n",
    "              tf_mrna_present=True, \n",
    "              delays=False,\n",
    "              weights=False,\n",
    "              kinetic_exponential=True,\n",
    "              initial_step_sizes={'logistic': 0.000005, 'latents': 10},\n",
    "              kernel='rbf')\n",
    "\n",
    "model = TranscriptionMixedSampler(data, opt)"
   ]
  },
  {
   "cell_type": "code",
   "execution_count": null,
   "metadata": {
    "scrolled": true
   },
   "outputs": [],
   "source": [
    "start = timer()\n",
    "samples, is_accepted = model.sample(T=1500, burn_in=0)\n",
    "end = timer()\n",
    "print(f'Time taken: {(end - start):.04f}s')\n"
   ]
  },
  {
   "cell_type": "code",
   "execution_count": null,
   "metadata": {},
   "outputs": [],
   "source": [
    "model.save('human')"
   ]
  },
  {
   "cell_type": "code",
   "execution_count": 10,
   "metadata": {},
   "outputs": [],
   "source": [
    "# Initialise from saved model:\n",
    "model = TranscriptionMixedSampler.load('human', [data, opt])\n",
    "is_accepted = model.is_accepted"
   ]
  },
  {
   "cell_type": "code",
   "execution_count": 13,
   "metadata": {
    "scrolled": true
   },
   "outputs": [
    {
     "data": {
      "text/html": [
       "<div>\n",
       "<style scoped>\n",
       "    .dataframe tbody tr th:only-of-type {\n",
       "        vertical-align: middle;\n",
       "    }\n",
       "\n",
       "    .dataframe tbody tr th {\n",
       "        vertical-align: top;\n",
       "    }\n",
       "\n",
       "    .dataframe thead th {\n",
       "        text-align: right;\n",
       "    }\n",
       "</style>\n",
       "<table border=\"1\" class=\"dataframe\">\n",
       "  <thead>\n",
       "    <tr style=\"text-align: right;\">\n",
       "      <th></th>\n",
       "      <th>kinetics</th>\n",
       "      <th>latents</th>\n",
       "      <th>σ2_m</th>\n",
       "      <th>σ2_f</th>\n",
       "    </tr>\n",
       "  </thead>\n",
       "  <tbody>\n",
       "    <tr>\n",
       "      <th>0</th>\n",
       "      <td>100.00%</td>\n",
       "      <td>51.00%</td>\n",
       "      <td>100.00%</td>\n",
       "      <td>100.00%</td>\n",
       "    </tr>\n",
       "  </tbody>\n",
       "</table>\n",
       "</div>"
      ],
      "text/plain": [
       "  kinetics latents     σ2_m     σ2_f\n",
       "0  100.00%  51.00%  100.00%  100.00%"
      ]
     },
     "metadata": {},
     "output_type": "display_data"
    }
   ],
   "source": [
    "pcs = list()\n",
    "for i, param in enumerate(model.state_indices):\n",
    "    pcs.append(tf.reduce_mean(tf.cast(is_accepted[i], dtype=tf.float32)).numpy())\n",
    "\n",
    "display(pd.DataFrame([[f'{100*pc:.02f}%' for pc in pcs]], columns=list(model.state_indices)))\n",
    "\n",
    "plot_opt = mcmc_plotters.PlotOptions(\n",
    "    num_plot_genes=10, num_plot_tfs=10,\n",
    "    gene_names=m_df.index, tf_names=f_df.index,\n",
    "    true_label='Hafner et al.', for_report=True, ylabel='normalised FPKM',\n",
    "    kernel_names=model.kernel_selector.names(), num_hpd=200\n",
    ")\n",
    "plotter = mcmc_plotters.Plotter(data, plot_opt)\n",
    "\n",
    "# Calculate gene samples\n",
    "σ2_f = None\n",
    "results = model.results()\n"
   ]
  },
  {
   "cell_type": "code",
   "execution_count": 14,
   "metadata": {
    "scrolled": false
   },
   "outputs": [],
   "source": [
    "m_preds = model.sample_latents(results, 20)"
   ]
  },
  {
   "cell_type": "code",
   "execution_count": null,
   "metadata": {},
   "outputs": [],
   "source": [
    "dec = np.array([0.284200056, 0.399638904, 0.062061123]) #todo incorrect order\n",
    "sens = np.array([4.002484948, 32.89511304, 4.297906129])\n",
    "# np.array([0, *dec, 0])\n",
    "sens = np.array([\n",
    "    0.232461671,0.429175332,1.913169606,0.569821512,2.139812962,0.340465324,\n",
    "    4.203117214,0.635328943,0.920901229,0.263968666,1.360004451,4.816673998,\n",
    "    0.294392325,2.281036308,0.86918333,2.025737447,1.225920534,11.39455009,\n",
    "    4.229758095,4.002484948,32.89511304,7.836815916])\n",
    "dec = np.array([\n",
    "    0.260354271,0.253728801,0.268641114,0.153037374,0.472215028,0.185626363,\n",
    "    0.210251586,0.211915623,0.324826082,0.207834775,0.322725728,0.370265667,\n",
    "    0.221598164,0.226897275,0.409710437,0.398004589,0.357308033,0.498836353,\n",
    "    0.592101838,0.284200056,0.399638904,0.463468107])\n",
    "\n",
    "ktrue = np.zeros((num_genes, 4))\n",
    "k_latest = np.mean(results.k[-40:], axis=0)\n",
    "dec = dec/np.mean(dec)* np.mean(k_latest[:,2])\n",
    "ktrue[:,2] = 1.02*dec\n",
    "\n",
    "sens = sens/np.mean(sens)* np.mean(k_latest[:,3])\n",
    "ktrue[:,3] = sens"
   ]
  },
  {
   "cell_type": "code",
   "execution_count": null,
   "metadata": {},
   "outputs": [],
   "source": []
  },
  {
   "cell_type": "code",
   "execution_count": null,
   "metadata": {
    "scrolled": false
   },
   "outputs": [],
   "source": [
    "plotter.plot_genes(m_preds, replicate=0, height_mul=2, indices=[5, 11, 20, 21])\n",
    "# plt.legend(bbox_to_anchor=(0, -1));"
   ]
  },
  {
   "cell_type": "code",
   "execution_count": null,
   "metadata": {},
   "outputs": [],
   "source": [
    "k = results.k[-1]\n",
    "k[-2, 3] = tf.exp(5.)\n",
    "print(k.shape, logistic(np.log(k[-2, 3])))\n",
    "m_pred = model.likelihood.predict_m(logistic(np.log(k)), results.k_fbar[-1], results.wbar[-1], \n",
    "                           results.fbar[-1], results.w_0bar[-1], None)\n",
    "print(m_pred.shape)\n",
    "plt.plot(m_pred[0, -2])"
   ]
  },
  {
   "cell_type": "code",
   "execution_count": null,
   "metadata": {
    "scrolled": false
   },
   "outputs": [],
   "source": [
    "plotter.summary(results, m_preds, true_k=ktrue, replicate=0, scale_observed=True)"
   ]
  },
  {
   "cell_type": "code",
   "execution_count": null,
   "metadata": {
    "scrolled": false
   },
   "outputs": [],
   "source": [
    "plotter.convergence_summary(results)"
   ]
  },
  {
   "cell_type": "code",
   "execution_count": null,
   "metadata": {},
   "outputs": [],
   "source": [
    "plotter.plot_grn(results)"
   ]
  },
  {
   "cell_type": "code",
   "execution_count": null,
   "metadata": {},
   "outputs": [],
   "source": [
    "import random\n",
    "import networkx as nx\n",
    "np.random.seed()\n",
    "G = nx.DiGraph()\n",
    "pos=nx.spring_layout(G)\n",
    "\n",
    "nodes = list()\n",
    "node_colors = list()\n",
    "for i in range(1):\n",
    "    nodes.append(f_df.index[i])\n",
    "    node_colors.append('slategrey')\n",
    "for j in range(num_genes):\n",
    "    nodes.append(m_df.index[j])\n",
    "    node_colors.append('chocolate')\n",
    "\n",
    "p53 = f_df.index[0]\n",
    "edges = list()\n",
    "colors = list()\n",
    "sizes = list()\n",
    "sizes.append(1000)\n",
    "k = np.mean(results.k[-100:], axis=0)\n",
    "b = k[:, 1]\n",
    "s = k[:, 3]\n",
    "print(s.shape)\n",
    "s_min = np.min(s)\n",
    "s_diff = max(s) - s_min\n",
    "b_min = np.min(b)\n",
    "b_diff = max(b) - b_min\n",
    "\n",
    "for j in range(num_genes):\n",
    "    edge = (p53, m_df.index[j])\n",
    "    colors.append(f'{1-((s[j]-s_min) / s_diff)}')\n",
    "    edges.append(edge)\n",
    "    sizes.append(int(700 + 1700 * (b[j]-b_min)/b_diff))\n",
    "    \n",
    "print(nodes)\n",
    "G.add_nodes_from(nodes)\n",
    "G.add_edges_from(edges)\n",
    "print(G.nodes)\n",
    "nx.draw(G, edge_color=colors, node_color=node_colors, node_size=sizes, with_labels=True)\n",
    "\n",
    "\n",
    "# TODO LOGARITHMIC SCALE EDGES"
   ]
  },
  {
   "cell_type": "code",
   "execution_count": 15,
   "metadata": {},
   "outputs": [
    {
     "name": "stdout",
     "output_type": "stream",
     "text": [
      "(20, 1, 169)\n",
      "1.8029661016949152\n"
     ]
    },
    {
     "data": {
      "image/png": "[encoded data removed]",
      "text/plain": [
       "<Figure size 432x288 with 1 Axes>"
      ]
     },
     "metadata": {
      "needs_background": "light"
     },
     "output_type": "display_data"
    },
    {
     "data": {
      "image/png": "[encoded data removed]",
      "text/plain": [
       "<Figure size 519.255x288 with 1 Axes>"
      ]
     },
     "metadata": {
      "needs_background": "light"
     },
     "output_type": "display_data"
    }
   ],
   "source": [
    "# Plot proteins\n",
    "p_samples = model.sample_proteins(results, 20)[:,0]\n",
    "print(p_samples.shape)\n",
    "plotter.plot_samples(p_samples, [''], 4, color='orangered')\n",
    "plt.xlim(0, 10)\n",
    "plt.ylim(-0.05, 2.5)\n",
    "print(8.51/4.72)\n",
    "plt.figure(figsize=(4*1.80297, 4))\n",
    "p = p_samples[-1]\n",
    "y = [1.5, 4.8, 13.7, 5, 2, 1.4, 3.2, 4, 1.4, 1.5]\n",
    "# y = y/np.mean(y)*np.mean(p) * 1.75-0.16\n",
    "# y = scaler.fit_transform(np.expand_dims(y, 0))\n",
    "plt.plot(t[1:11], y)\n",
    "plt.ylim(0, 15)\n",
    "plt.ylabel('p53 fold change')\n",
    "plt.xlabel('Time (h)')\n",
    "plt.xticks(np.arange(1, 11))\n",
    "plt.yticks(np.arange(0, 16, 5))\n",
    "\n",
    "plt.tight_layout()"
   ]
  },
  {
   "cell_type": "markdown",
   "metadata": {},
   "source": [
    "## Convergence Plots"
   ]
  },
  {
   "cell_type": "code",
   "execution_count": null,
   "metadata": {
    "scrolled": true
   },
   "outputs": [],
   "source": [
    "keys = job[0].acceptance_rates.keys()\n",
    "\n",
    "variables = {key : np.empty((0, T, *job[0].samples[key].get().shape[1:])) for key in keys}\n",
    "\n",
    "for res in job:\n",
    "    for key in keys:\n",
    "        variables[key] = np.append(variables[key], np.expand_dims(res.samples[key].get(), 0), axis=0)\n",
    "\n",
    "plt.plot(variables['L'][:,-100:].T)\n",
    "\n",
    "mixes = {key: arviz.convert_to_inference_data(variables[key]) for key in keys}"
   ]
  },
  {
   "cell_type": "markdown",
   "metadata": {},
   "source": [
    "#### Rhat\n",
    "Rhat is the ratio of posterior variance and within-chain variance. If the ratio exceeds 1.1 then we consider the chains have not mixed well. As the between-chain variance tends to the within-chain then R tends to 1."
   ]
  },
  {
   "cell_type": "code",
   "execution_count": null,
   "metadata": {
    "scrolled": true
   },
   "outputs": [],
   "source": [
    "Rhat = arviz.rhat(mixes['fbar'])\n",
    "\n",
    "Rhats = np.array([np.mean(arviz.rhat(mixes[key]).x.values) for key in keys])\n",
    "\n",
    "rhat_df = pd.DataFrame([[*Rhats], [*(Rhats < 1.1)]], columns=keys)\n",
    "\n",
    "display(rhat_df)"
   ]
  }
 ],
 "metadata": {
  "kernelspec": {
   "display_name": "Python 3.7.6 64-bit",
   "language": "python",
   "name": "python37664bit374b75da0e1b40de8b7922d3f142c01d"
  },
  "language_info": {
   "codemirror_mode": {
    "name": "ipython",
    "version": 3
   },
   "file_extension": ".py",
   "mimetype": "text/x-python",
   "name": "python",
   "nbconvert_exporter": "python",
   "pygments_lexer": "ipython3",
   "version": "3.7.6"
  }
 },
 "nbformat": 4,
 "nbformat_minor": 4
}
