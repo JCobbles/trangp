{
 "cells": [
  {
   "cell_type": "markdown",
   "metadata": {},
   "source": [
    "## Metropolis Hastings Custom HMC MC Algorithm"
   ]
  },
  {
   "cell_type": "code",
   "execution_count": 1,
   "metadata": {
    "scrolled": true
   },
   "outputs": [],
   "source": [
    "from IPython.display import display\n",
    "import matplotlib.pyplot as plt\n",
    "\n",
    "import tensorflow as tf\n",
    "import tensorflow_probability as tfp\n",
    "import numpy as np\n",
    "import pandas as pd\n",
    "import arviz\n",
    "from multiprocessing import Pool\n",
    "\n",
    "np.set_printoptions(formatter={'float': lambda x: \"{0:0.5f}\".format(x)})\n",
    "plt.style.use('ggplot')\n",
    "%matplotlib inline"
   ]
  },
  {
   "cell_type": "code",
   "execution_count": null,
   "metadata": {},
   "outputs": [],
   "source": []
  },
  {
   "cell_type": "code",
   "execution_count": null,
   "metadata": {},
   "outputs": [],
   "source": [
    "\n",
    "### no loop ###\n",
    "\n",
    "def unnormalized_log_prob(x):\n",
    "    return -x - x**2.\n",
    "\n",
    "# Initialize the HMC transition kernel.\n",
    "num_results = int(1e4)\n",
    "num_burnin_steps = int(1e3)\n",
    "adaptive_hmc = tfp.mcmc.NoUTurnSampler(\n",
    "        target_log_prob_fn=unnormalized_log_prob,\n",
    "        step_size=1.)\n",
    "\n",
    "# Run the chain (with burn-in).\n",
    "@tf.function\n",
    "def run_chain():\n",
    "    # Run the chain (with burn-in).\n",
    "    samples, is_accepted = tfp.mcmc.sample_chain(\n",
    "          num_results=num_results,\n",
    "          num_burnin_steps=num_burnin_steps,\n",
    "          current_state=1.,\n",
    "          kernel=adaptive_hmc,\n",
    "          trace_fn=lambda _, pkr: pkr.is_accepted)\n",
    "\n",
    "    sample_mean = tf.reduce_mean(samples)\n",
    "    sample_stddev = tf.math.reduce_std(samples)\n",
    "    is_accepted = tf.reduce_mean(tf.cast(is_accepted, dtype=tf.float32))\n",
    "    return sample_mean, sample_stddev, is_accepted\n",
    "\n",
    "sample_mean, sample_stddev, is_accepted = run_chain()\n",
    "\n",
    "print('mean:{:.4f}  stddev:{:.4f}  acceptance:{:.4f}'.format(\n",
    "    sample_mean.numpy(), sample_stddev.numpy(), is_accepted.numpy()))\n"
   ]
  },
  {
   "cell_type": "code",
   "execution_count": null,
   "metadata": {},
   "outputs": [],
   "source": [
    "# %%time\n",
    "\n",
    "### scalar sent through ###\n",
    "def unnormalized_log_prob(x):\n",
    "    return -x - x**2.\n",
    "\n",
    "# Initialize the HMC transition kernel.\n",
    "num_results = int(1e4)\n",
    "num_burnin_steps = int(1e3)\n",
    "adaptive_hmc = tfp.mcmc.NoUTurnSampler(\n",
    "        target_log_prob_fn=unnormalized_log_prob,\n",
    "        step_size=1.)\n",
    "\n",
    "# Run the chain (with burn-in).\n",
    "@tf.function\n",
    "def run_chain(val):\n",
    "#     tf.print('here', val)\n",
    "    # Run the chain (with burn-in).\n",
    "    return tfp.mcmc.sample_chain(\n",
    "          num_results=1,\n",
    "          num_burnin_steps=0,\n",
    "          current_state=val,\n",
    "          kernel=adaptive_hmc,\n",
    "          trace_fn=lambda _, pkr: pkr.is_accepted)\n",
    "\n",
    "    \n",
    "sample_list = list()\n",
    "sample_list.append([1.])\n",
    "for i in range(num_results):\n",
    "    samples, is_accepted = run_chain(sample_list[i][0])\n",
    "    sample_list.append(samples)\n",
    "    \n"
   ]
  },
  {
   "cell_type": "code",
   "execution_count": null,
   "metadata": {},
   "outputs": [],
   "source": [
    "samples = np.array(sample_list)\n",
    "print(samples.shape)\n",
    "sample_mean = tf.reduce_mean(samples)\n",
    "sample_stddev = tf.math.reduce_std(samples)\n",
    "is_accepted = tf.reduce_mean(tf.cast(is_accepted, dtype=tf.float32))\n",
    "\n",
    "\n",
    "print('mean:{:.4f}  stddev:{:.4f}  acceptance:{:.4f}'.format(\n",
    "    sample_mean.numpy(), sample_stddev.numpy(), is_accepted.numpy()))\n"
   ]
  }
 ],
 "metadata": {
  "kernelspec": {
   "display_name": "Python 3.7.6 64-bit",
   "language": "python",
   "name": "python37664bit374b75da0e1b40de8b7922d3f142c01d"
  },
  "language_info": {
   "codemirror_mode": {
    "name": "ipython",
    "version": 3
   },
   "file_extension": ".py",
   "mimetype": "text/x-python",
   "name": "python",
   "nbconvert_exporter": "python",
   "pygments_lexer": "ipython3",
   "version": "3.7.6"
  }
 },
 "nbformat": 4,
 "nbformat_minor": 4
}
