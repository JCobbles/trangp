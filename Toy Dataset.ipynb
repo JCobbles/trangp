{
 "cells": [
  {
   "cell_type": "code",
   "execution_count": null,
   "metadata": {},
   "outputs": [],
   "source": [
    "from reggae.models import TranscriptionLikelihood, Options\n",
    "from reggae.data_loaders import load_barenco_puma, load_3day_dros, DataHolder, scaled_barenco_data\n",
    "from reggae.utilities import get_rbf_dist, discretise, logit, logistic\n",
    "from scipy.interpolate import interp1d\n",
    "from sklearn import preprocessing\n",
    "\n",
    "import tensorflow as tf\n",
    "from tensorflow import math as tfm\n",
    "import numpy as np\n",
    "from matplotlib import pyplot as plt\n",
    "\n",
    "np.set_printoptions(formatter={'float': lambda x: \"{0:0.5f}\".format(x)})\n",
    "plt.style.use('ggplot')\n",
    "%matplotlib inline\n",
    "f64 = np.float64\n"
   ]
  },
  {
   "cell_type": "code",
   "execution_count": null,
   "metadata": {},
   "outputs": [],
   "source": [
    "m_observed, f_observed, σ2_m_pre, σ2_f_pre, t = load_barenco_puma()\n",
    "\n",
    "# m_observed, f_observed, t = load_3day_dros()\n",
    "\n",
    "replicate = 0\n",
    "\n",
    "m_df, m_observed = m_observed \n",
    "f_df, f_observed = f_observed\n",
    "\n",
    "# Shape of m_observed = (replicates, genes, times)\n",
    "m_observed = m_observed[replicate]\n",
    "f_observed = np.atleast_2d(f_observed[replicate])\n",
    "σ2_m_pre = σ2_m_pre[0]\n",
    "σ2_f_pre = σ2_f_pre[0]\n",
    "\n",
    "num_genes = m_observed.shape[0]\n",
    "t = np.arange(10)\n",
    "τ, common_indices = discretise(t)\n",
    "\n",
    "N_p = τ.shape[0]\n",
    "N_m = m_observed.shape[1]\n",
    "\n",
    "f_observed = tf.stack([f_observed[0], f_observed[0], f_observed[0]])\n",
    "\n",
    "data = (m_observed, f_observed)\n",
    "noise_data = (σ2_m_pre, σ2_f_pre)\n",
    "time = (t, τ, (common_indices))\n",
    "\n",
    "data = DataHolder(data, noise_data, time)\n",
    "N_p = τ.shape[0]\n",
    "\n",
    "opt = Options(preprocessing_variance=True, tf_mrna_present=True)\n",
    "lik = TranscriptionLikelihood(data, opt)\n",
    "num_tfs = 3"
   ]
  },
  {
   "cell_type": "code",
   "execution_count": null,
   "metadata": {},
   "outputs": [],
   "source": [
    "# Transcription factor\n",
    "\n",
    "A = np.array([0.01, 0.3, 0.47, 0.51, 0.4, 0.37, 0.47, 0.32, 0.16, 0.025])\n",
    "B = np.array([0.01, 0.1, 0.22, 0.44, 0.53, 0.41, 0.23, 0.13, 0.05, 0.013])\n",
    "C = np.array([0.01, 0.02, 0.03, 0.05, 0.08, 0.16, 0.4, 0.35, 0.23, 0.02])\n",
    "interp = interp1d(np.arange(A.shape[0]), A, kind='cubic')\n",
    "A = interp(np.linspace(0,9, τ.shape[0]))\n",
    "interp = interp1d(np.arange(B.shape[0]), B, kind='cubic')\n",
    "B = interp(np.linspace(0,9, τ.shape[0]))\n",
    "interp = interp1d(np.arange(C.shape[0]), C, kind='cubic')\n",
    "C = interp(np.linspace(0,9, τ.shape[0]))\n",
    "\n",
    "δbar = logistic(f64(np.array([1.5, 1.5, 1.5])))\n",
    "\n",
    "fbar = np.array([A, B, C])\n",
    "fbar = 5*preprocessing.normalize(fbar)\n",
    "print(fbar.shape)\n",
    "tf_labels = ['A', 'B', 'C']\n",
    "plt.title('TFs')\n",
    "for i in range(num_tfs):\n",
    "    plt.plot(np.arange(τ.shape[0]), fbar[i], label=f'TF {i}')\n",
    "plt.legend()\n",
    "\n",
    "fbar = tfm.log((tfm.exp(fbar)-1))\n",
    "\n",
    "plt.figure()\n",
    "plt.title('TF Proteins')\n",
    "\n",
    "f_i = tfm.log(1+tfm.exp(fbar))\n",
    "f = tfm.log(1+tfm.exp(fbar[0]))\n",
    "\n",
    "p = lik.calculate_protein(fbar, δbar)\n",
    "\n",
    "for i in range(num_tfs):\n",
    "    plt.plot(p[i], label=f'Protein {i}')\n",
    "plt.legend()"
   ]
  },
  {
   "cell_type": "code",
   "execution_count": null,
   "metadata": {},
   "outputs": [],
   "source": [
    "# Kinetic parameters\n",
    "#   [[initial, base, sens, decay]]\n"
   ]
  },
  {
   "cell_type": "code",
   "execution_count": null,
   "metadata": {
    "scrolled": false
   },
   "outputs": [],
   "source": [
    "w = 1*tf.ones((num_genes, num_tfs), dtype='float64') # TODO\n",
    "w_0 = tf.zeros(num_genes, dtype='float64') # TODO\n",
    "kbar = logistic(np.array([[0.2061, 0.2475, 0.8222, 4.0416],\n",
    "                       [0.4091, 0.7305, 0.9486, 2.2348],\n",
    "                       [0.1304, 0.3921, 2.3116, 7.1835],\n",
    "                       [0.3789, 0.2861, 1.2456, 0.9928],\n",
    "                       [0.2906, 0.6604, 0.8742, 4.1688]]))\n",
    "print(kbar)\n",
    "m_pred = lik.predict_m(kbar, δbar, w, fbar, w_0)\n",
    "# m_pred2 = lik2.predict_m(kbar, δbar[0], w, fbar[0], w_0)\n",
    "\n",
    "print(m_pred.shape)\n",
    "plt.figure(figsize=(14, 10))\n",
    "for j in range(num_genes):\n",
    "    plt.subplot(num_genes*100+21+j)\n",
    "    plt.title(f'Gene {j}')\n",
    "    plt.plot(m_pred[j], color='grey')\n",
    "    \n",
    "plt.tight_layout()\n",
    "# plt.figure(figsize=((10, 5)))\n",
    "# for j in range(num_genes):\n",
    "#     plt.plot(m_pred2[j], label=j)\n"
   ]
  },
  {
   "cell_type": "raw",
   "metadata": {},
   "source": []
  },
  {
   "cell_type": "raw",
   "metadata": {},
   "source": []
  }
 ],
 "metadata": {
  "kernelspec": {
   "display_name": "Python 3.7.6 64-bit",
   "language": "python",
   "name": "python37664bit374b75da0e1b40de8b7922d3f142c01d"
  },
  "language_info": {
   "codemirror_mode": {
    "name": "ipython",
    "version": 3
   },
   "file_extension": ".py",
   "mimetype": "text/x-python",
   "name": "python",
   "nbconvert_exporter": "python",
   "pygments_lexer": "ipython3",
   "version": "3.7.6"
  }
 },
 "nbformat": 4,
 "nbformat_minor": 4
}
