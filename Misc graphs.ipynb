{
 "cells": [
  {
   "cell_type": "code",
   "execution_count": null,
   "metadata": {},
   "outputs": [],
   "source": [
    "import tensorflow as tf\n",
    "tf.config.set_visible_devices([], 'GPU')\n",
    "\n",
    "from tensorflow import math as tfm\n",
    "from tensorflow_probability import distributions as tfd\n",
    "import tensorflow_probability as tfp\n",
    "from reggae.data_loaders import scaled_barenco_data\n",
    "from scipy.interpolate import interp1d\n",
    "from sklearn import preprocessing\n",
    "\n",
    "import pandas as pd\n",
    "import numpy as np\n",
    "from matplotlib import pyplot as plt\n",
    "\n",
    "np.set_printoptions(formatter={'float': lambda x: \"{0:0.5f}\".format(x)})\n",
    "plt.style.use('ggplot')\n",
    "%matplotlib inline\n",
    "f64 = np.float64\n"
   ]
  },
  {
   "cell_type": "code",
   "execution_count": null,
   "metadata": {},
   "outputs": [],
   "source": [
    "# Transcription factor\n",
    "A = np.array([0, 0.9, 1.9, 2.6, 2.7, 2.15, 1.3, 0.5, 0.15, 0.2, 0.6, 0.95, 1.1])\n",
    "interp = interp1d(np.arange(A.shape[0]), A, kind='cubic')\n",
    "A = interp(np.linspace(0,A.shape[0]-1, 100))\n",
    "f_b, _ = scaled_barenco_data(A)\n",
    "print(f_b.shape,np.arange(0, 12, 2).shape)\n",
    "plt.figure(figsize=(6, 4))\n",
    "plt.plot(np.linspace(0, 12, 100), A, c='grey', label='Gao et al.')\n",
    "plt.scatter(np.arange(0, 13, 2), 0.85*f_b, marker='x', color='cadetblue', label='Barenco et al.')\n",
    "plt.xlabel('Time (h)')\n",
    "plt.ylim(-0.2, 3.1)\n",
    "plt.legend()"
   ]
  },
  {
   "cell_type": "code",
   "execution_count": null,
   "metadata": {},
   "outputs": [],
   "source": []
  }
 ],
 "metadata": {
  "kernelspec": {
   "display_name": "Python 3.7.6 64-bit",
   "language": "python",
   "name": "python37664bit374b75da0e1b40de8b7922d3f142c01d"
  },
  "language_info": {
   "codemirror_mode": {
    "name": "ipython",
    "version": 3
   },
   "file_extension": ".py",
   "mimetype": "text/x-python",
   "name": "python",
   "nbconvert_exporter": "python",
   "pygments_lexer": "ipython3",
   "version": "3.7.6"
  }
 },
 "nbformat": 4,
 "nbformat_minor": 4
}
