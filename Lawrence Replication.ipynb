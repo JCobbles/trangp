{
 "cells": [
  {
   "cell_type": "code",
   "execution_count": 1,
   "metadata": {},
   "outputs": [],
   "source": [
    "import csv\n",
    "import pandas as pd\n",
    "import matplotlib.pyplot as plt\n",
    "import numpy as np\n",
    "import gpflow\n",
    "from gpflow.utilities import print_summary, positive\n",
    "plt.style.use('ggplot')\n",
    "%matplotlib inline\n",
    "import tensorflow as tf\n",
    "import math\n",
    "from tensorflow import math as tm\n",
    "from sklearn import preprocessing\n",
    "from tensorflow_probability import bijectors as tfb\n",
    "\n",
    "PI = tf.constant(math.pi, dtype='float64')"
   ]
  },
  {
   "cell_type": "markdown",
   "metadata": {},
   "source": [
    "# Replication of the paper by Lawrence et al., 2006\n",
    "\n",
    "https://papers.nips.cc/paper/3119-modelling-transcriptional-regulation-using-gaussian-processes.pdf\n",
    "\n",
    "#### Probesets\n",
    "\n",
    "The original paper restricted their interest to 5 known targets of p53: \n",
    "- DDB2 -------------- (probeset 203409_at)\n",
    "- p21 ----------------- (probeset 202284_s_at) (alias p21CIP1, CDKN1A)\n",
    "- SESN1/hPA26 -- (probeset 218346_s_at)\n",
    "- BIK ----------------- (probeset 205780_at)\n",
    "- TNFRSF10b ----- (probeset 209294_x_at, 209295_at, 210405_x_at)"
   ]
  },
  {
   "cell_type": "code",
   "execution_count": 2,
   "metadata": {
    "scrolled": false
   },
   "outputs": [
    {
     "name": "stderr",
     "output_type": "stream",
     "text": [
      "c:\\users\\jacob\\appdata\\local\\programs\\python\\python37\\lib\\site-packages\\IPython\\core\\interactiveshell.py:3063: DtypeWarning: Columns (2,3,4,6,8,9,10,12,14,15,16,18,20,21,22,24,26,27,28,30,32,33,34,36,38,39,40,42,44,45,46,48,50,51,52,54,56,57,58,60,62,63,64,66,68,69,70,72,74,75,76,78,80,81,82,84,86,87,88,90,92,93,94,96,98,99,100,102,104,105,106,108,110,111,112,114,116,117,118,120,122,123,124,126) have mixed types.Specify dtype option on import or set low_memory=False.\n",
      "  interactivity=interactivity, compiler=compiler, result=result)\n"
     ]
    },
    {
     "data": {
      "text/html": [
       "<div>\n",
       "<style scoped>\n",
       "    .dataframe tbody tr th:only-of-type {\n",
       "        vertical-align: middle;\n",
       "    }\n",
       "\n",
       "    .dataframe tbody tr th {\n",
       "        vertical-align: top;\n",
       "    }\n",
       "\n",
       "    .dataframe thead th {\n",
       "        text-align: right;\n",
       "    }\n",
       "</style>\n",
       "<table border=\"1\" class=\"dataframe\">\n",
       "  <thead>\n",
       "    <tr style=\"text-align: right;\">\n",
       "      <th></th>\n",
       "      <th>H_ARP1-0h</th>\n",
       "      <th>H_ARP1-0h.1</th>\n",
       "      <th>H_ARP1-0h.2</th>\n",
       "      <th>H_ARP1-0h.3</th>\n",
       "      <th>H_ARP1-0h.4</th>\n",
       "      <th>H_ARP1-0h.5</th>\n",
       "      <th>H_ARP1-2h</th>\n",
       "      <th>H_ARP1-2h.1</th>\n",
       "      <th>H_ARP1-2h.2</th>\n",
       "      <th>H_ARP1-2h.3</th>\n",
       "      <th>...</th>\n",
       "      <th>H_ARP3-10h.2</th>\n",
       "      <th>H_ARP3-10h.3</th>\n",
       "      <th>H_ARP3-10h.4</th>\n",
       "      <th>H_ARP3-10h.5</th>\n",
       "      <th>H_ARP3-12h</th>\n",
       "      <th>H_ARP3-12h.1</th>\n",
       "      <th>H_ARP3-12h.2</th>\n",
       "      <th>H_ARP3-12h.3</th>\n",
       "      <th>H_ARP3-12h.4</th>\n",
       "      <th>H_ARP3-12h.5</th>\n",
       "    </tr>\n",
       "    <tr>\n",
       "      <th>Scan REF</th>\n",
       "      <th></th>\n",
       "      <th></th>\n",
       "      <th></th>\n",
       "      <th></th>\n",
       "      <th></th>\n",
       "      <th></th>\n",
       "      <th></th>\n",
       "      <th></th>\n",
       "      <th></th>\n",
       "      <th></th>\n",
       "      <th></th>\n",
       "      <th></th>\n",
       "      <th></th>\n",
       "      <th></th>\n",
       "      <th></th>\n",
       "      <th></th>\n",
       "      <th></th>\n",
       "      <th></th>\n",
       "      <th></th>\n",
       "      <th></th>\n",
       "      <th></th>\n",
       "    </tr>\n",
       "  </thead>\n",
       "  <tbody>\n",
       "    <tr>\n",
       "      <th>Composite Element REF</th>\n",
       "      <td>Affymetrix:CHPProbeSetName</td>\n",
       "      <td>Affymetrix:CHPPairs</td>\n",
       "      <td>Affymetrix:CHPPairsUsed</td>\n",
       "      <td>Affymetrix:CHPSignal</td>\n",
       "      <td>Affymetrix:CHPDetection</td>\n",
       "      <td>Affymetrix:CHPDetectionPvalue</td>\n",
       "      <td>Affymetrix:CHPProbeSetName</td>\n",
       "      <td>Affymetrix:CHPPairs</td>\n",
       "      <td>Affymetrix:CHPPairsUsed</td>\n",
       "      <td>Affymetrix:CHPSignal</td>\n",
       "      <td>...</td>\n",
       "      <td>Affymetrix:CHPPairsUsed</td>\n",
       "      <td>Affymetrix:CHPSignal</td>\n",
       "      <td>Affymetrix:CHPDetection</td>\n",
       "      <td>Affymetrix:CHPDetectionPvalue</td>\n",
       "      <td>Affymetrix:CHPProbeSetName</td>\n",
       "      <td>Affymetrix:CHPPairs</td>\n",
       "      <td>Affymetrix:CHPPairsUsed</td>\n",
       "      <td>Affymetrix:CHPSignal</td>\n",
       "      <td>Affymetrix:CHPDetection</td>\n",
       "      <td>Affymetrix:CHPDetectionPvalue</td>\n",
       "    </tr>\n",
       "    <tr>\n",
       "      <th>AFFX-BioB-5_at</th>\n",
       "      <td>AFFX-BioB-5_at</td>\n",
       "      <td>20</td>\n",
       "      <td>20</td>\n",
       "      <td>131.7</td>\n",
       "      <td>Present</td>\n",
       "      <td>0.00039</td>\n",
       "      <td>AFFX-BioB-5_at</td>\n",
       "      <td>20</td>\n",
       "      <td>20</td>\n",
       "      <td>140.3</td>\n",
       "      <td>...</td>\n",
       "      <td>20</td>\n",
       "      <td>456.9</td>\n",
       "      <td>Present</td>\n",
       "      <td>0.00022</td>\n",
       "      <td>AFFX-BioB-5_at</td>\n",
       "      <td>20</td>\n",
       "      <td>20</td>\n",
       "      <td>410.1</td>\n",
       "      <td>Present</td>\n",
       "      <td>0.00017</td>\n",
       "    </tr>\n",
       "    <tr>\n",
       "      <th>AFFX-BioB-M_at</th>\n",
       "      <td>AFFX-BioB-M_at</td>\n",
       "      <td>20</td>\n",
       "      <td>20</td>\n",
       "      <td>260.6</td>\n",
       "      <td>Present</td>\n",
       "      <td>5.00E-05</td>\n",
       "      <td>AFFX-BioB-M_at</td>\n",
       "      <td>20</td>\n",
       "      <td>20</td>\n",
       "      <td>274.7</td>\n",
       "      <td>...</td>\n",
       "      <td>20</td>\n",
       "      <td>1210.7</td>\n",
       "      <td>Present</td>\n",
       "      <td>4.00E-05</td>\n",
       "      <td>AFFX-BioB-M_at</td>\n",
       "      <td>20</td>\n",
       "      <td>20</td>\n",
       "      <td>1102.9</td>\n",
       "      <td>Present</td>\n",
       "      <td>4.00E-05</td>\n",
       "    </tr>\n",
       "    <tr>\n",
       "      <th>AFFX-BioB-3_at</th>\n",
       "      <td>AFFX-BioB-3_at</td>\n",
       "      <td>20</td>\n",
       "      <td>20</td>\n",
       "      <td>142.7</td>\n",
       "      <td>Present</td>\n",
       "      <td>8.00E-05</td>\n",
       "      <td>AFFX-BioB-3_at</td>\n",
       "      <td>20</td>\n",
       "      <td>20</td>\n",
       "      <td>159.5</td>\n",
       "      <td>...</td>\n",
       "      <td>20</td>\n",
       "      <td>693.8</td>\n",
       "      <td>Present</td>\n",
       "      <td>5.00E-05</td>\n",
       "      <td>AFFX-BioB-3_at</td>\n",
       "      <td>20</td>\n",
       "      <td>20</td>\n",
       "      <td>560.1</td>\n",
       "      <td>Present</td>\n",
       "      <td>5.00E-05</td>\n",
       "    </tr>\n",
       "    <tr>\n",
       "      <th>AFFX-BioC-5_at</th>\n",
       "      <td>AFFX-BioC-5_at</td>\n",
       "      <td>20</td>\n",
       "      <td>20</td>\n",
       "      <td>348.8</td>\n",
       "      <td>Present</td>\n",
       "      <td>7.00E-05</td>\n",
       "      <td>AFFX-BioC-5_at</td>\n",
       "      <td>20</td>\n",
       "      <td>20</td>\n",
       "      <td>396.4</td>\n",
       "      <td>...</td>\n",
       "      <td>20</td>\n",
       "      <td>1324.1</td>\n",
       "      <td>Present</td>\n",
       "      <td>4.00E-05</td>\n",
       "      <td>AFFX-BioC-5_at</td>\n",
       "      <td>20</td>\n",
       "      <td>20</td>\n",
       "      <td>1052.6</td>\n",
       "      <td>Present</td>\n",
       "      <td>5.00E-05</td>\n",
       "    </tr>\n",
       "  </tbody>\n",
       "</table>\n",
       "<p>5 rows × 126 columns</p>\n",
       "</div>"
      ],
      "text/plain": [
       "                                        H_ARP1-0h          H_ARP1-0h.1  \\\n",
       "Scan REF                                                                 \n",
       "Composite Element REF  Affymetrix:CHPProbeSetName  Affymetrix:CHPPairs   \n",
       "AFFX-BioB-5_at                     AFFX-BioB-5_at                   20   \n",
       "AFFX-BioB-M_at                     AFFX-BioB-M_at                   20   \n",
       "AFFX-BioB-3_at                     AFFX-BioB-3_at                   20   \n",
       "AFFX-BioC-5_at                     AFFX-BioC-5_at                   20   \n",
       "\n",
       "                                   H_ARP1-0h.2           H_ARP1-0h.3  \\\n",
       "Scan REF                                                               \n",
       "Composite Element REF  Affymetrix:CHPPairsUsed  Affymetrix:CHPSignal   \n",
       "AFFX-BioB-5_at                              20                 131.7   \n",
       "AFFX-BioB-M_at                              20                 260.6   \n",
       "AFFX-BioB-3_at                              20                 142.7   \n",
       "AFFX-BioC-5_at                              20                 348.8   \n",
       "\n",
       "                                   H_ARP1-0h.4                    H_ARP1-0h.5  \\\n",
       "Scan REF                                                                        \n",
       "Composite Element REF  Affymetrix:CHPDetection  Affymetrix:CHPDetectionPvalue   \n",
       "AFFX-BioB-5_at                         Present                        0.00039   \n",
       "AFFX-BioB-M_at                         Present                       5.00E-05   \n",
       "AFFX-BioB-3_at                         Present                       8.00E-05   \n",
       "AFFX-BioC-5_at                         Present                       7.00E-05   \n",
       "\n",
       "                                        H_ARP1-2h          H_ARP1-2h.1  \\\n",
       "Scan REF                                                                 \n",
       "Composite Element REF  Affymetrix:CHPProbeSetName  Affymetrix:CHPPairs   \n",
       "AFFX-BioB-5_at                     AFFX-BioB-5_at                   20   \n",
       "AFFX-BioB-M_at                     AFFX-BioB-M_at                   20   \n",
       "AFFX-BioB-3_at                     AFFX-BioB-3_at                   20   \n",
       "AFFX-BioC-5_at                     AFFX-BioC-5_at                   20   \n",
       "\n",
       "                                   H_ARP1-2h.2           H_ARP1-2h.3  ...  \\\n",
       "Scan REF                                                              ...   \n",
       "Composite Element REF  Affymetrix:CHPPairsUsed  Affymetrix:CHPSignal  ...   \n",
       "AFFX-BioB-5_at                              20                 140.3  ...   \n",
       "AFFX-BioB-M_at                              20                 274.7  ...   \n",
       "AFFX-BioB-3_at                              20                 159.5  ...   \n",
       "AFFX-BioC-5_at                              20                 396.4  ...   \n",
       "\n",
       "                                  H_ARP3-10h.2          H_ARP3-10h.3  \\\n",
       "Scan REF                                                               \n",
       "Composite Element REF  Affymetrix:CHPPairsUsed  Affymetrix:CHPSignal   \n",
       "AFFX-BioB-5_at                              20                 456.9   \n",
       "AFFX-BioB-M_at                              20                1210.7   \n",
       "AFFX-BioB-3_at                              20                 693.8   \n",
       "AFFX-BioC-5_at                              20                1324.1   \n",
       "\n",
       "                                  H_ARP3-10h.4                   H_ARP3-10h.5  \\\n",
       "Scan REF                                                                        \n",
       "Composite Element REF  Affymetrix:CHPDetection  Affymetrix:CHPDetectionPvalue   \n",
       "AFFX-BioB-5_at                         Present                        0.00022   \n",
       "AFFX-BioB-M_at                         Present                       4.00E-05   \n",
       "AFFX-BioB-3_at                         Present                       5.00E-05   \n",
       "AFFX-BioC-5_at                         Present                       4.00E-05   \n",
       "\n",
       "                                       H_ARP3-12h         H_ARP3-12h.1  \\\n",
       "Scan REF                                                                 \n",
       "Composite Element REF  Affymetrix:CHPProbeSetName  Affymetrix:CHPPairs   \n",
       "AFFX-BioB-5_at                     AFFX-BioB-5_at                   20   \n",
       "AFFX-BioB-M_at                     AFFX-BioB-M_at                   20   \n",
       "AFFX-BioB-3_at                     AFFX-BioB-3_at                   20   \n",
       "AFFX-BioC-5_at                     AFFX-BioC-5_at                   20   \n",
       "\n",
       "                                  H_ARP3-12h.2          H_ARP3-12h.3  \\\n",
       "Scan REF                                                               \n",
       "Composite Element REF  Affymetrix:CHPPairsUsed  Affymetrix:CHPSignal   \n",
       "AFFX-BioB-5_at                              20                 410.1   \n",
       "AFFX-BioB-M_at                              20                1102.9   \n",
       "AFFX-BioB-3_at                              20                 560.1   \n",
       "AFFX-BioC-5_at                              20                1052.6   \n",
       "\n",
       "                                  H_ARP3-12h.4                   H_ARP3-12h.5  \n",
       "Scan REF                                                                       \n",
       "Composite Element REF  Affymetrix:CHPDetection  Affymetrix:CHPDetectionPvalue  \n",
       "AFFX-BioB-5_at                         Present                        0.00017  \n",
       "AFFX-BioB-M_at                         Present                       4.00E-05  \n",
       "AFFX-BioB-3_at                         Present                       5.00E-05  \n",
       "AFFX-BioC-5_at                         Present                       5.00E-05  \n",
       "\n",
       "[5 rows x 126 columns]"
      ]
     },
     "metadata": {},
     "output_type": "display_data"
    }
   ],
   "source": [
    "with open('barenco_processed.tsv', 'r') as f:\n",
    "    index = 0\n",
    "    df = pd.read_csv(f, delimiter='\\t', index_col=0)\n",
    "display(df.head(5))\n",
    "columns = ['H_ARP1-0h.3', 'H_ARP1-2h.3', 'H_ARP1-4h.3', 'H_ARP1-6h.3', 'H_ARP1-8h.3', 'H_ARP1-10h.3', 'H_ARP1-12h.3']"
   ]
  },
  {
   "cell_type": "code",
   "execution_count": 3,
   "metadata": {},
   "outputs": [],
   "source": [
    "assert df[df.duplicated()].size == 0"
   ]
  },
  {
   "cell_type": "markdown",
   "metadata": {},
   "source": [
    "### Probeset Combination\n",
    "\n",
    "TNFRSF10b has multiple probesets (probeset 209294_x_at, 209295_at, 210405_x_at) which should be combined.\n",
    "\n",
    "It can be observed below that the log intensities have a similar pattern. Thus a popular way to combine is to take the average of the log intensities."
   ]
  },
  {
   "cell_type": "code",
   "execution_count": 4,
   "metadata": {},
   "outputs": [
    {
     "name": "stdout",
     "output_type": "stream",
     "text": [
      "[8.8, 38.5, 61.2, 59.8, 60.6, 41.7, 22.1]\n",
      "[34.2, 171.9, 220.3, 236.4, 302.5, 181.6, 152.9]\n",
      "[5.8, 12.2, 53.6, 52.3, 67.6, 37.5, 23.7]\n"
     ]
    },
    {
     "data": {
      "image/png": "[encoded data removed]",
      "text/plain": [
       "<Figure size 720x504 with 2 Axes>"
      ]
     },
     "metadata": {
      "needs_background": "light"
     },
     "output_type": "display_data"
    }
   ],
   "source": [
    "known_target_genes = ['203409_at', '202284_s_at', '218346_s_at', '205780_at', '209295_at']\n",
    "genes = df[df.index.isin(known_target_genes)][columns]\n",
    "\n",
    "plt.figure(figsize=(10,7))\n",
    "plt.subplot(2,2,1)\n",
    "p53 = df[df.index.isin(['211300_s_at', '201746_at'])][columns].astype(float)\n",
    "for index, row in p53.iterrows():\n",
    "    p53.loc[index] = np.log(list(row))\n",
    "    plt.plot(list(row))\n",
    "\n",
    "p53_mean = pd.Series(p53.mean(0), index=genes.columns, name='p53')\n",
    "\n",
    "plt.subplot(2,2,2)\n",
    "TNFRSF10b = df[df.index.isin(['209294_x_at', '209295_at', '210405_x_at'])][columns]\n",
    "for index, row in TNFRSF10b.iterrows():\n",
    "    print(list(row))\n",
    "    TNFRSF10b.loc[index] = np.log(list(row))\n",
    "    plt.plot(list(row))\n",
    "\n",
    "TNFRSF10b_mean = pd.Series(TNFRSF10b.mean(0), index=genes.columns, name='TNFRSF10b')"
   ]
  },
  {
   "cell_type": "code",
   "execution_count": 5,
   "metadata": {},
   "outputs": [
    {
     "data": {
      "text/html": [
       "<div>\n",
       "<style scoped>\n",
       "    .dataframe tbody tr th:only-of-type {\n",
       "        vertical-align: middle;\n",
       "    }\n",
       "\n",
       "    .dataframe tbody tr th {\n",
       "        vertical-align: top;\n",
       "    }\n",
       "\n",
       "    .dataframe thead th {\n",
       "        text-align: right;\n",
       "    }\n",
       "</style>\n",
       "<table border=\"1\" class=\"dataframe\">\n",
       "  <thead>\n",
       "    <tr style=\"text-align: right;\">\n",
       "      <th></th>\n",
       "      <th>H_ARP1-0h.3</th>\n",
       "      <th>H_ARP1-2h.3</th>\n",
       "      <th>H_ARP1-4h.3</th>\n",
       "      <th>H_ARP1-6h.3</th>\n",
       "      <th>H_ARP1-8h.3</th>\n",
       "      <th>H_ARP1-10h.3</th>\n",
       "      <th>H_ARP1-12h.3</th>\n",
       "    </tr>\n",
       "    <tr>\n",
       "      <th>Scan REF</th>\n",
       "      <th></th>\n",
       "      <th></th>\n",
       "      <th></th>\n",
       "      <th></th>\n",
       "      <th></th>\n",
       "      <th></th>\n",
       "      <th></th>\n",
       "    </tr>\n",
       "  </thead>\n",
       "  <tbody>\n",
       "    <tr>\n",
       "      <th>p21</th>\n",
       "      <td>6.90000</td>\n",
       "      <td>175.400000</td>\n",
       "      <td>401.300000</td>\n",
       "      <td>289.200000</td>\n",
       "      <td>303.800000</td>\n",
       "      <td>157.300000</td>\n",
       "      <td>153.500000</td>\n",
       "    </tr>\n",
       "    <tr>\n",
       "      <th>DDB2</th>\n",
       "      <td>248.40000</td>\n",
       "      <td>723.100000</td>\n",
       "      <td>1059.000000</td>\n",
       "      <td>1328.200000</td>\n",
       "      <td>1471.400000</td>\n",
       "      <td>946.200000</td>\n",
       "      <td>952.000000</td>\n",
       "    </tr>\n",
       "    <tr>\n",
       "      <th>BIK</th>\n",
       "      <td>55.00000</td>\n",
       "      <td>161.200000</td>\n",
       "      <td>306.200000</td>\n",
       "      <td>354.300000</td>\n",
       "      <td>351.600000</td>\n",
       "      <td>170.900000</td>\n",
       "      <td>215.900000</td>\n",
       "    </tr>\n",
       "    <tr>\n",
       "      <th>TNFRSF10b</th>\n",
       "      <td>34.20000</td>\n",
       "      <td>171.900000</td>\n",
       "      <td>220.300000</td>\n",
       "      <td>236.400000</td>\n",
       "      <td>302.500000</td>\n",
       "      <td>181.600000</td>\n",
       "      <td>152.900000</td>\n",
       "    </tr>\n",
       "    <tr>\n",
       "      <th>SESN1</th>\n",
       "      <td>100.60000</td>\n",
       "      <td>209.100000</td>\n",
       "      <td>296.000000</td>\n",
       "      <td>314.900000</td>\n",
       "      <td>397.100000</td>\n",
       "      <td>209.500000</td>\n",
       "      <td>212.700000</td>\n",
       "    </tr>\n",
       "    <tr>\n",
       "      <th>p53</th>\n",
       "      <td>4.43458</td>\n",
       "      <td>4.811916</td>\n",
       "      <td>4.694975</td>\n",
       "      <td>4.515713</td>\n",
       "      <td>4.658209</td>\n",
       "      <td>4.162083</td>\n",
       "      <td>3.913238</td>\n",
       "    </tr>\n",
       "  </tbody>\n",
       "</table>\n",
       "</div>"
      ],
      "text/plain": [
       "           H_ARP1-0h.3  H_ARP1-2h.3  H_ARP1-4h.3  H_ARP1-6h.3  H_ARP1-8h.3  \\\n",
       "Scan REF                                                                     \n",
       "p21            6.90000   175.400000   401.300000   289.200000   303.800000   \n",
       "DDB2         248.40000   723.100000  1059.000000  1328.200000  1471.400000   \n",
       "BIK           55.00000   161.200000   306.200000   354.300000   351.600000   \n",
       "TNFRSF10b     34.20000   171.900000   220.300000   236.400000   302.500000   \n",
       "SESN1        100.60000   209.100000   296.000000   314.900000   397.100000   \n",
       "p53            4.43458     4.811916     4.694975     4.515713     4.658209   \n",
       "\n",
       "           H_ARP1-10h.3  H_ARP1-12h.3  \n",
       "Scan REF                               \n",
       "p21          157.300000    153.500000  \n",
       "DDB2         946.200000    952.000000  \n",
       "BIK          170.900000    215.900000  \n",
       "TNFRSF10b    181.600000    152.900000  \n",
       "SESN1        209.500000    212.700000  \n",
       "p53            4.162083      3.913238  "
      ]
     },
     "metadata": {},
     "output_type": "display_data"
    }
   ],
   "source": [
    "genes.rename(index={\n",
    "    '203409_at': 'DDB2', \n",
    "    '202284_s_at': 'p21',\n",
    "    '218346_s_at': 'SESN1',\n",
    "    '205780_at': 'BIK',\n",
    "    '209295_at': 'TNFRSF10b'\n",
    "}, inplace=True)\n",
    "\n",
    "# genes = genes.append(TNFRSF10b_mean, ignore_index=False)\n",
    "genes = genes.append(p53_mean, ignore_index=False).astype(np.float64)\n",
    "#print(genes.loc[genes['Scan REF'] == pd.nan, 'Scan REF'])# = 'test'\n",
    "display(genes)"
   ]
  },
  {
   "cell_type": "code",
   "execution_count": 6,
   "metadata": {},
   "outputs": [
    {
     "data": {
      "text/plain": [
       "[<matplotlib.lines.Line2D at 0x214b0a58fc8>]"
      ]
     },
     "execution_count": 6,
     "metadata": {},
     "output_type": "execute_result"
    },
    {
     "data": {
      "image/png": "[encoded data removed]",
      "text/plain": [
       "<Figure size 432x288 with 1 Axes>"
      ]
     },
     "metadata": {
      "needs_background": "light"
     },
     "output_type": "display_data"
    }
   ],
   "source": [
    "plt.plot(genes[genes.index == 'p53'].values[0])"
   ]
  },
  {
   "cell_type": "markdown",
   "metadata": {},
   "source": [
    "### Scale data"
   ]
  },
  {
   "cell_type": "code",
   "execution_count": 7,
   "metadata": {},
   "outputs": [
    {
     "name": "stdout",
     "output_type": "stream",
     "text": [
      "[ 0.  2.  4.  6.  8. 10. 12.  0.  2.  4.  6.  8. 10. 12.  0.  2.  4.  6.\n",
      "  8. 10. 12.  0.  2.  4.  6.  8. 10. 12.  0.  2.  4.  6.  8. 10. 12.]\n",
      "[[-1.02489572]\n",
      " [-0.54628914]\n",
      " [ 0.09535612]\n",
      " [-0.22305217]\n",
      " [-0.1815824 ]\n",
      " [-0.59770029]\n",
      " [-0.60849379]\n",
      " [-0.33894029]\n",
      " [ 1.00939528]\n",
      " [ 1.96348401]\n",
      " [ 2.72811838]\n",
      " [ 3.13486296]\n",
      " [ 1.64308744]\n",
      " [ 1.65956173]\n",
      " [-0.88827271]\n",
      " [-0.58662275]\n",
      " [-0.17476546]\n",
      " [-0.03814245]\n",
      " [-0.04581152]\n",
      " [-0.55907092]\n",
      " [-0.43125314]\n",
      " [-0.94735293]\n",
      " [-0.55623052]\n",
      " [-0.4187554 ]\n",
      " [-0.37302504]\n",
      " [-0.18527492]\n",
      " [-0.52867869]\n",
      " [-0.61019803]\n",
      " [-0.7587507 ]\n",
      " [-0.45056782]\n",
      " [-0.20373749]\n",
      " [-0.15005402]\n",
      " [ 0.08342646]\n",
      " [-0.44943167]\n",
      " [-0.4403424 ]]\n",
      "(35,) (35, 1)\n"
     ]
    }
   ],
   "source": [
    "num_genes = 5 #X.shape[1]\n",
    "num_times = 7\n",
    "scaler = preprocessing.StandardScaler()\n",
    "Y = genes[genes.index != 'p53'].values.reshape(-1, 1)\n",
    "Y_f = genes[genes.index == 'p53'].values[0].reshape(-1, 1)\n",
    "Y = scaler.fit_transform(Y)\n",
    "X = np.arange(num_times, dtype='float64')*2\n",
    "X = np.c_[[X for _ in range(num_genes)]].reshape(-1)\n",
    "print(X)\n",
    "print(Y)\n",
    "print(X.shape,Y.shape)"
   ]
  },
  {
   "cell_type": "markdown",
   "metadata": {},
   "source": [
    "### Model\n",
    "\n",
    "We fix the sensitivity of p21 to be 1, and decay to be 0.8 as in Barenco et al."
   ]
  },
  {
   "cell_type": "markdown",
   "metadata": {},
   "source": [
    "            K_xx = np.zeros([X.shape[0],X.shape[0]], dtype='float64')\n",
    "            print(K_xx.shape)\n",
    "            for j in range(num_genes):\n",
    "                for k in range(num_genes):\n",
    "                    K_xx[j*block_size:(j+1)*block_size, \n",
    "                         k*block_size:(k+1)*block_size] = self.k_xx(j, k, X)\n",
    "            return K_xx\n"
   ]
  },
  {
   "cell_type": "code",
   "execution_count": 60,
   "metadata": {},
   "outputs": [
    {
     "data": {
      "text/html": [
       "<table>\n",
       "<thead>\n",
       "<tr><th>name                        </th><th>class    </th><th>transform  </th><th>trainable  </th><th>shape  </th><th>dtype  </th><th style=\"text-align: right;\">   value</th></tr>\n",
       "</thead>\n",
       "<tbody>\n",
       "<tr><td>ExpressionKernel.lengthscale</td><td>Parameter</td><td>Softplus   </td><td>True       </td><td>()     </td><td>float64</td><td style=\"text-align: right;\">1       </td></tr>\n",
       "<tr><td>ExpressionKernel.D[0]       </td><td>Parameter</td><td>Chain      </td><td>False      </td><td>()     </td><td>float64</td><td style=\"text-align: right;\">0.8     </td></tr>\n",
       "<tr><td>ExpressionKernel.D[1]       </td><td>Parameter</td><td>Chain      </td><td>True       </td><td>()     </td><td>float64</td><td style=\"text-align: right;\">0.779964</td></tr>\n",
       "<tr><td>ExpressionKernel.D[2]       </td><td>Parameter</td><td>Chain      </td><td>True       </td><td>()     </td><td>float64</td><td style=\"text-align: right;\">0.990644</td></tr>\n",
       "<tr><td>ExpressionKernel.D[3]       </td><td>Parameter</td><td>Chain      </td><td>True       </td><td>()     </td><td>float64</td><td style=\"text-align: right;\">0.939566</td></tr>\n",
       "<tr><td>ExpressionKernel.D[4]       </td><td>Parameter</td><td>Chain      </td><td>True       </td><td>()     </td><td>float64</td><td style=\"text-align: right;\">0.895984</td></tr>\n",
       "<tr><td>ExpressionKernel.S[0]       </td><td>Parameter</td><td>Chain      </td><td>False      </td><td>()     </td><td>float64</td><td style=\"text-align: right;\">1       </td></tr>\n",
       "<tr><td>ExpressionKernel.S[1]       </td><td>Parameter</td><td>Chain      </td><td>True       </td><td>()     </td><td>float64</td><td style=\"text-align: right;\">0.58331 </td></tr>\n",
       "<tr><td>ExpressionKernel.S[2]       </td><td>Parameter</td><td>Chain      </td><td>True       </td><td>()     </td><td>float64</td><td style=\"text-align: right;\">0.50368 </td></tr>\n",
       "<tr><td>ExpressionKernel.S[3]       </td><td>Parameter</td><td>Chain      </td><td>True       </td><td>()     </td><td>float64</td><td style=\"text-align: right;\">0.871631</td></tr>\n",
       "<tr><td>ExpressionKernel.S[4]       </td><td>Parameter</td><td>Chain      </td><td>True       </td><td>()     </td><td>float64</td><td style=\"text-align: right;\">0.596248</td></tr>\n",
       "</tbody>\n",
       "</table>"
      ],
      "text/plain": [
       "<IPython.core.display.HTML object>"
      ]
     },
     "metadata": {},
     "output_type": "display_data"
    }
   ],
   "source": [
    "\n",
    "class ExpressionKernel(gpflow.kernels.Kernel):\n",
    "    def __init__(self):\n",
    "        super().__init__(active_dims=[0])\n",
    "        self.lengthscale = gpflow.Parameter(1.0, transform=positive())\n",
    "#         B = tf.ones(5)\n",
    "#         self.B = gpflow.Parameter(B)\n",
    "#         self.D = gpflow.Parameter(np.random.uniform(0.5, 1, 5), transform=positive())\n",
    "#         S = tf.ones(5)\n",
    "        affine = tfb.AffineScalar(shift=tf.cast(0.1, tf.float64),\n",
    "                                  scale=tf.cast(3.-0.1, tf.float64))\n",
    "        sigmoid = tfb.Sigmoid()\n",
    "        logistic = tfb.Chain([affine, sigmoid])\n",
    "\n",
    "        self.D = [gpflow.Parameter(np.random.uniform(0.5, 1), transform=logistic, dtype=tf.float64) for _ in range(num_genes)]\n",
    "        self.D[0].trainable = False\n",
    "        self.D[0].assign(0.8)\n",
    "\n",
    "        self.S = [gpflow.Parameter(np.random.uniform(0.5, 1), transform=logistic, dtype=tf.float64) for _ in range(num_genes)]\n",
    "        self.S[0].trainable = False\n",
    "        self.S[0].assign(1)\n",
    "        \n",
    "    def K(self, X, X2=None):\n",
    "        block_size = num_times\n",
    "        if X2 is None:\n",
    "            shape = [X.shape[0],X.shape[0]]\n",
    "            K_xx = tf.zeros(shape, dtype='float64')\n",
    "            for j in range(num_genes):\n",
    "                for k in range(num_genes):\n",
    "                    mask = np.ones(shape)\n",
    "                    other = np.zeros(shape)\n",
    "                    mask[j*block_size:(j+1)*block_size, \n",
    "                         k*block_size:(k+1)*block_size] = 0\n",
    "                    \n",
    "                    pad_top = j*block_size\n",
    "                    pad_left = k*block_size\n",
    "                    pad_right = 0 if k == num_genes-1 else shape[0]-block_size-pad_left\n",
    "                    pad_bottom = 0 if j == num_genes-1 else shape[0]-block_size-pad_top\n",
    "                    other = tf.pad(self.k_xx(j, k),\n",
    "                                   tf.constant([\n",
    "                                       [pad_top,pad_bottom],\n",
    "                                       [pad_left,pad_right]\n",
    "                                   ]), 'CONSTANT'\n",
    "                                  )\n",
    "#                     print(j, k, pad_right, pad_bottom, other.shape)\n",
    "                    K_xx = K_xx * mask + other * (1 - mask)\n",
    "\n",
    "\n",
    "            return K_xx\n",
    "        else:\n",
    "            print('K not none K_xf\\n')\n",
    "            shape = [X.shape[0],num_times]\n",
    "            K_xf = tf.zeros(shape, dtype='float64')\n",
    "            for j in range(num_genes):\n",
    "                mask = np.ones(shape)\n",
    "                other = np.zeros(shape)\n",
    "                mask[j*block_size:(j+1)*block_size] = 0\n",
    "                other[j*block_size:(j+1)*block_size] = self.k_xf(j, X)\n",
    "\n",
    "                K_xf = K_xf * mask + other * (1-mask) \n",
    "            return K_xf\n",
    "        \n",
    "\n",
    "    def gamma(self, k):\n",
    "        return self.D[k]*self.lengthscale/2\n",
    "\n",
    "    def h(self, k, j, primefirst=True):\n",
    "        l = self.lengthscale\n",
    "        print(l, self.D[k], self.D[j])\n",
    "        t_prime, t, t_dist = self.get_distance_matrix(primefirst=primefirst, size=num_times)\n",
    "        multiplier = tm.exp(self.gamma(k)**2) / (self.D[j]+self.D[k])\n",
    "        first_erf_term = tm.erf(t_dist/l - self.gamma(k)) + tm.erf(t/l + self.gamma(k))\n",
    "        second_erf_term = tm.erf(t_prime/l - self.gamma(k)) + tm.erf(self.gamma(k))\n",
    "        print(first_erf_term)\n",
    "        return multiplier * (tf.multiply(tm.exp(-tm.multiply(self.D[k],t_dist)) , first_erf_term) - \\\n",
    "                             tf.multiply(tm.exp(-tm.multiply(self.D[k],t_prime)-tm.multiply(self.D[j],t)) , second_erf_term))\n",
    "    \n",
    "\n",
    "    def k_xx(self, j, k):\n",
    "        '''k_xx(t, tprime)'''\n",
    "        mult = self.S[j]*self.S[k]*self.lengthscale*0.5*tm.sqrt(PI)\n",
    "        return mult*(self.h(k, j) + self.h(j, k, primefirst=False))\n",
    "\n",
    "\n",
    "    def get_distance_matrix(self, primefirst=True, size=7):\n",
    "        t = tf.cast(tf.range(size)*2, tf.float64)\n",
    "        t_ = tf.reshape(tf.tile(t, [size]), [ size, tf.shape(t)[0]])\n",
    "        t_prime = tf.transpose(tf.reshape(tf.tile(t, [size]), [ size, tf.shape(t)[0]]))\n",
    "        if not primefirst:\n",
    "            t_prime = tf.reshape(tf.tile(t, [size]), [ size, tf.shape(t)[0]])\n",
    "            t_ = tf.transpose(tf.reshape(tf.tile(t, [size]), [ size, tf.shape(t)[0]]))\n",
    "\n",
    "        return t_prime, t_, t_prime-t_\n",
    "    \n",
    "    def k_xf(self, j, X):\n",
    "        t_prime, t_, t_dist = self.get_distance_matrix(size=num_times)\n",
    "        l = self.lengthscale\n",
    "        erf_term = tm.erf(t_dist/l - self.gamma(j)) + tm.erf(t_/l + self.gamma(j))\n",
    "        \n",
    "        return self.S[j]*l*0.5*tm.sqrt(PI)*tm.exp(self.gamma(j))**2 *tm.exp(-self.D[j]*t_dist)*erf_term\n",
    "\n",
    "    def K_diag(self, X):\n",
    "        print('k_diag')\n",
    "\n",
    "        \"\"\"I've used the fact that we call this method for K_ff when finding the covariance as a hack so\n",
    "        I know if I should return K_ff or K_xx. In this case we're returning K_ff!!\n",
    "        $K_{ff}^{post} = K_{ff} - K_{fx} K_{xx}^{-1} K_{xf}$\"\"\"\n",
    "        _,_,t_dist = self.get_distance_matrix(size=X.shape[0])\n",
    "        K_ff = tf.math.exp(-(t_dist**2)/(self.lengthscale**2))\n",
    "        return tf.linalg.tensor_diag_part(K_ff)\n",
    "\n",
    "k_exp = ExpressionKernel()\n",
    "print_summary(k_exp, fmt='notebook')\n",
    "\n",
    "# print(k_exp.K(X,))"
   ]
  },
  {
   "cell_type": "code",
   "execution_count": 61,
   "metadata": {},
   "outputs": [
    {
     "name": "stdout",
     "output_type": "stream",
     "text": [
      "<tf.Tensor: shape=(), dtype=float64, numpy=1.4148999452590945> 1.2919 1.2919\n",
      "tf.Tensor(\n",
      "[[0.000 0.000 0.000 0.000 0.000 0.000 0.000]\n",
      " [1.324 0.195 0.001 0.000 0.000 0.000 0.000]\n",
      " [1.797 1.519 0.196 0.001 0.000 0.000 0.000]\n",
      " [1.804 1.992 1.520 0.196 0.001 0.000 0.000]\n",
      " [1.804 1.999 1.993 1.520 0.196 0.001 0.000]\n",
      " [1.804 1.999 2.000 1.993 1.520 0.196 0.001]\n",
      " [1.804 1.999 2.000 2.000 1.993 1.520 0.196]], shape=(7, 7), dtype=float64)\n"
     ]
    },
    {
     "data": {
      "text/plain": [
       "array([[0.000, 0.000, 0.000, 0.000, 0.000, 0.000, 0.000],\n",
       "       [0.000, 0.167, 0.011, -0.000, -0.000, -0.000, -0.000],\n",
       "       [0.000, 0.102, 0.175, 0.012, 0.000, -0.000, -0.000],\n",
       "       [0.000, 0.010, 0.102, 0.175, 0.012, 0.000, 0.000],\n",
       "       [0.000, 0.001, 0.010, 0.102, 0.175, 0.012, 0.000],\n",
       "       [0.000, 0.000, 0.001, 0.010, 0.102, 0.175, 0.012],\n",
       "       [0.000, 0.000, 0.000, 0.001, 0.010, 0.102, 0.175]])"
      ]
     },
     "execution_count": 61,
     "metadata": {},
     "output_type": "execute_result"
    }
   ],
   "source": [
    "np.set_printoptions(threshold=np.inf)\n",
    "np.set_printoptions(formatter={'float': lambda x: \"{0:0.3f}\".format(x)})\n",
    "k_exp.D[2] = 1.2919\n",
    "k_exp.lengthscale.assign(1.4149)\n",
    "k_exp.h(2, 2).numpy()"
   ]
  },
  {
   "cell_type": "code",
   "execution_count": 17,
   "metadata": {
    "scrolled": false
   },
   "outputs": [
    {
     "name": "stdout",
     "output_type": "stream",
     "text": [
      "<gpflow.optimizers.scipy.Scipy object at 0x00000214CE1841C8>\n",
      "name                     class      transform    trainable    shape    dtype          value\n",
      "-----------------------  ---------  -----------  -----------  -------  -------  -----------\n",
      "GPR.kernel.lengthscale   Parameter  Softplus     True         ()       float64  0.0322052\n",
      "GPR.kernel.D[0]          Parameter  Chain        False        ()       float64  0.8\n",
      "GPR.kernel.D[1]          Parameter  Chain        True         ()       float64  0.000603076\n",
      "GPR.kernel.D[2]          Parameter  Chain        True         ()       float64  2.81542\n",
      "GPR.kernel.D[3]          Parameter  Chain        True         ()       float64  1.88906\n",
      "GPR.kernel.D[4]          Parameter  Chain        True         ()       float64  2.56374\n",
      "GPR.kernel.S[0]          Parameter  Chain        False        ()       float64  1\n",
      "GPR.kernel.S[1]          Parameter  Chain        True         ()       float64  2.99336\n",
      "GPR.kernel.S[2]          Parameter  Chain        True         ()       float64  0.000910017\n",
      "GPR.kernel.S[3]          Parameter  Chain        True         ()       float64  0.0060321\n",
      "GPR.kernel.S[4]          Parameter  Chain        True         ()       float64  0.0076612\n",
      "GPR.likelihood.variance  Parameter  Softplus     True         ()       float64  1\n",
      "name                     class      transform    trainable    shape    dtype          value\n",
      "-----------------------  ---------  -----------  -----------  -------  -------  -----------\n",
      "GPR.kernel.lengthscale   Parameter  Softplus     True         ()       float64  0.0322052\n",
      "GPR.kernel.D[0]          Parameter  Chain        False        ()       float64  0.8\n",
      "GPR.kernel.D[1]          Parameter  Chain        True         ()       float64  0.000603076\n",
      "GPR.kernel.D[2]          Parameter  Chain        True         ()       float64  2.81542\n",
      "GPR.kernel.D[3]          Parameter  Chain        True         ()       float64  1.88906\n",
      "GPR.kernel.D[4]          Parameter  Chain        True         ()       float64  2.56374\n",
      "GPR.kernel.S[0]          Parameter  Chain        False        ()       float64  1\n",
      "GPR.kernel.S[1]          Parameter  Chain        True         ()       float64  2.99336\n",
      "GPR.kernel.S[2]          Parameter  Chain        True         ()       float64  0.000910017\n",
      "GPR.kernel.S[3]          Parameter  Chain        True         ()       float64  0.0060321\n",
      "GPR.kernel.S[4]          Parameter  Chain        True         ()       float64  0.0076612\n",
      "GPR.likelihood.variance  Parameter  Softplus     True         ()       float64  1\n",
      "tf.Tensor(41.00559955330495, shape=(), dtype=float64)\n",
      "tf.Tensor(41.00559955330495, shape=(), dtype=float64)\n",
      "tf.Tensor(34.5379067663998, shape=(), dtype=float64)\n",
      "tf.Tensor(185.80179180486817, shape=(), dtype=float64)\n",
      "tf.Tensor(33.35333217151292, shape=(), dtype=float64)\n",
      "tf.Tensor(34.5379067663998, shape=(), dtype=float64)\n",
      "tf.Tensor(35.61179515005633, shape=(), dtype=float64)\n",
      "tf.Tensor(33.204607587498806, shape=(), dtype=float64)\n",
      "name                     class      transform    trainable    shape    dtype          value\n",
      "-----------------------  ---------  -----------  -----------  -------  -------  -----------\n",
      "GPR.kernel.lengthscale   Parameter  Softplus     True         ()       float64  0.03335\n",
      "GPR.kernel.D[0]          Parameter  Chain        False        ()       float64  0.8\n",
      "GPR.kernel.D[1]          Parameter  Chain        True         ()       float64  0.000602701\n",
      "GPR.kernel.D[2]          Parameter  Chain        True         ()       float64  2.81542\n",
      "GPR.kernel.D[3]          Parameter  Chain        True         ()       float64  1.88911\n",
      "GPR.kernel.D[4]          Parameter  Chain        True         ()       float64  2.56375\n",
      "GPR.kernel.S[0]          Parameter  Chain        False        ()       float64  1\n",
      "GPR.kernel.S[1]          Parameter  Chain        True         ()       float64  2.99337\n",
      "GPR.kernel.S[2]          Parameter  Chain        True         ()       float64  0.000909993\n",
      "GPR.kernel.S[3]          Parameter  Chain        True         ()       float64  0.00603018\n",
      "GPR.kernel.S[4]          Parameter  Chain        True         ()       float64  0.00765961\n",
      "GPR.likelihood.variance  Parameter  Softplus     True         ()       float64  0.335078\n"
     ]
    }
   ],
   "source": [
    "model = gpflow.models.GPR(data=(X, Y), kernel=k_exp, mean_function=None)\n",
    "\n",
    "opt = gpflow.optimizers.Scipy()\n",
    "print(opt)\n",
    "print_summary(model)\n",
    "Ds = list()\n",
    "i = 0\n",
    "def objective_closure():\n",
    "    global Ds, i\n",
    "    ret = - model.log_marginal_likelihood()\n",
    "    \n",
    "    Ds.append([s.numpy() for s in model.kernel.D])\n",
    "\n",
    "    if i % 10 == 0:\n",
    "        print_summary(model)\n",
    "    i += 1\n",
    "    print(ret)\n",
    "    return ret\n",
    "opt_logs = opt.minimize(objective_closure,\n",
    "                        model.trainable_variables,\n",
    "                        options=dict(maxiter=1),\n",
    "                        method='CG')\n",
    "print_summary(model)\n"
   ]
  },
  {
   "cell_type": "code",
   "execution_count": 20,
   "metadata": {},
   "outputs": [
    {
     "data": {
      "text/plain": [
       "array([0.00000000e+00, 2.08500704e-03, 4.20955651e-04, 8.49894781e-05,\n",
       "       1.71590793e-05, 3.46435828e-06, 6.99441857e-07, 0.00000000e+00,\n",
       "       6.07795504e-02, 6.07063308e-02, 6.06331993e-02, 6.05601560e-02,\n",
       "       6.04872007e-02, 6.04143333e-02, 0.00000000e+00, 1.54999022e-08,\n",
       "       5.55758984e-11, 1.99270966e-13, 7.14498891e-16, 2.56188182e-18,\n",
       "       9.18579240e-21, 0.00000000e+00, 8.64948978e-07, 1.97756471e-08,\n",
       "       4.52137906e-10, 1.03373955e-11, 2.36347682e-13, 5.40370413e-15,\n",
       "       0.00000000e+00, 2.30839359e-07, 1.36918529e-09, 8.12109501e-12,\n",
       "       4.81689254e-14, 2.85705975e-16, 1.69461751e-18])"
      ]
     },
     "execution_count": 20,
     "metadata": {},
     "output_type": "execute_result"
    }
   ],
   "source": [
    "model.kernel.K(X).numpy()[0]"
   ]
  },
  {
   "cell_type": "code",
   "execution_count": 14,
   "metadata": {},
   "outputs": [
    {
     "name": "stdout",
     "output_type": "stream",
     "text": [
      "[0.800000011920929, 0.800000011920929, 0.800000011920929, 0.800000011920929, 0.800000011920929, 0.800000011920929, 0.800000011920929, 0.800000011920929, 0.800000011920929, 0.800000011920929, 0.800000011920929, 0.800000011920929, 0.800000011920929, 0.800000011920929, 0.800000011920929, 0.800000011920929, 0.800000011920929, 0.800000011920929, 0.800000011920929, 0.800000011920929, 0.800000011920929, 0.800000011920929, 0.800000011920929, 0.800000011920929, 0.800000011920929, 0.800000011920929, 0.800000011920929, 0.800000011920929, 0.800000011920929, 0.800000011920929, 0.800000011920929, 0.800000011920929, 0.800000011920929, 0.800000011920929, 0.800000011920929, 0.800000011920929, 0.800000011920929, 0.800000011920929, 0.800000011920929, 0.800000011920929, 0.800000011920929]\n",
      "[0.9566138982772826, 0.9566138982772826, 0.8796124359555058, 0.7144640570047356, 0.2747073875244288, 0.0032656146133688856, 0.11992092249348663, 0.0005256899902665344, 0.03612519497191592, 0.06601827588152843, 0.04801953578050876, 0.024039741035190673, 0.03895428787848574, 0.023074313439295686, 0.03494913245051928, 0.030202016072860084, 0.016811590751055837, 0.0119535547933209, 0.006151353993356099, 0.009804629067235112, 0.009628057273991578, 0.009017881470467105, 0.007998519996732055, 0.008753655841653694, 0.007989309316905804, 0.008348549240893208, 0.0078111442823789005, 0.0071387018509279695, 0.004979210360618271, 0.0011765853724341941, 0.000653613290561223, 0.0006514883857984956, 0.0006529974021787755, 0.00065106500463413, 0.0006523622535269672, 0.0006481850730596854, 0.0006514361932841048, 0.0006494706461079934, 0.0006438339205443351, 0.0006356930192211659, 0.0006041456446059224]\n",
      "[0.6045215725898743, 0.6045215725898743, 0.7872199307498424, 1.0305506129678061, 2.1301860792815805, 2.9974490973700694, 2.6730833387083166, 2.9976877926757037, 2.886826479869632, 2.805922863270698, 2.815134798984695, 2.8151405501092723, 2.815136543140017, 2.8151445971456175, 2.8151382155269475, 2.8151407057882274, 2.8151506665199157, 2.815159129420158, 2.815176980209519, 2.8151644581436366, 2.8151652250447246, 2.8151679875511424, 2.8151737604023994, 2.815169418923009, 2.815175260624028, 2.815172448679037, 2.81517694135411, 2.815183181286367, 2.815208139047043, 2.8153079386020434, 2.8153489525769904, 2.815352509190989, 2.8153499822514716, 2.8153530529290878, 2.8153509905366723, 2.815356708989437, 2.8153522551389223, 2.8153549336580705, 2.815362660001255, 2.8153739299716074, 2.8154190034254025]\n",
      "[0.5592808723449708, 0.5592808723449708, 0.6169356554733493, 0.7090758232405822, 1.1622176721619726, 2.7504463067148888, 1.5748794298022877, 2.7614777125401275, 1.9557488903523377, 1.7701743643772518, 1.7879797971367026, 1.7906395675374709, 1.7887866225012758, 1.792359243920369, 1.7895287347109003, 1.7906267825683737, 1.7950157274424363, 1.7986030132507769, 1.8061015423735505, 1.800843010459452, 1.8011533136989017, 1.8022708652227344, 1.8045792677864658, 1.8028433643508803, 1.8051264348695488, 1.8040276373124509, 1.8057755868793846, 1.8081948484918973, 1.8178550465910037, 1.856213093111347, 1.8717958144712403, 1.8726677367847517, 1.8720482704452923, 1.8728012111431318, 1.8722955262015488, 1.8737018906200045, 1.8726065921076427, 1.8732647264741464, 1.8751623440707785, 1.8779253202872694, 1.8889496966531492]\n",
      "[0.9229533672332764, 0.9229533672332764, 1.0528285778816173, 1.2230142008529794, 1.9311889009935794, 2.9654489213574093, 2.3802054978034395, 2.9675147878545354, 2.660036058718421, 2.5374224980764546, 2.5500252842354314, 2.5503335484125316, 2.55011878957904, 2.5505472481851275, 2.550207783783542, 2.5503400977356603, 2.55086903296656, 2.551312880718341, 2.552245838761547, 2.551591541233291, 2.5516311558020828, 2.5517738314883234, 2.5520704661751505, 2.5518473960072035, 2.5521446601270528, 2.552001589098384, 2.5522298182979544, 2.552546275170711, 2.5538102584855853, 2.55883674372282, 2.560886352321667, 2.561031150873126, 2.5609282767176973, 2.5610532364899106, 2.5609693114424097, 2.5612019450592474, 2.561020765219902, 2.561129664255865, 2.5614436726635708, 2.561901099574048, 2.5637268530207917]\n"
     ]
    },
    {
     "data": {
      "image/png": "[encoded data removed]",
      "text/plain": [
       "<Figure size 720x576 with 5 Axes>"
      ]
     },
     "metadata": {
      "needs_background": "light"
     },
     "output_type": "display_data"
    }
   ],
   "source": [
    "plt.figure(figsize=(10, 8))\n",
    "for i in range(5):\n",
    "    plt.subplot(531+i)\n",
    "    D1 = list(map(lambda s:s[i], Ds))\n",
    "    print(D1)\n",
    "    plt.plot(D1)"
   ]
  },
  {
   "cell_type": "code",
   "execution_count": 15,
   "metadata": {},
   "outputs": [
    {
     "name": "stdout",
     "output_type": "stream",
     "text": [
      "[1.0, 2.993352547092347, 0.0009100644279844954, 0.006035943188599747, 0.007664383423627971]\n"
     ]
    },
    {
     "data": {
      "text/plain": [
       "Text(0.5, 1.0, 'Decay rates')"
      ]
     },
     "execution_count": 15,
     "metadata": {},
     "output_type": "execute_result"
    },
    {
     "data": {
      "image/png": "[encoded data removed]",
      "text/plain": [
       "<Figure size 720x360 with 2 Axes>"
      ]
     },
     "metadata": {
      "needs_background": "light"
     },
     "output_type": "display_data"
    }
   ],
   "source": [
    "plt.figure(figsize=(10, 5))\n",
    "plt.subplot(2, 2, 1)\n",
    "S = [s.numpy() for s in model.kernel.S]\n",
    "D = [d.numpy() for d in model.kernel.D]\n",
    "print(S)\n",
    "plt.bar(range(5), S, tick_label=genes.index[:-1])\n",
    "plt.title('Sensitivities')\n",
    "plt.subplot(2, 2, 2)\n",
    "plt.bar(range(5), D, tick_label=genes.index[:-1])\n",
    "plt.title('Decay rates')"
   ]
  },
  {
   "cell_type": "code",
   "execution_count": 298,
   "metadata": {},
   "outputs": [
    {
     "name": "stdout",
     "output_type": "stream",
     "text": [
      "K not none K_xf\n",
      "\n",
      "b/d =  (35, 1) (35, 1)\n",
      "(35, 1)\n",
      "(7, 35) * (35, 35) == (7, 35) * (35, 1)\n",
      "mu shape (7, 1)\n",
      "k_diag\n"
     ]
    }
   ],
   "source": [
    "pred_t = np.linspace(0, 12, 20)\n",
    "k = model.kernel\n",
    "\n",
    "K_inv = tf.linalg.inv(k.K(X, None))\n",
    "Kxf = k.K(X, X)\n",
    "\n",
    "B = np.ones(5)\n",
    "print('b/d = ', np.repeat(B/np.array(D), 7).reshape(-1, 1).shape, Y.shape)\n",
    "x = tf.convert_to_tensor(Y) - np.repeat(B/np.array(D), 7).reshape(-1, 1)\n",
    "print(x.shape)\n",
    "KfxKxx = tf.matmul(tf.transpose(Kxf), K_inv)\n",
    "mu_post = tf.matmul(KfxKxx, x)\n",
    "# print(KfxKxx, Y)\n",
    "print(tf.transpose(Kxf).shape, '*', K_inv.shape,'==', KfxKxx.shape, '*', x.shape)\n",
    "print('mu shape', mu_post.shape)\n",
    "\n",
    "Kff = k.K_diag(X)\n",
    "# K_post = Kff - KfxKxx * Kxf\n",
    "# print('K shape', K_post.shape)"
   ]
  },
  {
   "cell_type": "code",
   "execution_count": 299,
   "metadata": {},
   "outputs": [
    {
     "name": "stdout",
     "output_type": "stream",
     "text": [
      "(7,)\n",
      "12\n",
      "range [0.] 0\n",
      "sum [0.0]\n",
      "range [0. 2.] 2\n",
      "sum [0.0, 2.246340235898232e+16]\n",
      "range [0. 2. 4.] 4\n",
      "sum [0.0, 2.246340235898232e+16, 2.1451389836269616e+17]\n",
      "range [0. 2. 4. 6.] 6\n",
      "sum [0.0, 2.246340235898232e+16, 2.1451389836269616e+17, 1.538612081526223e+18]\n",
      "range [0. 2. 4. 6. 8.] 8\n",
      "sum [0.0, 2.246340235898232e+16, 2.1451389836269616e+17, 1.538612081526223e+18, 8.174543144671643e+18]\n",
      "range [ 0.  2.  4.  6.  8. 10.] 10\n",
      "sum [0.0, 2.246340235898232e+16, 2.1451389836269616e+17, 1.538612081526223e+18, 8.174543144671643e+18, 4.105084963264032e+19]\n",
      "range [ 0.  2.  4.  6.  8. 10. 12.] 12\n",
      "sum [0.0, 2.246340235898232e+16, 2.1451389836269616e+17, 1.538612081526223e+18, 8.174543144671643e+18, 4.105084963264032e+19, 2.039156181194434e+20]\n"
     ]
    },
    {
     "data": {
      "text/plain": [
       "[<matplotlib.lines.Line2D at 0x1b318e800c8>]"
      ]
     },
     "execution_count": 299,
     "metadata": {},
     "output_type": "execute_result"
    },
    {
     "data": {
      "image/png": "[encoded data removed]",
      "text/plain": [
       "<Figure size 432x288 with 1 Axes>"
      ]
     },
     "metadata": {
      "needs_background": "light"
     },
     "output_type": "display_data"
    },
    {
     "data": {
      "image/png": "[encoded data removed]",
      "text/plain": [
       "<Figure size 432x288 with 1 Axes>"
      ]
     },
     "metadata": {
      "needs_background": "light"
     },
     "output_type": "display_data"
    },
    {
     "data": {
      "image/png": "[encoded data removed]",
      "text/plain": [
       "<Figure size 432x288 with 1 Axes>"
      ]
     },
     "metadata": {
      "needs_background": "light"
     },
     "output_type": "display_data"
    }
   ],
   "source": [
    "mu = mu_post.numpy().reshape(-1)\n",
    "print(mu.shape)\n",
    "plt.plot(mu[:7])\n",
    "plt.figure()\n",
    "plt.plot(Y[:7])\n",
    "plt.figure()\n",
    "\n",
    "ts = np.arange(7)*2\n",
    "print(t)\n",
    "x_1 = list()\n",
    "for t in ts:\n",
    "    print('range', np.arange(t/2+1)*2, t)\n",
    "    print('sum', [mu[int(t_/2)]*np.exp(k.D[0]*t_) for t_ in np.arange(t/2+1)*2])\n",
    "    x_1.append(k.S[0]*np.exp(-k.D[0]*t)*np.sum([mu[int(t_/2)]*np.exp(k.D[0]*t_) for t_ in np.arange(t/2+1)*2]))\n",
    "plt.plot(x_1)"
   ]
  },
  {
   "cell_type": "code",
   "execution_count": 119,
   "metadata": {
    "scrolled": true
   },
   "outputs": [
    {
     "name": "stdout",
     "output_type": "stream",
     "text": [
      "(35, 35)\n",
      "k_diag\n",
      "K not none K_xf\n",
      "\n",
      "err shape (35, 35)\n"
     ]
    },
    {
     "ename": "InvalidArgumentError",
     "evalue": "Incompatible shapes: [35] vs. [7] [Op:Sub] name: sub/",
     "output_type": "error",
     "traceback": [
      "\u001b[1;31m---------------------------------------------------------------------------\u001b[0m",
      "\u001b[1;31mInvalidArgumentError\u001b[0m                      Traceback (most recent call last)",
      "\u001b[1;32m<ipython-input-119-56972f46ef69>\u001b[0m in \u001b[0;36m<module>\u001b[1;34m\u001b[0m\n\u001b[1;32m----> 1\u001b[1;33m \u001b[0mmean\u001b[0m\u001b[1;33m,\u001b[0m \u001b[0mvar\u001b[0m \u001b[1;33m=\u001b[0m \u001b[0mmodel\u001b[0m\u001b[1;33m.\u001b[0m\u001b[0mpredict_f\u001b[0m\u001b[1;33m(\u001b[0m\u001b[0mX\u001b[0m\u001b[1;33m)\u001b[0m\u001b[1;33m\u001b[0m\u001b[1;33m\u001b[0m\u001b[0m\n\u001b[0m\u001b[0;32m      2\u001b[0m \u001b[0mmean\u001b[0m\u001b[1;33m\u001b[0m\u001b[1;33m\u001b[0m\u001b[0m\n",
      "\u001b[1;32mc:\\users\\jacob\\appdata\\local\\programs\\python\\python37\\lib\\site-packages\\gpflow\\models\\gpr.py\u001b[0m in \u001b[0;36mpredict_f\u001b[1;34m(self, predict_at, full_cov, full_output_cov)\u001b[0m\n\u001b[0;32m     90\u001b[0m         \u001b[0mconditional\u001b[0m \u001b[1;33m=\u001b[0m \u001b[0mgpflow\u001b[0m\u001b[1;33m.\u001b[0m\u001b[0mconditionals\u001b[0m\u001b[1;33m.\u001b[0m\u001b[0mbase_conditional\u001b[0m\u001b[1;33m\u001b[0m\u001b[1;33m\u001b[0m\u001b[0m\n\u001b[0;32m     91\u001b[0m         f_mean_zero, f_var = conditional(kmn, kmm + s, knn, err, full_cov=full_cov,\n\u001b[1;32m---> 92\u001b[1;33m                                          white=False)  # [N, P], [N, P] or [P, N, N]\n\u001b[0m\u001b[0;32m     93\u001b[0m         \u001b[0mf_mean\u001b[0m \u001b[1;33m=\u001b[0m \u001b[0mf_mean_zero\u001b[0m \u001b[1;33m+\u001b[0m \u001b[0mself\u001b[0m\u001b[1;33m.\u001b[0m\u001b[0mmean_function\u001b[0m\u001b[1;33m(\u001b[0m\u001b[0mpredict_at\u001b[0m\u001b[1;33m)\u001b[0m\u001b[1;33m\u001b[0m\u001b[1;33m\u001b[0m\u001b[0m\n\u001b[0;32m     94\u001b[0m         \u001b[1;32mreturn\u001b[0m \u001b[0mf_mean\u001b[0m\u001b[1;33m,\u001b[0m \u001b[0mf_var\u001b[0m\u001b[1;33m\u001b[0m\u001b[1;33m\u001b[0m\u001b[0m\n",
      "\u001b[1;32mc:\\users\\jacob\\appdata\\local\\programs\\python\\python37\\lib\\site-packages\\gpflow\\conditionals\\util.py\u001b[0m in \u001b[0;36mbase_conditional\u001b[1;34m(Kmn, Kmm, Knn, function, full_cov, q_sqrt, white)\u001b[0m\n\u001b[0;32m     64\u001b[0m         \u001b[0mfvar\u001b[0m \u001b[1;33m=\u001b[0m \u001b[0mtf\u001b[0m\u001b[1;33m.\u001b[0m\u001b[0mbroadcast_to\u001b[0m\u001b[1;33m(\u001b[0m\u001b[0mtf\u001b[0m\u001b[1;33m.\u001b[0m\u001b[0mexpand_dims\u001b[0m\u001b[1;33m(\u001b[0m\u001b[0mfvar\u001b[0m\u001b[1;33m,\u001b[0m \u001b[1;33m-\u001b[0m\u001b[1;36m3\u001b[0m\u001b[1;33m)\u001b[0m\u001b[1;33m,\u001b[0m \u001b[0mcov_shape\u001b[0m\u001b[1;33m)\u001b[0m  \u001b[1;31m# [..., R, N, N]\u001b[0m\u001b[1;33m\u001b[0m\u001b[1;33m\u001b[0m\u001b[0m\n\u001b[0;32m     65\u001b[0m     \u001b[1;32melse\u001b[0m\u001b[1;33m:\u001b[0m\u001b[1;33m\u001b[0m\u001b[1;33m\u001b[0m\u001b[0m\n\u001b[1;32m---> 66\u001b[1;33m         \u001b[0mfvar\u001b[0m \u001b[1;33m=\u001b[0m \u001b[0mKnn\u001b[0m \u001b[1;33m-\u001b[0m \u001b[0mtf\u001b[0m\u001b[1;33m.\u001b[0m\u001b[0mreduce_sum\u001b[0m\u001b[1;33m(\u001b[0m\u001b[0mtf\u001b[0m\u001b[1;33m.\u001b[0m\u001b[0msquare\u001b[0m\u001b[1;33m(\u001b[0m\u001b[0mA\u001b[0m\u001b[1;33m)\u001b[0m\u001b[1;33m,\u001b[0m \u001b[1;33m-\u001b[0m\u001b[1;36m2\u001b[0m\u001b[1;33m)\u001b[0m  \u001b[1;31m# [..., N]\u001b[0m\u001b[1;33m\u001b[0m\u001b[1;33m\u001b[0m\u001b[0m\n\u001b[0m\u001b[0;32m     67\u001b[0m         \u001b[0mcov_shape\u001b[0m \u001b[1;33m=\u001b[0m \u001b[0mtf\u001b[0m\u001b[1;33m.\u001b[0m\u001b[0mconcat\u001b[0m\u001b[1;33m(\u001b[0m\u001b[1;33m[\u001b[0m\u001b[0mleading_dims\u001b[0m\u001b[1;33m,\u001b[0m \u001b[1;33m[\u001b[0m\u001b[0mnum_func\u001b[0m\u001b[1;33m,\u001b[0m \u001b[0mN\u001b[0m\u001b[1;33m]\u001b[0m\u001b[1;33m]\u001b[0m\u001b[1;33m,\u001b[0m \u001b[1;36m0\u001b[0m\u001b[1;33m)\u001b[0m  \u001b[1;31m# [..., R, N]\u001b[0m\u001b[1;33m\u001b[0m\u001b[1;33m\u001b[0m\u001b[0m\n\u001b[0;32m     68\u001b[0m         \u001b[0mfvar\u001b[0m \u001b[1;33m=\u001b[0m \u001b[0mtf\u001b[0m\u001b[1;33m.\u001b[0m\u001b[0mbroadcast_to\u001b[0m\u001b[1;33m(\u001b[0m\u001b[0mtf\u001b[0m\u001b[1;33m.\u001b[0m\u001b[0mexpand_dims\u001b[0m\u001b[1;33m(\u001b[0m\u001b[0mfvar\u001b[0m\u001b[1;33m,\u001b[0m \u001b[1;33m-\u001b[0m\u001b[1;36m2\u001b[0m\u001b[1;33m)\u001b[0m\u001b[1;33m,\u001b[0m \u001b[0mcov_shape\u001b[0m\u001b[1;33m)\u001b[0m  \u001b[1;31m# [..., R, N]\u001b[0m\u001b[1;33m\u001b[0m\u001b[1;33m\u001b[0m\u001b[0m\n",
      "\u001b[1;32mc:\\users\\jacob\\appdata\\local\\programs\\python\\python37\\lib\\site-packages\\tensorflow_core\\python\\ops\\math_ops.py\u001b[0m in \u001b[0;36mbinary_op_wrapper\u001b[1;34m(x, y)\u001b[0m\n\u001b[0;32m    900\u001b[0m     \u001b[1;32mwith\u001b[0m \u001b[0mops\u001b[0m\u001b[1;33m.\u001b[0m\u001b[0mname_scope\u001b[0m\u001b[1;33m(\u001b[0m\u001b[1;32mNone\u001b[0m\u001b[1;33m,\u001b[0m \u001b[0mop_name\u001b[0m\u001b[1;33m,\u001b[0m \u001b[1;33m[\u001b[0m\u001b[0mx\u001b[0m\u001b[1;33m,\u001b[0m \u001b[0my\u001b[0m\u001b[1;33m]\u001b[0m\u001b[1;33m)\u001b[0m \u001b[1;32mas\u001b[0m \u001b[0mname\u001b[0m\u001b[1;33m:\u001b[0m\u001b[1;33m\u001b[0m\u001b[1;33m\u001b[0m\u001b[0m\n\u001b[0;32m    901\u001b[0m       \u001b[1;32mif\u001b[0m \u001b[0misinstance\u001b[0m\u001b[1;33m(\u001b[0m\u001b[0mx\u001b[0m\u001b[1;33m,\u001b[0m \u001b[0mops\u001b[0m\u001b[1;33m.\u001b[0m\u001b[0mTensor\u001b[0m\u001b[1;33m)\u001b[0m \u001b[1;32mand\u001b[0m \u001b[0misinstance\u001b[0m\u001b[1;33m(\u001b[0m\u001b[0my\u001b[0m\u001b[1;33m,\u001b[0m \u001b[0mops\u001b[0m\u001b[1;33m.\u001b[0m\u001b[0mTensor\u001b[0m\u001b[1;33m)\u001b[0m\u001b[1;33m:\u001b[0m\u001b[1;33m\u001b[0m\u001b[1;33m\u001b[0m\u001b[0m\n\u001b[1;32m--> 902\u001b[1;33m         \u001b[1;32mreturn\u001b[0m \u001b[0mfunc\u001b[0m\u001b[1;33m(\u001b[0m\u001b[0mx\u001b[0m\u001b[1;33m,\u001b[0m \u001b[0my\u001b[0m\u001b[1;33m,\u001b[0m \u001b[0mname\u001b[0m\u001b[1;33m=\u001b[0m\u001b[0mname\u001b[0m\u001b[1;33m)\u001b[0m\u001b[1;33m\u001b[0m\u001b[1;33m\u001b[0m\u001b[0m\n\u001b[0m\u001b[0;32m    903\u001b[0m       \u001b[1;32melif\u001b[0m \u001b[1;32mnot\u001b[0m \u001b[0misinstance\u001b[0m\u001b[1;33m(\u001b[0m\u001b[0my\u001b[0m\u001b[1;33m,\u001b[0m \u001b[0msparse_tensor\u001b[0m\u001b[1;33m.\u001b[0m\u001b[0mSparseTensor\u001b[0m\u001b[1;33m)\u001b[0m\u001b[1;33m:\u001b[0m\u001b[1;33m\u001b[0m\u001b[1;33m\u001b[0m\u001b[0m\n\u001b[0;32m    904\u001b[0m         \u001b[1;32mtry\u001b[0m\u001b[1;33m:\u001b[0m\u001b[1;33m\u001b[0m\u001b[1;33m\u001b[0m\u001b[0m\n",
      "\u001b[1;32mc:\\users\\jacob\\appdata\\local\\programs\\python\\python37\\lib\\site-packages\\tensorflow_core\\python\\ops\\gen_math_ops.py\u001b[0m in \u001b[0;36msub\u001b[1;34m(x, y, name)\u001b[0m\n\u001b[0;32m  10099\u001b[0m         \u001b[1;32mpass\u001b[0m  \u001b[1;31m# Add nodes to the TensorFlow graph.\u001b[0m\u001b[1;33m\u001b[0m\u001b[1;33m\u001b[0m\u001b[0m\n\u001b[0;32m  10100\u001b[0m     \u001b[1;32mexcept\u001b[0m \u001b[0m_core\u001b[0m\u001b[1;33m.\u001b[0m\u001b[0m_NotOkStatusException\u001b[0m \u001b[1;32mas\u001b[0m \u001b[0me\u001b[0m\u001b[1;33m:\u001b[0m\u001b[1;33m\u001b[0m\u001b[1;33m\u001b[0m\u001b[0m\n\u001b[1;32m> 10101\u001b[1;33m       \u001b[0m_ops\u001b[0m\u001b[1;33m.\u001b[0m\u001b[0mraise_from_not_ok_status\u001b[0m\u001b[1;33m(\u001b[0m\u001b[0me\u001b[0m\u001b[1;33m,\u001b[0m \u001b[0mname\u001b[0m\u001b[1;33m)\u001b[0m\u001b[1;33m\u001b[0m\u001b[1;33m\u001b[0m\u001b[0m\n\u001b[0m\u001b[0;32m  10102\u001b[0m   \u001b[1;31m# Add nodes to the TensorFlow graph.\u001b[0m\u001b[1;33m\u001b[0m\u001b[1;33m\u001b[0m\u001b[1;33m\u001b[0m\u001b[0m\n\u001b[0;32m  10103\u001b[0m   _, _, _op, _outputs = _op_def_library._apply_op_helper(\n",
      "\u001b[1;32mc:\\users\\jacob\\appdata\\local\\programs\\python\\python37\\lib\\site-packages\\tensorflow_core\\python\\framework\\ops.py\u001b[0m in \u001b[0;36mraise_from_not_ok_status\u001b[1;34m(e, name)\u001b[0m\n\u001b[0;32m   6604\u001b[0m   \u001b[0mmessage\u001b[0m \u001b[1;33m=\u001b[0m \u001b[0me\u001b[0m\u001b[1;33m.\u001b[0m\u001b[0mmessage\u001b[0m \u001b[1;33m+\u001b[0m \u001b[1;33m(\u001b[0m\u001b[1;34m\" name: \"\u001b[0m \u001b[1;33m+\u001b[0m \u001b[0mname\u001b[0m \u001b[1;32mif\u001b[0m \u001b[0mname\u001b[0m \u001b[1;32mis\u001b[0m \u001b[1;32mnot\u001b[0m \u001b[1;32mNone\u001b[0m \u001b[1;32melse\u001b[0m \u001b[1;34m\"\"\u001b[0m\u001b[1;33m)\u001b[0m\u001b[1;33m\u001b[0m\u001b[1;33m\u001b[0m\u001b[0m\n\u001b[0;32m   6605\u001b[0m   \u001b[1;31m# pylint: disable=protected-access\u001b[0m\u001b[1;33m\u001b[0m\u001b[1;33m\u001b[0m\u001b[1;33m\u001b[0m\u001b[0m\n\u001b[1;32m-> 6606\u001b[1;33m   \u001b[0msix\u001b[0m\u001b[1;33m.\u001b[0m\u001b[0mraise_from\u001b[0m\u001b[1;33m(\u001b[0m\u001b[0mcore\u001b[0m\u001b[1;33m.\u001b[0m\u001b[0m_status_to_exception\u001b[0m\u001b[1;33m(\u001b[0m\u001b[0me\u001b[0m\u001b[1;33m.\u001b[0m\u001b[0mcode\u001b[0m\u001b[1;33m,\u001b[0m \u001b[0mmessage\u001b[0m\u001b[1;33m)\u001b[0m\u001b[1;33m,\u001b[0m \u001b[1;32mNone\u001b[0m\u001b[1;33m)\u001b[0m\u001b[1;33m\u001b[0m\u001b[1;33m\u001b[0m\u001b[0m\n\u001b[0m\u001b[0;32m   6607\u001b[0m   \u001b[1;31m# pylint: enable=protected-access\u001b[0m\u001b[1;33m\u001b[0m\u001b[1;33m\u001b[0m\u001b[1;33m\u001b[0m\u001b[0m\n\u001b[0;32m   6608\u001b[0m \u001b[1;33m\u001b[0m\u001b[0m\n",
      "\u001b[1;32mc:\\users\\jacob\\appdata\\local\\programs\\python\\python37\\lib\\site-packages\\six.py\u001b[0m in \u001b[0;36mraise_from\u001b[1;34m(value, from_value)\u001b[0m\n",
      "\u001b[1;31mInvalidArgumentError\u001b[0m: Incompatible shapes: [35] vs. [7] [Op:Sub] name: sub/"
     ]
    }
   ],
   "source": [
    "mean, var = model.predict_f(X)\n",
    "mean"
   ]
  },
  {
   "cell_type": "code",
   "execution_count": null,
   "metadata": {},
   "outputs": [],
   "source": [
    "plt.subplot(2, 2, 1)\n",
    "plt.plot(mean)\n",
    "plt.subplot(2, 2, 2)\n",
    "plt.plot(genes[genes.index == 'p53'].values[0])"
   ]
  },
  {
   "cell_type": "code",
   "execution_count": null,
   "metadata": {},
   "outputs": [],
   "source": []
  },
  {
   "cell_type": "markdown",
   "metadata": {},
   "source": [
    "## Non-linear response\n",
    "    "
   ]
  },
  {
   "cell_type": "code",
   "execution_count": null,
   "metadata": {},
   "outputs": [],
   "source": []
  }
 ],
 "metadata": {
  "kernelspec": {
   "display_name": "Python 3",
   "language": "python",
   "name": "python3"
  },
  "language_info": {
   "codemirror_mode": {
    "name": "ipython",
    "version": 3
   },
   "file_extension": ".py",
   "mimetype": "text/x-python",
   "name": "python",
   "nbconvert_exporter": "python",
   "pygments_lexer": "ipython3",
   "version": "3.7.6"
  }
 },
 "nbformat": 4,
 "nbformat_minor": 4
}
