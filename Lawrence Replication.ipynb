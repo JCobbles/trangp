{
 "cells": [
  {
   "cell_type": "code",
   "execution_count": 147,
   "metadata": {},
   "outputs": [],
   "source": [
    "import csv\n",
    "import pandas as pd\n",
    "import matplotlib.pyplot as plt\n",
    "import numpy as np\n",
    "import gpflow\n",
    "from gpflow.utilities import print_summary, positive\n",
    "plt.style.use('ggplot')\n",
    "%matplotlib inline\n",
    "import tensorflow as tf\n",
    "import math\n",
    "from tensorflow import math as tm\n",
    "from sklearn import preprocessing\n",
    "from scipy.interpolate import interp1d\n",
    "\n",
    "from tensorflow_probability import bijectors as tfb\n",
    "from tensorflow_probability import distributions as tfd\n",
    "from tensorflow_probability import mcmc\n",
    "\n",
    "PI = tf.constant(math.pi, dtype='float64')"
   ]
  },
  {
   "cell_type": "code",
   "execution_count": 2,
   "metadata": {
    "scrolled": true
   },
   "outputs": [],
   "source": [
    "# np.set_printoptions(threshold=np.inf)\n",
    "# np.set_printoptions(formatter={'float': lambda x: \"{0:0.3f}\".format(x)})\n",
    "# k_exp.D[2] = 1.2849\n",
    "# k_exp.D[3] = 1.0959\n",
    "# k_exp.lengthscale.assign(1.4110)\n",
    "# k_exp.h(2, 3).numpy()\n"
   ]
  },
  {
   "cell_type": "markdown",
   "metadata": {},
   "source": [
    "# Replication of the paper by Lawrence et al., 2006\n",
    "\n",
    "https://papers.nips.cc/paper/3119-modelling-transcriptional-regulation-using-gaussian-processes.pdf\n",
    "\n",
    "#### Probesets\n",
    "\n",
    "The original paper restricted their interest to 5 known targets of p53: \n",
    "- DDB2 -------------- (probeset 203409_at)\n",
    "- p21 ----------------- (probeset 202284_s_at) (alias p21CIP1, CDKN1A)\n",
    "- SESN1/hPA26 -- (probeset 218346_s_at)\n",
    "- BIK ----------------- (probeset 205780_at)\n",
    "- TNFRSF10b ----- (probeset 209294_x_at, 209295_at, 210405_x_at)"
   ]
  },
  {
   "cell_type": "code",
   "execution_count": 3,
   "metadata": {
    "scrolled": false
   },
   "outputs": [],
   "source": [
    "mmgmos_processed = True\n",
    "if mmgmos_processed:\n",
    "    with open('barencoPUMA_exprs.csv', 'r') as f:\n",
    "        df = pd.read_csv(f, index_col=0)\n",
    "    with open('barencoPUMA_se.csv', 'r') as f:\n",
    "        dfe = pd.read_csv(f, index_col=0)\n",
    "    columns = [f'cARP1-{t}hrs.CEL' for t in np.arange(7)*2]\n",
    "\n",
    "else:\n",
    "    with open('barenco_processed.tsv', 'r') as f:\n",
    "        df = pd.read_csv(f, delimiter='\\t', index_col=0)\n",
    "    display(df.head(5))\n",
    "    columns = [f'H_ARP1-{t}h.3' for t in np.arange(7)*2]\n",
    "\n",
    "known_target_genes = ['203409_at', '202284_s_at', '218346_s_at', '205780_at', '209295_at']\n",
    "genes = df[df.index.isin(known_target_genes)][columns]\n",
    "genes_se = dfe[dfe.index.isin(known_target_genes)][columns]\n"
   ]
  },
  {
   "cell_type": "code",
   "execution_count": 4,
   "metadata": {},
   "outputs": [],
   "source": [
    "assert df[df.duplicated()].size == 0"
   ]
  },
  {
   "cell_type": "markdown",
   "metadata": {},
   "source": [
    "### Probeset Combination\n",
    "\n",
    "TNFRSF10b has multiple probesets (probeset 209294_x_at, 209295_at, 210405_x_at) which should be combined.\n",
    "\n",
    "It can be observed below that the log intensities have a similar pattern. Thus a popular way to combine is to take the average of the log intensities."
   ]
  },
  {
   "cell_type": "code",
   "execution_count": 5,
   "metadata": {},
   "outputs": [
    {
     "name": "stdout",
     "output_type": "stream",
     "text": [
      "[1.086096572, 3.1600259160000004, 5.5508273610000005, 5.262909097, 4.809493267, 3.9572317439999996, 3.885223145]\n",
      "[3.9494367280000002, 7.283146992000001, 8.395333295, 8.14746491, 8.456766284, 7.370946042999999, 7.409659157]\n",
      "[-0.141718886, 1.204829083, 5.13730302, 5.0618756760000005, 5.064913861, 3.150539124, 2.115912072]\n"
     ]
    },
    {
     "name": "stderr",
     "output_type": "stream",
     "text": [
      "c:\\users\\jacob\\appdata\\local\\programs\\python\\python37\\lib\\site-packages\\ipykernel_launcher.py:14: RuntimeWarning: invalid value encountered in log\n",
      "  \n"
     ]
    },
    {
     "data": {
      "image/png": "[encoded data removed]",
      "text/plain": [
       "<Figure size 720x504 with 2 Axes>"
      ]
     },
     "metadata": {
      "needs_background": "light"
     },
     "output_type": "display_data"
    }
   ],
   "source": [
    "\n",
    "plt.figure(figsize=(10,7))\n",
    "plt.subplot(2,2,1)\n",
    "p53 = df[df.index.isin(['211300_s_at', '201746_at'])][columns].astype(float)\n",
    "for index, row in p53.iterrows():\n",
    "    p53.loc[index] = np.log(list(row))\n",
    "    plt.plot(list(row))\n",
    "\n",
    "p53_mean = pd.Series(p53.mean(0), index=genes.columns, name='p53')\n",
    "\n",
    "plt.subplot(2,2,2)\n",
    "TNFRSF10b = df[df.index.isin(['209294_x_at', '209295_at', '210405_x_at'])][columns]\n",
    "for index, row in TNFRSF10b.iterrows():\n",
    "    print(list(row))\n",
    "    TNFRSF10b.loc[index] = np.log(list(row))\n",
    "    plt.plot(list(row))\n",
    "\n",
    "TNFRSF10b_mean = pd.Series(TNFRSF10b.mean(0), index=genes.columns, name='TNFRSF10b')"
   ]
  },
  {
   "cell_type": "code",
   "execution_count": 6,
   "metadata": {},
   "outputs": [
    {
     "data": {
      "text/html": [
       "<div>\n",
       "<style scoped>\n",
       "    .dataframe tbody tr th:only-of-type {\n",
       "        vertical-align: middle;\n",
       "    }\n",
       "\n",
       "    .dataframe tbody tr th {\n",
       "        vertical-align: top;\n",
       "    }\n",
       "\n",
       "    .dataframe thead th {\n",
       "        text-align: right;\n",
       "    }\n",
       "</style>\n",
       "<table border=\"1\" class=\"dataframe\">\n",
       "  <thead>\n",
       "    <tr style=\"text-align: right;\">\n",
       "      <th></th>\n",
       "      <th>cARP1-0hrs.CEL</th>\n",
       "      <th>cARP1-2hrs.CEL</th>\n",
       "      <th>cARP1-4hrs.CEL</th>\n",
       "      <th>cARP1-6hrs.CEL</th>\n",
       "      <th>cARP1-8hrs.CEL</th>\n",
       "      <th>cARP1-10hrs.CEL</th>\n",
       "      <th>cARP1-12hrs.CEL</th>\n",
       "    </tr>\n",
       "  </thead>\n",
       "  <tbody>\n",
       "    <tr>\n",
       "      <th>p21</th>\n",
       "      <td>1.268160</td>\n",
       "      <td>7.375613</td>\n",
       "      <td>9.600847</td>\n",
       "      <td>8.485615</td>\n",
       "      <td>8.134573</td>\n",
       "      <td>7.045323</td>\n",
       "      <td>7.171770</td>\n",
       "    </tr>\n",
       "    <tr>\n",
       "      <th>DDB2</th>\n",
       "      <td>7.593549</td>\n",
       "      <td>9.122439</td>\n",
       "      <td>10.192915</td>\n",
       "      <td>10.154778</td>\n",
       "      <td>10.103455</td>\n",
       "      <td>9.529804</td>\n",
       "      <td>9.567770</td>\n",
       "    </tr>\n",
       "    <tr>\n",
       "      <th>BIK</th>\n",
       "      <td>2.905667</td>\n",
       "      <td>6.756250</td>\n",
       "      <td>8.154665</td>\n",
       "      <td>8.222898</td>\n",
       "      <td>8.074595</td>\n",
       "      <td>7.026262</td>\n",
       "      <td>7.001658</td>\n",
       "    </tr>\n",
       "    <tr>\n",
       "      <th>TNFRSF10b</th>\n",
       "      <td>3.949437</td>\n",
       "      <td>7.283147</td>\n",
       "      <td>8.395333</td>\n",
       "      <td>8.147465</td>\n",
       "      <td>8.456766</td>\n",
       "      <td>7.370946</td>\n",
       "      <td>7.409659</td>\n",
       "    </tr>\n",
       "    <tr>\n",
       "      <th>SESN1</th>\n",
       "      <td>6.354029</td>\n",
       "      <td>7.703226</td>\n",
       "      <td>8.818485</td>\n",
       "      <td>8.608104</td>\n",
       "      <td>8.803210</td>\n",
       "      <td>7.860224</td>\n",
       "      <td>7.981910</td>\n",
       "    </tr>\n",
       "    <tr>\n",
       "      <th>p53</th>\n",
       "      <td>1.801008</td>\n",
       "      <td>1.887280</td>\n",
       "      <td>1.939142</td>\n",
       "      <td>1.812769</td>\n",
       "      <td>1.833809</td>\n",
       "      <td>1.692203</td>\n",
       "      <td>1.611795</td>\n",
       "    </tr>\n",
       "  </tbody>\n",
       "</table>\n",
       "</div>"
      ],
      "text/plain": [
       "           cARP1-0hrs.CEL  cARP1-2hrs.CEL  cARP1-4hrs.CEL  cARP1-6hrs.CEL  \\\n",
       "p21              1.268160        7.375613        9.600847        8.485615   \n",
       "DDB2             7.593549        9.122439       10.192915       10.154778   \n",
       "BIK              2.905667        6.756250        8.154665        8.222898   \n",
       "TNFRSF10b        3.949437        7.283147        8.395333        8.147465   \n",
       "SESN1            6.354029        7.703226        8.818485        8.608104   \n",
       "p53              1.801008        1.887280        1.939142        1.812769   \n",
       "\n",
       "           cARP1-8hrs.CEL  cARP1-10hrs.CEL  cARP1-12hrs.CEL  \n",
       "p21              8.134573         7.045323         7.171770  \n",
       "DDB2            10.103455         9.529804         9.567770  \n",
       "BIK              8.074595         7.026262         7.001658  \n",
       "TNFRSF10b        8.456766         7.370946         7.409659  \n",
       "SESN1            8.803210         7.860224         7.981910  \n",
       "p53              1.833809         1.692203         1.611795  "
      ]
     },
     "metadata": {},
     "output_type": "display_data"
    },
    {
     "data": {
      "text/html": [
       "<div>\n",
       "<style scoped>\n",
       "    .dataframe tbody tr th:only-of-type {\n",
       "        vertical-align: middle;\n",
       "    }\n",
       "\n",
       "    .dataframe tbody tr th {\n",
       "        vertical-align: top;\n",
       "    }\n",
       "\n",
       "    .dataframe thead th {\n",
       "        text-align: right;\n",
       "    }\n",
       "</style>\n",
       "<table border=\"1\" class=\"dataframe\">\n",
       "  <thead>\n",
       "    <tr style=\"text-align: right;\">\n",
       "      <th></th>\n",
       "      <th>cARP1-0hrs.CEL</th>\n",
       "      <th>cARP1-2hrs.CEL</th>\n",
       "      <th>cARP1-4hrs.CEL</th>\n",
       "      <th>cARP1-6hrs.CEL</th>\n",
       "      <th>cARP1-8hrs.CEL</th>\n",
       "      <th>cARP1-10hrs.CEL</th>\n",
       "      <th>cARP1-12hrs.CEL</th>\n",
       "    </tr>\n",
       "  </thead>\n",
       "  <tbody>\n",
       "    <tr>\n",
       "      <th>p21</th>\n",
       "      <td>2.587364</td>\n",
       "      <td>0.557080</td>\n",
       "      <td>0.216786</td>\n",
       "      <td>0.326715</td>\n",
       "      <td>0.392748</td>\n",
       "      <td>0.624041</td>\n",
       "      <td>0.566781</td>\n",
       "    </tr>\n",
       "    <tr>\n",
       "      <th>DDB2</th>\n",
       "      <td>0.249263</td>\n",
       "      <td>0.137954</td>\n",
       "      <td>0.092652</td>\n",
       "      <td>0.092837</td>\n",
       "      <td>0.095946</td>\n",
       "      <td>0.117834</td>\n",
       "      <td>0.111057</td>\n",
       "    </tr>\n",
       "    <tr>\n",
       "      <th>BIK</th>\n",
       "      <td>1.835773</td>\n",
       "      <td>0.605828</td>\n",
       "      <td>0.346498</td>\n",
       "      <td>0.308507</td>\n",
       "      <td>0.331839</td>\n",
       "      <td>0.524867</td>\n",
       "      <td>0.503841</td>\n",
       "    </tr>\n",
       "    <tr>\n",
       "      <th>TNFRSF10b</th>\n",
       "      <td>0.939674</td>\n",
       "      <td>0.230524</td>\n",
       "      <td>0.146372</td>\n",
       "      <td>0.156875</td>\n",
       "      <td>0.140932</td>\n",
       "      <td>0.222533</td>\n",
       "      <td>0.209342</td>\n",
       "    </tr>\n",
       "    <tr>\n",
       "      <th>SESN1</th>\n",
       "      <td>0.322529</td>\n",
       "      <td>0.185634</td>\n",
       "      <td>0.117371</td>\n",
       "      <td>0.124440</td>\n",
       "      <td>0.117990</td>\n",
       "      <td>0.170974</td>\n",
       "      <td>0.155030</td>\n",
       "    </tr>\n",
       "  </tbody>\n",
       "</table>\n",
       "</div>"
      ],
      "text/plain": [
       "           cARP1-0hrs.CEL  cARP1-2hrs.CEL  cARP1-4hrs.CEL  cARP1-6hrs.CEL  \\\n",
       "p21              2.587364        0.557080        0.216786        0.326715   \n",
       "DDB2             0.249263        0.137954        0.092652        0.092837   \n",
       "BIK              1.835773        0.605828        0.346498        0.308507   \n",
       "TNFRSF10b        0.939674        0.230524        0.146372        0.156875   \n",
       "SESN1            0.322529        0.185634        0.117371        0.124440   \n",
       "\n",
       "           cARP1-8hrs.CEL  cARP1-10hrs.CEL  cARP1-12hrs.CEL  \n",
       "p21              0.392748         0.624041         0.566781  \n",
       "DDB2             0.095946         0.117834         0.111057  \n",
       "BIK              0.331839         0.524867         0.503841  \n",
       "TNFRSF10b        0.140932         0.222533         0.209342  \n",
       "SESN1            0.117990         0.170974         0.155030  "
      ]
     },
     "metadata": {},
     "output_type": "display_data"
    }
   ],
   "source": [
    "index ={\n",
    "    '203409_at': 'DDB2', \n",
    "    '202284_s_at': 'p21',\n",
    "    '218346_s_at': 'SESN1',\n",
    "    '205780_at': 'BIK',\n",
    "    '209295_at': 'TNFRSF10b'\n",
    "}\n",
    "genes.rename(index=index, inplace=True)\n",
    "genes_se.rename(index=index, inplace=True)\n",
    "\n",
    "# genes = genes.append(TNFRSF10b_mean, ignore_index=False)\n",
    "genes = genes.append(p53_mean, ignore_index=False).astype(np.float64)\n",
    "#print(genes.loc[genes['Scan REF'] == pd.nan, 'Scan REF'])# = 'test'\n",
    "display(genes)\n",
    "display(genes_se)\n"
   ]
  },
  {
   "cell_type": "code",
   "execution_count": 7,
   "metadata": {},
   "outputs": [
    {
     "data": {
      "text/plain": [
       "[<matplotlib.lines.Line2D at 0x22693836808>]"
      ]
     },
     "execution_count": 7,
     "metadata": {},
     "output_type": "execute_result"
    },
    {
     "data": {
      "image/png": "[encoded data removed]",
      "text/plain": [
       "<Figure size 432x288 with 1 Axes>"
      ]
     },
     "metadata": {
      "needs_background": "light"
     },
     "output_type": "display_data"
    }
   ],
   "source": [
    "plt.plot(genes[genes.index == 'p53'].values[0])"
   ]
  },
  {
   "cell_type": "markdown",
   "metadata": {},
   "source": [
    "### Setup data"
   ]
  },
  {
   "cell_type": "code",
   "execution_count": 18,
   "metadata": {},
   "outputs": [
    {
     "name": "stdout",
     "output_type": "stream",
     "text": [
      "[ 0.  2.  4.  6.  8. 10. 12.  0.  2.  4.  6.  8. 10. 12.  0.  2.  4.  6.\n",
      "  8. 10. 12.  0.  2.  4.  6.  8. 10. 12.  0.  2.  4.  6.  8. 10. 12.]\n",
      "[[0.02128189]\n",
      " [0.39278111]\n",
      " [3.1869369 ]\n",
      " [1.07648558]\n",
      " [0.77601276]\n",
      " [0.29368458]\n",
      " [0.32209943]\n",
      " [0.23514879]]\n",
      "(35,) (35, 1)\n"
     ]
    }
   ],
   "source": [
    "num_genes = 5 #X.shape[1]\n",
    "num_times = 7\n",
    "scaler = preprocessing.StandardScaler()\n",
    "training_genes = genes[genes.index != 'p53'].values\n",
    "training_genes_se = genes_se[genes_se.index != 'p53'].values\n",
    "\n",
    "\n",
    "Y_var = training_genes_se*training_genes_se\n",
    "Y = np.exp(training_genes+Y_var/2)\n",
    "Y_var = (np.exp(Y_var)-1) * np.exp(2*training_genes + Y_var)\n",
    "\n",
    "scale = np.sqrt(np.var(Y, axis=1));\n",
    "scale_mat = np.c_[[scale for _ in range(7)]].T\n",
    "Y = Y / scale_mat\n",
    "Y_var = Y_var / (scale_mat * scale_mat)\n",
    "\n",
    "Y_orig_shape = Y.shape\n",
    "Y = Y.reshape(-1, 1)\n",
    "Y_var = Y_var.reshape(-1, 1)\n",
    "Sigma = tf.linalg.tensor_diag(Y_var.reshape(-1))\n",
    "\n",
    "Y_f = genes[genes.index == 'p53'].values[0].reshape(-1, 1)\n",
    "# Y = scaler.fit_transform(Y)\n",
    "X = np.arange(num_times, dtype='float64')*2\n",
    "X = np.c_[[X for _ in range(num_genes)]].reshape(-1)\n",
    "print(X)\n",
    "print(Y[:8])\n",
    "print(X.shape,Y.shape)"
   ]
  },
  {
   "cell_type": "markdown",
   "metadata": {},
   "source": [
    "### Model\n",
    "\n",
    "We fix the sensitivity of p21 to be 1, and decay to be 0.8 as in Barenco et al."
   ]
  },
  {
   "cell_type": "markdown",
   "metadata": {},
   "source": [
    "            K_xx = np.zeros([X.shape[0],X.shape[0]], dtype='float64')\n",
    "            print(K_xx.shape)\n",
    "            for j in range(num_genes):\n",
    "                for k in range(num_genes):\n",
    "                    K_xx[j*block_size:(j+1)*block_size, \n",
    "                         k*block_size:(k+1)*block_size] = self.k_xx(j, k, X)\n",
    "            return K_xx\n"
   ]
  },
  {
   "cell_type": "code",
   "execution_count": 141,
   "metadata": {},
   "outputs": [
    {
     "data": {
      "text/html": [
       "<table>\n",
       "<thead>\n",
       "<tr><th>name                        </th><th>class    </th><th>transform  </th><th>trainable  </th><th>prior  </th><th>shape  </th><th style=\"text-align: right;\">  dtype</th></tr>\n",
       "</thead>\n",
       "<tbody>\n",
       "<tr><td>ExpressionKernel.lengthscale</td><td>Parameter</td><td>Softplus   </td><td>True       </td><td>()     </td><td>float64</td><td style=\"text-align: right;\">    1  </td></tr>\n",
       "<tr><td>ExpressionKernel.D[0]       </td><td>Parameter</td><td>Chain      </td><td>False      </td><td>()     </td><td>float64</td><td style=\"text-align: right;\">    0.8</td></tr>\n",
       "<tr><td>ExpressionKernel.D[1]       </td><td>Parameter</td><td>Chain      </td><td>True       </td><td>()     </td><td>float64</td><td style=\"text-align: right;\">    1  </td></tr>\n",
       "<tr><td>ExpressionKernel.D[2]       </td><td>Parameter</td><td>Chain      </td><td>True       </td><td>()     </td><td>float64</td><td style=\"text-align: right;\">    1  </td></tr>\n",
       "<tr><td>ExpressionKernel.D[3]       </td><td>Parameter</td><td>Chain      </td><td>True       </td><td>()     </td><td>float64</td><td style=\"text-align: right;\">    1  </td></tr>\n",
       "<tr><td>ExpressionKernel.D[4]       </td><td>Parameter</td><td>Chain      </td><td>True       </td><td>()     </td><td>float64</td><td style=\"text-align: right;\">    1  </td></tr>\n",
       "<tr><td>ExpressionKernel.S[0]       </td><td>Parameter</td><td>Chain      </td><td>False      </td><td>()     </td><td>float64</td><td style=\"text-align: right;\">    1  </td></tr>\n",
       "<tr><td>ExpressionKernel.S[1]       </td><td>Parameter</td><td>Chain      </td><td>True       </td><td>()     </td><td>float64</td><td style=\"text-align: right;\">    1  </td></tr>\n",
       "<tr><td>ExpressionKernel.S[2]       </td><td>Parameter</td><td>Chain      </td><td>True       </td><td>()     </td><td>float64</td><td style=\"text-align: right;\">    1  </td></tr>\n",
       "<tr><td>ExpressionKernel.S[3]       </td><td>Parameter</td><td>Chain      </td><td>True       </td><td>()     </td><td>float64</td><td style=\"text-align: right;\">    1  </td></tr>\n",
       "<tr><td>ExpressionKernel.S[4]       </td><td>Parameter</td><td>Chain      </td><td>True       </td><td>()     </td><td>float64</td><td style=\"text-align: right;\">    1  </td></tr>\n",
       "</tbody>\n",
       "</table>"
      ],
      "text/plain": [
       "<IPython.core.display.HTML object>"
      ]
     },
     "metadata": {},
     "output_type": "display_data"
    }
   ],
   "source": [
    "class ExpressionKernel(gpflow.kernels.Kernel):\n",
    "    def __init__(self):\n",
    "        super().__init__(active_dims=[0])\n",
    "        self.lengthscale = gpflow.Parameter(1.0, transform=positive())\n",
    "#         B = tf.ones(5)\n",
    "#         self.B = gpflow.Parameter(B)\n",
    "#         self.D = gpflow.Parameter(np.random.uniform(0.5, 1, 5), transform=positive())\n",
    "#         S = tf.ones(5)\n",
    "        D_affine = tfb.AffineScalar(shift=tf.cast(0.1, tf.float64),\n",
    "                                    scale=tf.cast(1.5-0.1, tf.float64))\n",
    "        D_sigmoid = tfb.Sigmoid()\n",
    "        D_logistic = tfb.Chain([D_affine, D_sigmoid])\n",
    "        S_affine = tfb.AffineScalar(shift=tf.cast(0.1, tf.float64),\n",
    "                                    scale=tf.cast(3.-0.1, tf.float64))\n",
    "        S_sigmoid = tfb.Sigmoid()\n",
    "        S_logistic = tfb.Chain([S_affine, S_sigmoid])\n",
    "\n",
    "        self.D = [gpflow.Parameter(np.random.uniform(1, 1), transform=S_logistic, dtype=tf.float64) for _ in range(num_genes)]\n",
    "        self.D[0].trainable = False\n",
    "        self.D[0].assign(0.8)\n",
    "\n",
    "        self.S = [gpflow.Parameter(np.random.uniform(1, 1), transform=S_logistic, dtype=tf.float64) for _ in range(num_genes)]\n",
    "        self.S[0].trainable = False\n",
    "        self.S[0].assign(1)\n",
    "        \n",
    "        \n",
    "    def K(self, X, X2=None):\n",
    "        self.block_size = int(X.shape[0]/num_genes)\n",
    "        interp = interp1d(np.arange(Y_var.shape[0]), Y_var.reshape(-1), kind='linear')\n",
    "        Sigma = interp(np.linspace(0,Y_var.shape[0]-1, X.shape[0]))\n",
    "        Sigma = tf.linalg.tensor_diag(Sigma)\n",
    "        if X2 is None:\n",
    "            shape = [X.shape[0],X.shape[0]]\n",
    "            K_xx = tf.zeros(shape, dtype='float64')\n",
    "            for j in range(num_genes):\n",
    "                for k in range(num_genes):\n",
    "                    mask = np.ones(shape)\n",
    "                    other = np.zeros(shape)\n",
    "                    mask[j*self.block_size:(j+1)*self.block_size, \n",
    "                         k*self.block_size:(k+1)*self.block_size] = 0\n",
    "                    \n",
    "                    pad_top = j*self.block_size\n",
    "                    pad_left = k*self.block_size\n",
    "                    pad_right = 0 if k == num_genes-1 else shape[0]-self.block_size-pad_left\n",
    "                    pad_bottom = 0 if j == num_genes-1 else shape[0]-self.block_size-pad_top\n",
    "                    other = tf.pad(self.k_xx(j, k),\n",
    "                                   tf.constant([\n",
    "                                       [pad_top,pad_bottom],\n",
    "                                       [pad_left,pad_right]\n",
    "                                   ]), 'CONSTANT'\n",
    "                                  )\n",
    "#                     print(j, k, pad_right, pad_bottom, other.shape)\n",
    "                    K_xx = K_xx * mask + other * (1 - mask)\n",
    "\n",
    "\n",
    "            return K_xx + Sigma\n",
    "        else:\n",
    "            print('K not none K_xf\\n')\n",
    "            shape = [X.shape[0],self.block_size]\n",
    "            K_xf = tf.zeros(shape, dtype='float64')\n",
    "            for j in range(num_genes):\n",
    "                mask = np.ones(shape)\n",
    "                other = np.zeros(shape)\n",
    "                mask[j*self.block_size:(j+1)*self.block_size] = 0\n",
    "                other[j*self.block_size:(j+1)*self.block_size] = self.k_xf(j, X)\n",
    "\n",
    "                K_xf = K_xf * mask + other * (1-mask) \n",
    "            return K_xf\n",
    "        \n",
    "\n",
    "    def gamma(self, k):\n",
    "        return self.D[k]*self.lengthscale/2\n",
    "\n",
    "    def h(self, k, j, primefirst=True):\n",
    "        l = self.lengthscale\n",
    "#         print(l, self.D[k], self.D[j])\n",
    "        t_prime, t, t_dist = self.get_distance_matrix(primefirst=primefirst, size=self.block_size)\n",
    "        multiplier = tm.exp(self.gamma(k)**2) / (self.D[j]+self.D[k])\n",
    "        first_erf_term = tm.erf(t_dist/l - self.gamma(k)) + tm.erf(t/l + self.gamma(k))\n",
    "        second_erf_term = tm.erf(t_prime/l - self.gamma(k)) + tm.erf(self.gamma(k))\n",
    "        return multiplier * (tf.multiply(tm.exp(-tm.multiply(self.D[k],t_dist)) , first_erf_term) - \\\n",
    "                             tf.multiply(tm.exp(-tm.multiply(self.D[k],t_prime)-tm.multiply(self.D[j],t)) , second_erf_term))\n",
    "    \n",
    "\n",
    "    def k_xx(self, j, k):\n",
    "        '''k_xx(t, tprime)'''\n",
    "        mult = self.S[j]*self.S[k]*self.lengthscale*0.5*tm.sqrt(PI)\n",
    "        return mult*(self.h(k, j) + self.h(j, k, primefirst=False))\n",
    "\n",
    "\n",
    "    def get_distance_matrix(self, primefirst=True, size=7):\n",
    "        t = tf.cast(tf.range(size)*2, tf.float64)\n",
    "        t_ = tf.reshape(tf.tile(t, [size]), [ size, tf.shape(t)[0]])\n",
    "        t_prime = tf.transpose(tf.reshape(tf.tile(t, [size]), [ size, tf.shape(t)[0]]))\n",
    "        if not primefirst:\n",
    "            t_prime = tf.reshape(tf.tile(t, [size]), [ size, tf.shape(t)[0]])\n",
    "            t_ = tf.transpose(tf.reshape(tf.tile(t, [size]), [ size, tf.shape(t)[0]]))\n",
    "\n",
    "        return t_prime, t_, t_prime-t_\n",
    "    \n",
    "    def k_xf(self, j, X):\n",
    "        t_prime, t_, t_dist = self.get_distance_matrix(size=self.block_size)\n",
    "        l = self.lengthscale\n",
    "        erf_term = tm.erf(t_dist/l - self.gamma(j)) + tm.erf(t_/l + self.gamma(j))\n",
    "        \n",
    "        return self.S[j]*l*0.5*tm.sqrt(PI)*tm.exp(self.gamma(j))**2 *tm.exp(-self.D[j]*t_dist)*erf_term\n",
    "\n",
    "    def K_diag(self, X):\n",
    "        print('k_diag')\n",
    "\n",
    "        \"\"\"I've used the fact that we call this method for K_ff when finding the covariance as a hack so\n",
    "        I know if I should return K_ff or K_xx. In this case we're returning K_ff!!\n",
    "        $K_{ff}^{post} = K_{ff} - K_{fx} K_{xx}^{-1} K_{xf}$\"\"\"\n",
    "        _,_,t_dist = self.get_distance_matrix(size=X.shape[0])\n",
    "        K_ff = tf.math.exp(-(t_dist**2)/(self.lengthscale**2))\n",
    "        return tf.linalg.tensor_diag_part(K_ff)\n",
    "\n",
    "\n",
    "k_exp = ExpressionKernel()\n",
    "print_summary(k_exp, fmt='notebook')"
   ]
  },
  {
   "cell_type": "code",
   "execution_count": 142,
   "metadata": {},
   "outputs": [],
   "source": [
    "class MeanFunction(gpflow.mean_functions.MeanFunction):\n",
    "    def __init__(self):\n",
    "        affine = tfb.AffineScalar(shift=tf.cast(0., tf.float64),\n",
    "                                  scale=tf.cast(2.-0., tf.float64))\n",
    "        sigmoid = tfb.Sigmoid()\n",
    "        logistic = tfb.Chain([affine, sigmoid])\n",
    "\n",
    "        self.B = [gpflow.Parameter(np.mean(row)*k_exp.D[i], transform=logistic) for i, row in enumerate(Y.reshape(Y_orig_shape))]\n",
    "\n",
    "    def __call__(self, X):\n",
    "        ret = tf.zeros(0, dtype='double')\n",
    "        block_size = int(X.shape[0]/num_genes)\n",
    "        for j in range(num_genes):\n",
    "            ret = tf.concat([ret, tf.repeat(self.B[j]/k_exp.D[j], block_size)], axis=0)\n",
    "#         ret = tf.divide(self.B, (k_exp.D)).repeat(7)\n",
    "\n",
    "        return ret\n",
    "\n",
    "meanfunc_exp = MeanFunction()"
   ]
  },
  {
   "cell_type": "code",
   "execution_count": 143,
   "metadata": {
    "scrolled": true
   },
   "outputs": [
    {
     "name": "stdout",
     "output_type": "stream",
     "text": [
      "name                     class      transform    trainable    prior    shape       dtype\n",
      "-----------------------  ---------  -----------  -----------  -------  -------  --------\n",
      "GPR.mean_function.B[0]   Parameter  Chain        True         ()       float64  0.693632\n",
      "GPR.mean_function.B[1]   Parameter  Chain        True         ()       float64  1.91472\n",
      "GPR.mean_function.B[2]   Parameter  Chain        True         ()       float64  1.48108\n",
      "GPR.mean_function.B[3]   Parameter  Chain        True         ()       float64  1.55876\n",
      "GPR.mean_function.B[4]   Parameter  Chain        True         ()       float64  1.75657\n",
      "GPR.kernel.lengthscale   Parameter  Softplus     True         ()       float64  1\n",
      "GPR.kernel.D[0]          Parameter  Chain        False        ()       float64  0.8\n",
      "GPR.kernel.D[1]          Parameter  Chain        True         ()       float64  1\n",
      "GPR.kernel.D[2]          Parameter  Chain        True         ()       float64  1\n",
      "GPR.kernel.D[3]          Parameter  Chain        True         ()       float64  1\n",
      "GPR.kernel.D[4]          Parameter  Chain        True         ()       float64  1\n",
      "GPR.kernel.S[0]          Parameter  Chain        False        ()       float64  1\n",
      "GPR.kernel.S[1]          Parameter  Chain        True         ()       float64  1\n",
      "GPR.kernel.S[2]          Parameter  Chain        True         ()       float64  1\n",
      "GPR.kernel.S[3]          Parameter  Chain        True         ()       float64  1\n",
      "GPR.kernel.S[4]          Parameter  Chain        True         ()       float64  1\n",
      "GPR.likelihood.variance  Parameter  Softplus     True         ()       float64  1\n",
      "tf.Tensor(1741.993874798704, shape=(), dtype=float64)\n",
      "tf.Tensor(1741.993874798704, shape=(), dtype=float64)\n",
      "tf.Tensor(1640.5477538969599, shape=(), dtype=float64)\n",
      "tf.Tensor(1683.4139998818414, shape=(), dtype=float64)\n",
      "tf.Tensor(1583.6711047353797, shape=(), dtype=float64)\n",
      "tf.Tensor(1491.4647873719175, shape=(), dtype=float64)\n",
      "tf.Tensor(1426.4922730345977, shape=(), dtype=float64)\n",
      "tf.Tensor(1437.570697246737, shape=(), dtype=float64)\n",
      "tf.Tensor(1370.611920785458, shape=(), dtype=float64)\n",
      "tf.Tensor(1283.9310303459852, shape=(), dtype=float64)\n",
      "tf.Tensor(1286.8633048767804, shape=(), dtype=float64)\n",
      "tf.Tensor(1272.4674890455133, shape=(), dtype=float64)\n",
      "tf.Tensor(1446.1091715121177, shape=(), dtype=float64)\n",
      "tf.Tensor(1235.8187625901235, shape=(), dtype=float64)\n",
      "tf.Tensor(1210.4168691461275, shape=(), dtype=float64)\n",
      "tf.Tensor(1202.840634438814, shape=(), dtype=float64)\n",
      "tf.Tensor(1194.9647328834822, shape=(), dtype=float64)\n",
      "tf.Tensor(1166.4574401617588, shape=(), dtype=float64)\n",
      "tf.Tensor(1130.2183175503137, shape=(), dtype=float64)\n",
      "tf.Tensor(1133.868054710088, shape=(), dtype=float64)\n",
      "tf.Tensor(1086.1637476113328, shape=(), dtype=float64)\n",
      "tf.Tensor(1008.2215552582946, shape=(), dtype=float64)\n",
      "tf.Tensor(941.1170583059256, shape=(), dtype=float64)\n",
      "tf.Tensor(1144.0910513846104, shape=(), dtype=float64)\n",
      "tf.Tensor(874.9114705079454, shape=(), dtype=float64)\n",
      "tf.Tensor(820.0235972589226, shape=(), dtype=float64)\n",
      "tf.Tensor(789.0361672604408, shape=(), dtype=float64)\n",
      "tf.Tensor(890.9291215670437, shape=(), dtype=float64)\n",
      "tf.Tensor(783.4137635322076, shape=(), dtype=float64)\n",
      "tf.Tensor(772.7956037250386, shape=(), dtype=float64)\n",
      "tf.Tensor(754.6634941871604, shape=(), dtype=float64)\n",
      "tf.Tensor(897.77691271065, shape=(), dtype=float64)\n",
      "tf.Tensor(749.5448850518894, shape=(), dtype=float64)\n",
      "tf.Tensor(742.1134557323256, shape=(), dtype=float64)\n",
      "tf.Tensor(740.4375127231845, shape=(), dtype=float64)\n",
      "tf.Tensor(732.1079244995883, shape=(), dtype=float64)\n",
      "tf.Tensor(724.6401274206357, shape=(), dtype=float64)\n",
      "tf.Tensor(721.3588839793454, shape=(), dtype=float64)\n",
      "tf.Tensor(719.6491884595042, shape=(), dtype=float64)\n",
      "tf.Tensor(710.8329869341403, shape=(), dtype=float64)\n",
      "tf.Tensor(703.6732802758352, shape=(), dtype=float64)\n",
      "tf.Tensor(849.6151806690648, shape=(), dtype=float64)\n",
      "tf.Tensor(701.5417145959067, shape=(), dtype=float64)\n",
      "tf.Tensor(697.9744889062496, shape=(), dtype=float64)\n",
      "tf.Tensor(695.3497690612307, shape=(), dtype=float64)\n",
      "tf.Tensor(693.4415953529223, shape=(), dtype=float64)\n",
      "tf.Tensor(691.6343565518678, shape=(), dtype=float64)\n",
      "tf.Tensor(688.3904438069476, shape=(), dtype=float64)\n",
      "tf.Tensor(692.4767381662384, shape=(), dtype=float64)\n",
      "tf.Tensor(687.3395283644512, shape=(), dtype=float64)\n",
      "tf.Tensor(685.799004811517, shape=(), dtype=float64)\n",
      "tf.Tensor(685.4067851304942, shape=(), dtype=float64)\n",
      "tf.Tensor(681.6586571636707, shape=(), dtype=float64)\n",
      "tf.Tensor(670.1141186769277, shape=(), dtype=float64)\n",
      "tf.Tensor(665.6380791585871, shape=(), dtype=float64)\n",
      "tf.Tensor(812.8590990543983, shape=(), dtype=float64)\n",
      "tf.Tensor(663.2632260649921, shape=(), dtype=float64)\n",
      "Warning: Maximum number of iterations has been exceeded.\n",
      "         Current function value: 663.263226\n",
      "         Iterations: 30\n",
      "         Function evaluations: 56\n",
      "         Gradient evaluations: 56\n",
      "name                     class      transform    trainable    prior    shape         dtype\n",
      "-----------------------  ---------  -----------  -----------  -------  -------  ----------\n",
      "GPR.mean_function.B[0]   Parameter  Chain        True         ()       float64  0.114838\n",
      "GPR.mean_function.B[1]   Parameter  Chain        True         ()       float64  0.118241\n",
      "GPR.mean_function.B[2]   Parameter  Chain        True         ()       float64  0.107508\n",
      "GPR.mean_function.B[3]   Parameter  Chain        True         ()       float64  0.109779\n",
      "GPR.mean_function.B[4]   Parameter  Chain        True         ()       float64  0.127466\n",
      "GPR.kernel.lengthscale   Parameter  Softplus     True         ()       float64  0.321575\n",
      "GPR.kernel.D[0]          Parameter  Chain        False        ()       float64  0.8\n",
      "GPR.kernel.D[1]          Parameter  Chain        True         ()       float64  0.578037\n",
      "GPR.kernel.D[2]          Parameter  Chain        True         ()       float64  0.735773\n",
      "GPR.kernel.D[3]          Parameter  Chain        True         ()       float64  0.70608\n",
      "GPR.kernel.D[4]          Parameter  Chain        True         ()       float64  0.644529\n",
      "GPR.kernel.S[0]          Parameter  Chain        False        ()       float64  1\n",
      "GPR.kernel.S[1]          Parameter  Chain        True         ()       float64  2.99857\n",
      "GPR.kernel.S[2]          Parameter  Chain        True         ()       float64  2.93999\n",
      "GPR.kernel.S[3]          Parameter  Chain        True         ()       float64  2.95818\n",
      "GPR.kernel.S[4]          Parameter  Chain        True         ()       float64  2.99483\n",
      "GPR.likelihood.variance  Parameter  Softplus     True         ()       float64  0.00355173\n"
     ]
    }
   ],
   "source": [
    "model = gpflow.models.GPR(data=(X, Y), kernel=k_exp, mean_function=meanfunc_exp)\n",
    "gpflow.config.set_default_jitter(1e3)\n",
    "\n",
    "opt = gpflow.optimizers.Scipy()\n",
    "print_summary(model)\n",
    "Ds = list()\n",
    "i = 0\n",
    "def objective_closure():\n",
    "    global Ds, i\n",
    "    try:\n",
    "        ret = - model.log_marginal_likelihood()\n",
    "    except:\n",
    "        print_summary(model)\n",
    "        raise Exception('Failed (probably Cholesky decomposition)')\n",
    "\n",
    "\n",
    "    Ds.append([s.numpy() for s in model.kernel.D])\n",
    "\n",
    "    print(ret)\n",
    "    return ret\n",
    "opt_logs = opt.minimize(objective_closure,\n",
    "                        model.trainable_variables,\n",
    "                        options=dict(maxiter=30, disp=True),\n",
    "                        method='CG')\n",
    "print_summary(model)\n"
   ]
  },
  {
   "cell_type": "code",
   "execution_count": 91,
   "metadata": {},
   "outputs": [
    {
     "name": "stdout",
     "output_type": "stream",
     "text": [
      "name                     class      transform    trainable    prior    shape         dtype\n",
      "-----------------------  ---------  -----------  -----------  -------  -------  ----------\n",
      "GPR.mean_function.B[0]   Parameter  Chain        True         ()       float64  0.130534\n",
      "GPR.mean_function.B[1]   Parameter  Chain        True         ()       float64  0.122339\n",
      "GPR.mean_function.B[2]   Parameter  Chain        True         ()       float64  0.128983\n",
      "GPR.mean_function.B[3]   Parameter  Chain        True         ()       float64  0.0849179\n",
      "GPR.mean_function.B[4]   Parameter  Chain        True         ()       float64  0.0998821\n",
      "GPR.kernel.lengthscale   Parameter  Softplus     True         ()       float64  0.238157\n",
      "GPR.kernel.D[0]          Parameter  Chain        False        ()       float64  0.8\n",
      "GPR.kernel.D[1]          Parameter  Chain        True         ()       float64  0.100164\n",
      "GPR.kernel.D[2]          Parameter  Chain        True         ()       float64  0.807912\n",
      "GPR.kernel.D[3]          Parameter  Chain        True         ()       float64  2.59644\n",
      "GPR.kernel.D[4]          Parameter  Chain        True         ()       float64  2.96245\n",
      "GPR.kernel.S[0]          Parameter  Chain        False        ()       float64  1\n",
      "GPR.kernel.S[1]          Parameter  Chain        True         ()       float64  2.99865\n",
      "GPR.kernel.S[2]          Parameter  Chain        True         ()       float64  2.93747\n",
      "GPR.kernel.S[3]          Parameter  Chain        True         ()       float64  2.9488\n",
      "GPR.kernel.S[4]          Parameter  Chain        True         ()       float64  2.99495\n",
      "GPR.likelihood.variance  Parameter  Softplus     True         ()       float64  0.00373269\n"
     ]
    }
   ],
   "source": [
    "print_summary(model)"
   ]
  },
  {
   "cell_type": "code",
   "execution_count": 103,
   "metadata": {},
   "outputs": [
    {
     "data": {
      "image/png": "[encoded data removed]",
      "text/plain": [
       "<Figure size 720x576 with 5 Axes>"
      ]
     },
     "metadata": {
      "needs_background": "light"
     },
     "output_type": "display_data"
    }
   ],
   "source": [
    "plt.figure(figsize=(10, 8))\n",
    "for i in range(5):\n",
    "    plt.subplot(531+i)\n",
    "    D1 = list(map(lambda s:s[i], Ds))\n",
    "    plt.plot(D1)"
   ]
  },
  {
   "cell_type": "code",
   "execution_count": 148,
   "metadata": {},
   "outputs": [
    {
     "name": "stdout",
     "output_type": "stream",
     "text": [
      "name                     class      transform    trainable    prior    shape         dtype\n",
      "-----------------------  ---------  -----------  -----------  -------  -------  ----------\n",
      "GPR.mean_function.B[0]   Parameter  Chain        True         ()       float64  0.114838\n",
      "GPR.mean_function.B[1]   Parameter  Chain        True         ()       float64  0.118241\n",
      "GPR.mean_function.B[2]   Parameter  Chain        True         ()       float64  0.107508\n",
      "GPR.mean_function.B[3]   Parameter  Chain        True         ()       float64  0.109779\n",
      "GPR.mean_function.B[4]   Parameter  Chain        True         ()       float64  0.127466\n",
      "GPR.kernel.lengthscale   Parameter  Softplus     True         ()       float64  0.321575\n",
      "GPR.kernel.D[0]          Parameter  Chain        False        ()       float64  0.8\n",
      "GPR.kernel.D[1]          Parameter  Chain        True         ()       float64  0.578037\n",
      "GPR.kernel.D[2]          Parameter  Chain        True         ()       float64  0.735773\n",
      "GPR.kernel.D[3]          Parameter  Chain        True         ()       float64  0.70608\n",
      "GPR.kernel.D[4]          Parameter  Chain        True         ()       float64  0.644529\n",
      "GPR.kernel.S[0]          Parameter  Chain        False        ()       float64  1\n",
      "GPR.kernel.S[1]          Parameter  Chain        True         ()       float64  2.99857\n",
      "GPR.kernel.S[2]          Parameter  Chain        True         ()       float64  2.93999\n",
      "GPR.kernel.S[3]          Parameter  Chain        True         ()       float64  2.95818\n",
      "GPR.kernel.S[4]          Parameter  Chain        True         ()       float64  2.99483\n",
      "GPR.likelihood.variance  Parameter  Softplus     True         ()       float64  0.00355173\n"
     ]
    }
   ],
   "source": [
    "get_param_dists = True\n",
    "f64 = gpflow.utilities.to_default_float\n",
    "\n",
    "if get_param_dists:\n",
    "    #https://mc-stan.org/docs/2_22/stan-users-guide/fit-gp-section.html --> priors for length-scale\n",
    "    model.kernel.lengthscale.prior = tfd.Gamma(f64(1), f64(1))\n",
    "    model.likelihood.variance.prior = tfd.Gamma(f64(1.0), f64(1.0))\n",
    "    for D in model.kernel.D:\n",
    "        D.prior = tfd.Gamma(f64(1), f64(1))#tfd.Normal(f64(D.numpy()), f64(0.12))\n",
    "    for S in model.kernel.S:\n",
    "        S.prior = tfd.Gamma(f64(1), f64(1))#tfd.Normal(f64(S.numpy()), f64(0.12))\n",
    "    for B in model.mean_function.B:\n",
    "        B.prior = tfd.Gamma(f64(1), f64(1))#tfd.Normal(f64(B.numpy()), f64(0.12))\n",
    "    print_summary(model)\n",
    "\n",
    "    num_samples = 200\n",
    "    num_burnin_steps = 5\n",
    "\n",
    "    hmc_helper = gpflow.optimizers.SamplingHelper(\n",
    "        target_log_prob_fn=model.log_marginal_likelihood, \n",
    "        model_parameters = model.trainable_parameters\n",
    "    )\n",
    "\n",
    "    hmc = mcmc.HamiltonianMonteCarlo(\n",
    "        target_log_prob_fn=hmc_helper.target_log_prob_fn,\n",
    "        num_leapfrog_steps=5,\n",
    "        step_size=0.01\n",
    "    )\n",
    "    adaptive_hmc = mcmc.SimpleStepSizeAdaptation(\n",
    "        hmc, #mcmc.TransformedTransitionKernel(, bijectors),\n",
    "        num_adaptation_steps=int(num_burnin_steps*0.8),\n",
    "        target_accept_prob=f64(0.75),\n",
    "        adaptation_rate=0.1\n",
    "    )\n",
    "#     adaptive_hmc.bootstrap_results(hmc_helper.current_state)\n",
    "    \n",
    "# if False:\n",
    "    @tf.function\n",
    "    def run_chain_fn():\n",
    "#         def trace_fn(something, pkr):\n",
    "#             print(something)\n",
    "#             print_summary(model)\n",
    "#             return pkr.inner_results.is_accepted\n",
    "        return mcmc.sample_chain(\n",
    "            num_results=num_samples,\n",
    "            num_burnin_steps=num_burnin_steps,\n",
    "            current_state=hmc_helper.current_state,\n",
    "            kernel=adaptive_hmc,\n",
    "            trace_fn = lambda _, pkr: pkr.inner_results.is_accepted\n",
    "        )\n",
    "\n",
    "    samples, traces = run_chain_fn()\n",
    "    parameter_samples = hmc_helper.convert_constrained_values(samples)\n"
   ]
  },
  {
   "cell_type": "markdown",
   "metadata": {},
   "source": [
    "All the Hamiltonian MCMC sampling takes place in an unconstrained space (where constrained parameters have been mapped via a bijector to an unconstrained space). This makes the optimization, as required in the gradient step, much easier.\n",
    "\n",
    "However, we often wish to sample the constrained parameter values, not the unconstrained one. The SamplingHelper helps us convert our unconstrained values to constrained parameter ones.\n",
    "\n",
    "In general, adaptation prevents the chain from reaching a stationary distribution, so obtaining consistent samples requires num_adaptation_steps be set to a value somewhat smaller than the number of burnin steps\n",
    "\n",
    "step_size: Larger step sizes lead to faster progress, but too-large step sizes make rejection exponentially more likely. When possible, it's often helpful to match per-variable step sizes to the standard deviations of the target distribution in each variable\n",
    "\n",
    "num_leapfrog_steps: Integer number of steps to run the leapfrog integrator for. Total progress per HMC step is roughly proportional to step_size * num_leapfrog_steps.\n"
   ]
  },
  {
   "cell_type": "code",
   "execution_count": 149,
   "metadata": {},
   "outputs": [
    {
     "name": "stdout",
     "output_type": "stream",
     "text": [
      "{'.mean_function.B[0]': 0.01361484159334813, '.mean_function.B[1]': 0.01300900382109649, '.mean_function.B[2]': 0.010339587240868055, '.mean_function.B[3]': 0, '.mean_function.B[4]': 0} [0.042079136405270175, 0.0652965119480599, 0.0007098618621059373, 0.033937366194747215, 0.0004432238400801632]\n"
     ]
    },
    {
     "data": {
      "image/png": "[encoded data removed]",
      "text/plain": [
       "<Figure size 576x288 with 1 Axes>"
      ]
     },
     "metadata": {
      "needs_background": "light"
     },
     "output_type": "display_data"
    }
   ],
   "source": [
    "param_to_name = {param: name for name, param in\n",
    "                 gpflow.utilities.parameter_dict(model).items()}\n",
    "\n",
    "D_mcmc = {f'.kernel.D[{i}]': 0 for i in range(num_genes)}\n",
    "S_mcmc = {f'.kernel.S[{i}]':0 for i in range(num_genes)}\n",
    "B_mcmc = {f'.mean_function.B[{i}]':0 for i in range(num_genes)}\n",
    "lengthscale = 0\n",
    "\n",
    "plt.figure(figsize=(8,4))\n",
    "\n",
    "for val, param in zip(parameter_samples, model.parameters):\n",
    "    name = param_to_name[param]\n",
    "    plt.plot(tf.squeeze(val), label=name)\n",
    "\n",
    "    if 'lengthscale' in name:\n",
    "        lengthscale = np.std(val)\n",
    "    elif 'kernel.D' in name:\n",
    "        D_mcmc[name] = np.std(val)\n",
    "    elif 'kernel.S' in name:\n",
    "        S_mcmc[name] = np.std(val)\n",
    "    elif 'function.B' in name:\n",
    "        B_mcmc[name] = np.std(val)\n",
    "\n",
    "plt.legend(bbox_to_anchor=(1., 1.))\n",
    "plt.xlabel('hmc iteration')\n",
    "plt.ylabel('parameter_values');\n",
    "\n",
    "print(B_mcmc, list(S_mcmc.values()))\n",
    "# plot_samples(samples, 'unconstrained_variables_values')"
   ]
  },
  {
   "cell_type": "code",
   "execution_count": 151,
   "metadata": {},
   "outputs": [
    {
     "name": "stderr",
     "output_type": "stream",
     "text": [
      "c:\\users\\jacob\\appdata\\local\\programs\\python\\python37\\lib\\site-packages\\ipykernel_launcher.py:13: MatplotlibDeprecationWarning: Adding an axes using the same arguments as a previous axes currently reuses the earlier instance.  In a future version, a new instance will always be created and returned.  Meanwhile, this warning can be suppressed, and the future behavior ensured, by passing a unique label to each axes instance.\n",
      "  del sys.path[0]\n"
     ]
    },
    {
     "data": {
      "image/png": "[encoded data removed]",
      "text/plain": [
       "<Figure size 1080x720 with 3 Axes>"
      ]
     },
     "metadata": {
      "needs_background": "light"
     },
     "output_type": "display_data"
    }
   ],
   "source": [
    "plt.figure(figsize=(15, 10))\n",
    "plt.subplot(3, 3, 1)\n",
    "B = [s.numpy() for s in model.mean_function.B]\n",
    "S = [s.numpy() for s in model.kernel.S]\n",
    "D = [d.numpy() for d in model.kernel.D]\n",
    "\n",
    "data = [B, S, D]\n",
    "vars = [B_mcmc, S_mcmc, D_mcmc]\n",
    "labels = ['Basal rates', 'Sensitivities', 'Decay rates']\n",
    "\n",
    "plotnum = 331\n",
    "for A, var, label in zip(data, vars, labels):\n",
    "    plt.subplot(plotnum)\n",
    "    plotnum+=1\n",
    "    plt.bar(range(5), A, tick_label=genes.index[:num_genes])\n",
    "    plt.title(label)\n",
    "    plt.errorbar(range(5), A, yerr=list(var.values()), fmt='none', color='green', capsize=2)\n",
    "# plt.bar(range(5), S, tick_label=genes.index[:num_genes])\n",
    "# plt.title('')\n",
    "# plt.errorbar(range(5), S, list(S_mcmc.values()), color='green')\n",
    "\n",
    "# plt.subplot(3, 3, 3)\n",
    "# plt.bar(range(5), D, tick_label=genes.index[:num_genes])\n",
    "# plt.title()"
   ]
  },
  {
   "cell_type": "code",
   "execution_count": 152,
   "metadata": {},
   "outputs": [
    {
     "name": "stdout",
     "output_type": "stream",
     "text": [
      "K not none K_xf\n",
      "\n",
      "(35, 1)\n"
     ]
    },
    {
     "ename": "InvalidArgumentError",
     "evalue": "Matrix size-incompatible: In[0]: [20,100], In[1]: [35,1] [Op:MatMul] name: MatMul/",
     "output_type": "error",
     "traceback": [
      "\u001b[1;31m---------------------------------------------------------------------------\u001b[0m",
      "\u001b[1;31mInvalidArgumentError\u001b[0m                      Traceback (most recent call last)",
      "\u001b[1;32m<ipython-input-152-0f3f3108aada>\u001b[0m in \u001b[0;36m<module>\u001b[1;34m\u001b[0m\n\u001b[0;32m     11\u001b[0m \u001b[0mprint\u001b[0m\u001b[1;33m(\u001b[0m\u001b[0mx\u001b[0m\u001b[1;33m.\u001b[0m\u001b[0mshape\u001b[0m\u001b[1;33m)\u001b[0m\u001b[1;33m\u001b[0m\u001b[1;33m\u001b[0m\u001b[0m\n\u001b[0;32m     12\u001b[0m \u001b[0mKfxKxx\u001b[0m \u001b[1;33m=\u001b[0m \u001b[0mtf\u001b[0m\u001b[1;33m.\u001b[0m\u001b[0mmatmul\u001b[0m\u001b[1;33m(\u001b[0m\u001b[0mtf\u001b[0m\u001b[1;33m.\u001b[0m\u001b[0mtranspose\u001b[0m\u001b[1;33m(\u001b[0m\u001b[0mKxf\u001b[0m\u001b[1;33m)\u001b[0m\u001b[1;33m,\u001b[0m \u001b[0mK_inv\u001b[0m\u001b[1;33m)\u001b[0m\u001b[1;33m\u001b[0m\u001b[1;33m\u001b[0m\u001b[0m\n\u001b[1;32m---> 13\u001b[1;33m \u001b[0mmu_post\u001b[0m \u001b[1;33m=\u001b[0m \u001b[0mtf\u001b[0m\u001b[1;33m.\u001b[0m\u001b[0mmatmul\u001b[0m\u001b[1;33m(\u001b[0m\u001b[0mKfxKxx\u001b[0m\u001b[1;33m,\u001b[0m \u001b[0mY\u001b[0m\u001b[1;33m)\u001b[0m \u001b[1;31m#replace with x?\u001b[0m\u001b[1;33m\u001b[0m\u001b[1;33m\u001b[0m\u001b[0m\n\u001b[0m\u001b[0;32m     14\u001b[0m \u001b[1;33m\u001b[0m\u001b[0m\n\u001b[0;32m     15\u001b[0m \u001b[0mprint\u001b[0m\u001b[1;33m(\u001b[0m\u001b[0mtf\u001b[0m\u001b[1;33m.\u001b[0m\u001b[0mtranspose\u001b[0m\u001b[1;33m(\u001b[0m\u001b[0mKxf\u001b[0m\u001b[1;33m)\u001b[0m\u001b[1;33m.\u001b[0m\u001b[0mshape\u001b[0m\u001b[1;33m,\u001b[0m \u001b[1;34m'*'\u001b[0m\u001b[1;33m,\u001b[0m \u001b[0mK_inv\u001b[0m\u001b[1;33m.\u001b[0m\u001b[0mshape\u001b[0m\u001b[1;33m,\u001b[0m\u001b[1;34m'=='\u001b[0m\u001b[1;33m,\u001b[0m \u001b[0mKfxKxx\u001b[0m\u001b[1;33m.\u001b[0m\u001b[0mshape\u001b[0m\u001b[1;33m,\u001b[0m \u001b[1;34m'*'\u001b[0m\u001b[1;33m,\u001b[0m \u001b[0mx\u001b[0m\u001b[1;33m.\u001b[0m\u001b[0mshape\u001b[0m\u001b[1;33m)\u001b[0m\u001b[1;33m\u001b[0m\u001b[1;33m\u001b[0m\u001b[0m\n",
      "\u001b[1;32mc:\\users\\jacob\\appdata\\local\\programs\\python\\python37\\lib\\site-packages\\tensorflow_core\\python\\util\\dispatch.py\u001b[0m in \u001b[0;36mwrapper\u001b[1;34m(*args, **kwargs)\u001b[0m\n\u001b[0;32m    178\u001b[0m     \u001b[1;34m\"\"\"Call target, and fall back on dispatchers if there is a TypeError.\"\"\"\u001b[0m\u001b[1;33m\u001b[0m\u001b[1;33m\u001b[0m\u001b[0m\n\u001b[0;32m    179\u001b[0m     \u001b[1;32mtry\u001b[0m\u001b[1;33m:\u001b[0m\u001b[1;33m\u001b[0m\u001b[1;33m\u001b[0m\u001b[0m\n\u001b[1;32m--> 180\u001b[1;33m       \u001b[1;32mreturn\u001b[0m \u001b[0mtarget\u001b[0m\u001b[1;33m(\u001b[0m\u001b[1;33m*\u001b[0m\u001b[0margs\u001b[0m\u001b[1;33m,\u001b[0m \u001b[1;33m**\u001b[0m\u001b[0mkwargs\u001b[0m\u001b[1;33m)\u001b[0m\u001b[1;33m\u001b[0m\u001b[1;33m\u001b[0m\u001b[0m\n\u001b[0m\u001b[0;32m    181\u001b[0m     \u001b[1;32mexcept\u001b[0m \u001b[1;33m(\u001b[0m\u001b[0mTypeError\u001b[0m\u001b[1;33m,\u001b[0m \u001b[0mValueError\u001b[0m\u001b[1;33m)\u001b[0m\u001b[1;33m:\u001b[0m\u001b[1;33m\u001b[0m\u001b[1;33m\u001b[0m\u001b[0m\n\u001b[0;32m    182\u001b[0m       \u001b[1;31m# Note: convert_to_eager_tensor currently raises a ValueError, not a\u001b[0m\u001b[1;33m\u001b[0m\u001b[1;33m\u001b[0m\u001b[1;33m\u001b[0m\u001b[0m\n",
      "\u001b[1;32mc:\\users\\jacob\\appdata\\local\\programs\\python\\python37\\lib\\site-packages\\tensorflow_core\\python\\ops\\math_ops.py\u001b[0m in \u001b[0;36mmatmul\u001b[1;34m(a, b, transpose_a, transpose_b, adjoint_a, adjoint_b, a_is_sparse, b_is_sparse, name)\u001b[0m\n\u001b[0;32m   2796\u001b[0m     \u001b[1;32melse\u001b[0m\u001b[1;33m:\u001b[0m\u001b[1;33m\u001b[0m\u001b[1;33m\u001b[0m\u001b[0m\n\u001b[0;32m   2797\u001b[0m       return gen_math_ops.mat_mul(\n\u001b[1;32m-> 2798\u001b[1;33m           a, b, transpose_a=transpose_a, transpose_b=transpose_b, name=name)\n\u001b[0m\u001b[0;32m   2799\u001b[0m \u001b[1;33m\u001b[0m\u001b[0m\n\u001b[0;32m   2800\u001b[0m \u001b[1;33m\u001b[0m\u001b[0m\n",
      "\u001b[1;32mc:\\users\\jacob\\appdata\\local\\programs\\python\\python37\\lib\\site-packages\\tensorflow_core\\python\\ops\\gen_math_ops.py\u001b[0m in \u001b[0;36mmat_mul\u001b[1;34m(a, b, transpose_a, transpose_b, name)\u001b[0m\n\u001b[0;32m   5614\u001b[0m         \u001b[1;32mpass\u001b[0m  \u001b[1;31m# Add nodes to the TensorFlow graph.\u001b[0m\u001b[1;33m\u001b[0m\u001b[1;33m\u001b[0m\u001b[0m\n\u001b[0;32m   5615\u001b[0m     \u001b[1;32mexcept\u001b[0m \u001b[0m_core\u001b[0m\u001b[1;33m.\u001b[0m\u001b[0m_NotOkStatusException\u001b[0m \u001b[1;32mas\u001b[0m \u001b[0me\u001b[0m\u001b[1;33m:\u001b[0m\u001b[1;33m\u001b[0m\u001b[1;33m\u001b[0m\u001b[0m\n\u001b[1;32m-> 5616\u001b[1;33m       \u001b[0m_ops\u001b[0m\u001b[1;33m.\u001b[0m\u001b[0mraise_from_not_ok_status\u001b[0m\u001b[1;33m(\u001b[0m\u001b[0me\u001b[0m\u001b[1;33m,\u001b[0m \u001b[0mname\u001b[0m\u001b[1;33m)\u001b[0m\u001b[1;33m\u001b[0m\u001b[1;33m\u001b[0m\u001b[0m\n\u001b[0m\u001b[0;32m   5617\u001b[0m   \u001b[1;31m# Add nodes to the TensorFlow graph.\u001b[0m\u001b[1;33m\u001b[0m\u001b[1;33m\u001b[0m\u001b[1;33m\u001b[0m\u001b[0m\n\u001b[0;32m   5618\u001b[0m   \u001b[1;32mif\u001b[0m \u001b[0mtranspose_a\u001b[0m \u001b[1;32mis\u001b[0m \u001b[1;32mNone\u001b[0m\u001b[1;33m:\u001b[0m\u001b[1;33m\u001b[0m\u001b[1;33m\u001b[0m\u001b[0m\n",
      "\u001b[1;32mc:\\users\\jacob\\appdata\\local\\programs\\python\\python37\\lib\\site-packages\\tensorflow_core\\python\\framework\\ops.py\u001b[0m in \u001b[0;36mraise_from_not_ok_status\u001b[1;34m(e, name)\u001b[0m\n\u001b[0;32m   6604\u001b[0m   \u001b[0mmessage\u001b[0m \u001b[1;33m=\u001b[0m \u001b[0me\u001b[0m\u001b[1;33m.\u001b[0m\u001b[0mmessage\u001b[0m \u001b[1;33m+\u001b[0m \u001b[1;33m(\u001b[0m\u001b[1;34m\" name: \"\u001b[0m \u001b[1;33m+\u001b[0m \u001b[0mname\u001b[0m \u001b[1;32mif\u001b[0m \u001b[0mname\u001b[0m \u001b[1;32mis\u001b[0m \u001b[1;32mnot\u001b[0m \u001b[1;32mNone\u001b[0m \u001b[1;32melse\u001b[0m \u001b[1;34m\"\"\u001b[0m\u001b[1;33m)\u001b[0m\u001b[1;33m\u001b[0m\u001b[1;33m\u001b[0m\u001b[0m\n\u001b[0;32m   6605\u001b[0m   \u001b[1;31m# pylint: disable=protected-access\u001b[0m\u001b[1;33m\u001b[0m\u001b[1;33m\u001b[0m\u001b[1;33m\u001b[0m\u001b[0m\n\u001b[1;32m-> 6606\u001b[1;33m   \u001b[0msix\u001b[0m\u001b[1;33m.\u001b[0m\u001b[0mraise_from\u001b[0m\u001b[1;33m(\u001b[0m\u001b[0mcore\u001b[0m\u001b[1;33m.\u001b[0m\u001b[0m_status_to_exception\u001b[0m\u001b[1;33m(\u001b[0m\u001b[0me\u001b[0m\u001b[1;33m.\u001b[0m\u001b[0mcode\u001b[0m\u001b[1;33m,\u001b[0m \u001b[0mmessage\u001b[0m\u001b[1;33m)\u001b[0m\u001b[1;33m,\u001b[0m \u001b[1;32mNone\u001b[0m\u001b[1;33m)\u001b[0m\u001b[1;33m\u001b[0m\u001b[1;33m\u001b[0m\u001b[0m\n\u001b[0m\u001b[0;32m   6607\u001b[0m   \u001b[1;31m# pylint: enable=protected-access\u001b[0m\u001b[1;33m\u001b[0m\u001b[1;33m\u001b[0m\u001b[1;33m\u001b[0m\u001b[0m\n\u001b[0;32m   6608\u001b[0m \u001b[1;33m\u001b[0m\u001b[0m\n",
      "\u001b[1;32mc:\\users\\jacob\\appdata\\local\\programs\\python\\python37\\lib\\site-packages\\six.py\u001b[0m in \u001b[0;36mraise_from\u001b[1;34m(value, from_value)\u001b[0m\n",
      "\u001b[1;31mInvalidArgumentError\u001b[0m: Matrix size-incompatible: In[0]: [20,100], In[1]: [35,1] [Op:MatMul] name: MatMul/"
     ]
    }
   ],
   "source": [
    "pred_t = tf.repeat((0, 12, 20), num_genes)\n",
    "pred_t = np.linspace(0, 12, 20, dtype='float64')\n",
    "pred_t = np.c_[[pred_t for _ in range(num_genes)]].reshape(-1)\n",
    "\n",
    "k = model.kernel\n",
    "\n",
    "K_inv = tf.linalg.inv(k.K(pred_t, None))\n",
    "Kxf = k.K(pred_t, pred_t)\n",
    "\n",
    "x = tf.convert_to_tensor(Y) - np.repeat(B/np.array(D), 7).reshape(-1, 1)\n",
    "print(x.shape)\n",
    "KfxKxx = tf.matmul(tf.transpose(Kxf), K_inv)\n",
    "mu_post = tf.matmul(KfxKxx, Y) #replace with x?\n",
    "\n",
    "print(tf.transpose(Kxf).shape, '*', K_inv.shape,'==', KfxKxx.shape, '*', x.shape)\n",
    "print('mu shape', mu_post.shape)\n"
   ]
  },
  {
   "cell_type": "code",
   "execution_count": 257,
   "metadata": {},
   "outputs": [
    {
     "name": "stdout",
     "output_type": "stream",
     "text": [
      "K not none K_xf\n",
      "\n",
      "(35, 1)\n",
      "(7, 35) * (35, 35) == (7, 35) * (35, 1)\n",
      "mu shape (7, 1)\n"
     ]
    }
   ],
   "source": [
    "\n",
    "\n",
    "# Kff = k.K_diag(X)\n",
    "# K_post = Kff - KfxKxx * Kxf\n",
    "# print('K shape', K_post.shape)"
   ]
  },
  {
   "cell_type": "code",
   "execution_count": 258,
   "metadata": {},
   "outputs": [
    {
     "name": "stdout",
     "output_type": "stream",
     "text": [
      "(7,)\n",
      "[ 0  2  4  6  8 10 12]\n",
      "range [0.000] 0\n",
      "sum [-0.23932428813241016]\n",
      "range [0.000 2.000] 2\n",
      "sum [-0.23932428813241016, 5.084901153257131]\n",
      "range [0.000 2.000 4.000] 4\n",
      "sum [-0.23932428813241016, 5.084901153257131, 45.758960371334545]\n",
      "range [0.000 2.000 4.000 6.000] 6\n",
      "sum [-0.23932428813241016, 5.084901153257131, 45.758960371334545, 154.24457370809668]\n",
      "range [0.000 2.000 4.000 6.000 8.000] 8\n",
      "sum [-0.23932428813241016, 5.084901153257131, 45.758960371334545, 154.24457370809668, 899.8379707315509]\n",
      "range [0.000 2.000 4.000 6.000 8.000 10.000] 10\n",
      "sum [-0.23932428813241016, 5.084901153257131, 45.758960371334545, 154.24457370809668, 899.8379707315509, 256.32455417442026]\n",
      "range [0.000 2.000 4.000 6.000 8.000 10.000 12.000] 12\n",
      "sum [-0.23932428813241016, 5.084901153257131, 45.758960371334545, 154.24457370809668, 899.8379707315509, 256.32455417442026, -7124.494392347385]\n"
     ]
    },
    {
     "data": {
      "text/plain": [
       "[<matplotlib.lines.Line2D at 0x29f26461448>]"
      ]
     },
     "execution_count": 258,
     "metadata": {},
     "output_type": "execute_result"
    },
    {
     "data": {
      "image/png": "[encoded data removed]",
      "text/plain": [
       "<Figure size 432x288 with 1 Axes>"
      ]
     },
     "metadata": {
      "needs_background": "light"
     },
     "output_type": "display_data"
    },
    {
     "data": {
      "image/png": "[encoded data removed]",
      "text/plain": [
       "<Figure size 432x288 with 1 Axes>"
      ]
     },
     "metadata": {
      "needs_background": "light"
     },
     "output_type": "display_data"
    }
   ],
   "source": [
    "mu = mu_post.numpy().reshape(-1)\n",
    "print(mu.shape)\n",
    "plt.plot(mu[:7])\n",
    "plt.figure()\n",
    "\n",
    "ts = np.arange(7)*2\n",
    "print(ts)\n",
    "x_1 = list()\n",
    "for t in ts:\n",
    "    print('range', np.arange(t/2+1)*2, t)\n",
    "    print('sum', [mu[int(t_/2)]*np.exp(k.D[0]*t_) for t_ in np.arange(t/2+1)*2])\n",
    "    x_1.append(k.S[0]*np.exp(-k.D[0]*t)*np.sum([mu[int(t_/2)]*np.exp(k.D[0]*t_) for t_ in np.arange(t/2+1)*2]))\n",
    "plt.plot(x_1)"
   ]
  },
  {
   "cell_type": "code",
   "execution_count": 253,
   "metadata": {},
   "outputs": [
    {
     "data": {
      "text/plain": [
       "<Figure size 432x288 with 0 Axes>"
      ]
     },
     "execution_count": 253,
     "metadata": {},
     "output_type": "execute_result"
    },
    {
     "data": {
      "image/png": "[encoded data removed]",
      "text/plain": [
       "<Figure size 432x288 with 1 Axes>"
      ]
     },
     "metadata": {
      "needs_background": "light"
     },
     "output_type": "display_data"
    },
    {
     "data": {
      "text/plain": [
       "<Figure size 432x288 with 0 Axes>"
      ]
     },
     "metadata": {},
     "output_type": "display_data"
    }
   ],
   "source": [
    "plt.plot(Y[:7])\n",
    "plt.figure()"
   ]
  },
  {
   "cell_type": "code",
   "execution_count": 27,
   "metadata": {
    "scrolled": true
   },
   "outputs": [
    {
     "name": "stdout",
     "output_type": "stream",
     "text": [
      "k_diag\n",
      "K not none K_xf\n",
      "\n",
      "err shape (35, 1)\n"
     ]
    },
    {
     "ename": "InvalidArgumentError",
     "evalue": "Incompatible shapes: [35] vs. [7] [Op:Sub] name: sub/",
     "output_type": "error",
     "traceback": [
      "\u001b[1;31m---------------------------------------------------------------------------\u001b[0m",
      "\u001b[1;31mInvalidArgumentError\u001b[0m                      Traceback (most recent call last)",
      "\u001b[1;32m<ipython-input-27-56972f46ef69>\u001b[0m in \u001b[0;36m<module>\u001b[1;34m\u001b[0m\n\u001b[1;32m----> 1\u001b[1;33m \u001b[0mmean\u001b[0m\u001b[1;33m,\u001b[0m \u001b[0mvar\u001b[0m \u001b[1;33m=\u001b[0m \u001b[0mmodel\u001b[0m\u001b[1;33m.\u001b[0m\u001b[0mpredict_f\u001b[0m\u001b[1;33m(\u001b[0m\u001b[0mX\u001b[0m\u001b[1;33m)\u001b[0m\u001b[1;33m\u001b[0m\u001b[1;33m\u001b[0m\u001b[0m\n\u001b[0m\u001b[0;32m      2\u001b[0m \u001b[0mmean\u001b[0m\u001b[1;33m\u001b[0m\u001b[1;33m\u001b[0m\u001b[0m\n",
      "\u001b[1;32mc:\\users\\jacob\\appdata\\local\\programs\\python\\python37\\lib\\site-packages\\gpflow\\models\\gpr.py\u001b[0m in \u001b[0;36mpredict_f\u001b[1;34m(self, predict_at, full_cov, full_output_cov)\u001b[0m\n\u001b[0;32m     90\u001b[0m         \u001b[0mconditional\u001b[0m \u001b[1;33m=\u001b[0m \u001b[0mgpflow\u001b[0m\u001b[1;33m.\u001b[0m\u001b[0mconditionals\u001b[0m\u001b[1;33m.\u001b[0m\u001b[0mbase_conditional\u001b[0m\u001b[1;33m\u001b[0m\u001b[1;33m\u001b[0m\u001b[0m\n\u001b[0;32m     91\u001b[0m         f_mean_zero, f_var = conditional(kmn, kmm + s, knn, err, full_cov=full_cov,\n\u001b[1;32m---> 92\u001b[1;33m                                          white=False)  # [N, P], [N, P] or [P, N, N]\n\u001b[0m\u001b[0;32m     93\u001b[0m         \u001b[0mf_mean\u001b[0m \u001b[1;33m=\u001b[0m \u001b[0mf_mean_zero\u001b[0m \u001b[1;33m+\u001b[0m \u001b[0mself\u001b[0m\u001b[1;33m.\u001b[0m\u001b[0mmean_function\u001b[0m\u001b[1;33m(\u001b[0m\u001b[0mpredict_at\u001b[0m\u001b[1;33m)\u001b[0m\u001b[1;33m\u001b[0m\u001b[1;33m\u001b[0m\u001b[0m\n\u001b[0;32m     94\u001b[0m         \u001b[1;32mreturn\u001b[0m \u001b[0mf_mean\u001b[0m\u001b[1;33m,\u001b[0m \u001b[0mf_var\u001b[0m\u001b[1;33m\u001b[0m\u001b[1;33m\u001b[0m\u001b[0m\n",
      "\u001b[1;32mc:\\users\\jacob\\appdata\\local\\programs\\python\\python37\\lib\\site-packages\\gpflow\\conditionals\\util.py\u001b[0m in \u001b[0;36mbase_conditional\u001b[1;34m(Kmn, Kmm, Knn, function, full_cov, q_sqrt, white)\u001b[0m\n\u001b[0;32m     64\u001b[0m         \u001b[0mfvar\u001b[0m \u001b[1;33m=\u001b[0m \u001b[0mtf\u001b[0m\u001b[1;33m.\u001b[0m\u001b[0mbroadcast_to\u001b[0m\u001b[1;33m(\u001b[0m\u001b[0mtf\u001b[0m\u001b[1;33m.\u001b[0m\u001b[0mexpand_dims\u001b[0m\u001b[1;33m(\u001b[0m\u001b[0mfvar\u001b[0m\u001b[1;33m,\u001b[0m \u001b[1;33m-\u001b[0m\u001b[1;36m3\u001b[0m\u001b[1;33m)\u001b[0m\u001b[1;33m,\u001b[0m \u001b[0mcov_shape\u001b[0m\u001b[1;33m)\u001b[0m  \u001b[1;31m# [..., R, N, N]\u001b[0m\u001b[1;33m\u001b[0m\u001b[1;33m\u001b[0m\u001b[0m\n\u001b[0;32m     65\u001b[0m     \u001b[1;32melse\u001b[0m\u001b[1;33m:\u001b[0m\u001b[1;33m\u001b[0m\u001b[1;33m\u001b[0m\u001b[0m\n\u001b[1;32m---> 66\u001b[1;33m         \u001b[0mfvar\u001b[0m \u001b[1;33m=\u001b[0m \u001b[0mKnn\u001b[0m \u001b[1;33m-\u001b[0m \u001b[0mtf\u001b[0m\u001b[1;33m.\u001b[0m\u001b[0mreduce_sum\u001b[0m\u001b[1;33m(\u001b[0m\u001b[0mtf\u001b[0m\u001b[1;33m.\u001b[0m\u001b[0msquare\u001b[0m\u001b[1;33m(\u001b[0m\u001b[0mA\u001b[0m\u001b[1;33m)\u001b[0m\u001b[1;33m,\u001b[0m \u001b[1;33m-\u001b[0m\u001b[1;36m2\u001b[0m\u001b[1;33m)\u001b[0m  \u001b[1;31m# [..., N]\u001b[0m\u001b[1;33m\u001b[0m\u001b[1;33m\u001b[0m\u001b[0m\n\u001b[0m\u001b[0;32m     67\u001b[0m         \u001b[0mcov_shape\u001b[0m \u001b[1;33m=\u001b[0m \u001b[0mtf\u001b[0m\u001b[1;33m.\u001b[0m\u001b[0mconcat\u001b[0m\u001b[1;33m(\u001b[0m\u001b[1;33m[\u001b[0m\u001b[0mleading_dims\u001b[0m\u001b[1;33m,\u001b[0m \u001b[1;33m[\u001b[0m\u001b[0mnum_func\u001b[0m\u001b[1;33m,\u001b[0m \u001b[0mN\u001b[0m\u001b[1;33m]\u001b[0m\u001b[1;33m]\u001b[0m\u001b[1;33m,\u001b[0m \u001b[1;36m0\u001b[0m\u001b[1;33m)\u001b[0m  \u001b[1;31m# [..., R, N]\u001b[0m\u001b[1;33m\u001b[0m\u001b[1;33m\u001b[0m\u001b[0m\n\u001b[0;32m     68\u001b[0m         \u001b[0mfvar\u001b[0m \u001b[1;33m=\u001b[0m \u001b[0mtf\u001b[0m\u001b[1;33m.\u001b[0m\u001b[0mbroadcast_to\u001b[0m\u001b[1;33m(\u001b[0m\u001b[0mtf\u001b[0m\u001b[1;33m.\u001b[0m\u001b[0mexpand_dims\u001b[0m\u001b[1;33m(\u001b[0m\u001b[0mfvar\u001b[0m\u001b[1;33m,\u001b[0m \u001b[1;33m-\u001b[0m\u001b[1;36m2\u001b[0m\u001b[1;33m)\u001b[0m\u001b[1;33m,\u001b[0m \u001b[0mcov_shape\u001b[0m\u001b[1;33m)\u001b[0m  \u001b[1;31m# [..., R, N]\u001b[0m\u001b[1;33m\u001b[0m\u001b[1;33m\u001b[0m\u001b[0m\n",
      "\u001b[1;32mc:\\users\\jacob\\appdata\\local\\programs\\python\\python37\\lib\\site-packages\\tensorflow_core\\python\\ops\\math_ops.py\u001b[0m in \u001b[0;36mbinary_op_wrapper\u001b[1;34m(x, y)\u001b[0m\n\u001b[0;32m    900\u001b[0m     \u001b[1;32mwith\u001b[0m \u001b[0mops\u001b[0m\u001b[1;33m.\u001b[0m\u001b[0mname_scope\u001b[0m\u001b[1;33m(\u001b[0m\u001b[1;32mNone\u001b[0m\u001b[1;33m,\u001b[0m \u001b[0mop_name\u001b[0m\u001b[1;33m,\u001b[0m \u001b[1;33m[\u001b[0m\u001b[0mx\u001b[0m\u001b[1;33m,\u001b[0m \u001b[0my\u001b[0m\u001b[1;33m]\u001b[0m\u001b[1;33m)\u001b[0m \u001b[1;32mas\u001b[0m \u001b[0mname\u001b[0m\u001b[1;33m:\u001b[0m\u001b[1;33m\u001b[0m\u001b[1;33m\u001b[0m\u001b[0m\n\u001b[0;32m    901\u001b[0m       \u001b[1;32mif\u001b[0m \u001b[0misinstance\u001b[0m\u001b[1;33m(\u001b[0m\u001b[0mx\u001b[0m\u001b[1;33m,\u001b[0m \u001b[0mops\u001b[0m\u001b[1;33m.\u001b[0m\u001b[0mTensor\u001b[0m\u001b[1;33m)\u001b[0m \u001b[1;32mand\u001b[0m \u001b[0misinstance\u001b[0m\u001b[1;33m(\u001b[0m\u001b[0my\u001b[0m\u001b[1;33m,\u001b[0m \u001b[0mops\u001b[0m\u001b[1;33m.\u001b[0m\u001b[0mTensor\u001b[0m\u001b[1;33m)\u001b[0m\u001b[1;33m:\u001b[0m\u001b[1;33m\u001b[0m\u001b[1;33m\u001b[0m\u001b[0m\n\u001b[1;32m--> 902\u001b[1;33m         \u001b[1;32mreturn\u001b[0m \u001b[0mfunc\u001b[0m\u001b[1;33m(\u001b[0m\u001b[0mx\u001b[0m\u001b[1;33m,\u001b[0m \u001b[0my\u001b[0m\u001b[1;33m,\u001b[0m \u001b[0mname\u001b[0m\u001b[1;33m=\u001b[0m\u001b[0mname\u001b[0m\u001b[1;33m)\u001b[0m\u001b[1;33m\u001b[0m\u001b[1;33m\u001b[0m\u001b[0m\n\u001b[0m\u001b[0;32m    903\u001b[0m       \u001b[1;32melif\u001b[0m \u001b[1;32mnot\u001b[0m \u001b[0misinstance\u001b[0m\u001b[1;33m(\u001b[0m\u001b[0my\u001b[0m\u001b[1;33m,\u001b[0m \u001b[0msparse_tensor\u001b[0m\u001b[1;33m.\u001b[0m\u001b[0mSparseTensor\u001b[0m\u001b[1;33m)\u001b[0m\u001b[1;33m:\u001b[0m\u001b[1;33m\u001b[0m\u001b[1;33m\u001b[0m\u001b[0m\n\u001b[0;32m    904\u001b[0m         \u001b[1;32mtry\u001b[0m\u001b[1;33m:\u001b[0m\u001b[1;33m\u001b[0m\u001b[1;33m\u001b[0m\u001b[0m\n",
      "\u001b[1;32mc:\\users\\jacob\\appdata\\local\\programs\\python\\python37\\lib\\site-packages\\tensorflow_core\\python\\ops\\gen_math_ops.py\u001b[0m in \u001b[0;36msub\u001b[1;34m(x, y, name)\u001b[0m\n\u001b[0;32m  10099\u001b[0m         \u001b[1;32mpass\u001b[0m  \u001b[1;31m# Add nodes to the TensorFlow graph.\u001b[0m\u001b[1;33m\u001b[0m\u001b[1;33m\u001b[0m\u001b[0m\n\u001b[0;32m  10100\u001b[0m     \u001b[1;32mexcept\u001b[0m \u001b[0m_core\u001b[0m\u001b[1;33m.\u001b[0m\u001b[0m_NotOkStatusException\u001b[0m \u001b[1;32mas\u001b[0m \u001b[0me\u001b[0m\u001b[1;33m:\u001b[0m\u001b[1;33m\u001b[0m\u001b[1;33m\u001b[0m\u001b[0m\n\u001b[1;32m> 10101\u001b[1;33m       \u001b[0m_ops\u001b[0m\u001b[1;33m.\u001b[0m\u001b[0mraise_from_not_ok_status\u001b[0m\u001b[1;33m(\u001b[0m\u001b[0me\u001b[0m\u001b[1;33m,\u001b[0m \u001b[0mname\u001b[0m\u001b[1;33m)\u001b[0m\u001b[1;33m\u001b[0m\u001b[1;33m\u001b[0m\u001b[0m\n\u001b[0m\u001b[0;32m  10102\u001b[0m   \u001b[1;31m# Add nodes to the TensorFlow graph.\u001b[0m\u001b[1;33m\u001b[0m\u001b[1;33m\u001b[0m\u001b[1;33m\u001b[0m\u001b[0m\n\u001b[0;32m  10103\u001b[0m   _, _, _op, _outputs = _op_def_library._apply_op_helper(\n",
      "\u001b[1;32mc:\\users\\jacob\\appdata\\local\\programs\\python\\python37\\lib\\site-packages\\tensorflow_core\\python\\framework\\ops.py\u001b[0m in \u001b[0;36mraise_from_not_ok_status\u001b[1;34m(e, name)\u001b[0m\n\u001b[0;32m   6604\u001b[0m   \u001b[0mmessage\u001b[0m \u001b[1;33m=\u001b[0m \u001b[0me\u001b[0m\u001b[1;33m.\u001b[0m\u001b[0mmessage\u001b[0m \u001b[1;33m+\u001b[0m \u001b[1;33m(\u001b[0m\u001b[1;34m\" name: \"\u001b[0m \u001b[1;33m+\u001b[0m \u001b[0mname\u001b[0m \u001b[1;32mif\u001b[0m \u001b[0mname\u001b[0m \u001b[1;32mis\u001b[0m \u001b[1;32mnot\u001b[0m \u001b[1;32mNone\u001b[0m \u001b[1;32melse\u001b[0m \u001b[1;34m\"\"\u001b[0m\u001b[1;33m)\u001b[0m\u001b[1;33m\u001b[0m\u001b[1;33m\u001b[0m\u001b[0m\n\u001b[0;32m   6605\u001b[0m   \u001b[1;31m# pylint: disable=protected-access\u001b[0m\u001b[1;33m\u001b[0m\u001b[1;33m\u001b[0m\u001b[1;33m\u001b[0m\u001b[0m\n\u001b[1;32m-> 6606\u001b[1;33m   \u001b[0msix\u001b[0m\u001b[1;33m.\u001b[0m\u001b[0mraise_from\u001b[0m\u001b[1;33m(\u001b[0m\u001b[0mcore\u001b[0m\u001b[1;33m.\u001b[0m\u001b[0m_status_to_exception\u001b[0m\u001b[1;33m(\u001b[0m\u001b[0me\u001b[0m\u001b[1;33m.\u001b[0m\u001b[0mcode\u001b[0m\u001b[1;33m,\u001b[0m \u001b[0mmessage\u001b[0m\u001b[1;33m)\u001b[0m\u001b[1;33m,\u001b[0m \u001b[1;32mNone\u001b[0m\u001b[1;33m)\u001b[0m\u001b[1;33m\u001b[0m\u001b[1;33m\u001b[0m\u001b[0m\n\u001b[0m\u001b[0;32m   6607\u001b[0m   \u001b[1;31m# pylint: enable=protected-access\u001b[0m\u001b[1;33m\u001b[0m\u001b[1;33m\u001b[0m\u001b[1;33m\u001b[0m\u001b[0m\n\u001b[0;32m   6608\u001b[0m \u001b[1;33m\u001b[0m\u001b[0m\n",
      "\u001b[1;32mc:\\users\\jacob\\appdata\\local\\programs\\python\\python37\\lib\\site-packages\\six.py\u001b[0m in \u001b[0;36mraise_from\u001b[1;34m(value, from_value)\u001b[0m\n",
      "\u001b[1;31mInvalidArgumentError\u001b[0m: Incompatible shapes: [35] vs. [7] [Op:Sub] name: sub/"
     ]
    }
   ],
   "source": [
    "mean, var = model.predict_f(X)\n",
    "mean"
   ]
  },
  {
   "cell_type": "code",
   "execution_count": null,
   "metadata": {},
   "outputs": [],
   "source": [
    "plt.subplot(2, 2, 1)\n",
    "plt.plot(mean)\n",
    "plt.subplot(2, 2, 2)\n",
    "plt.plot(genes[genes.index == 'p53'].values[0])"
   ]
  },
  {
   "cell_type": "code",
   "execution_count": 28,
   "metadata": {},
   "outputs": [
    {
     "name": "stdout",
     "output_type": "stream",
     "text": [
      "k_diag\n"
     ]
    },
    {
     "data": {
      "text/plain": [
       "<tf.Tensor: shape=(35,), dtype=float64, numpy=\n",
       "array([1.000, 1.000, 1.000, 1.000, 1.000, 1.000, 1.000, 1.000, 1.000,\n",
       "       1.000, 1.000, 1.000, 1.000, 1.000, 1.000, 1.000, 1.000, 1.000,\n",
       "       1.000, 1.000, 1.000, 1.000, 1.000, 1.000, 1.000, 1.000, 1.000,\n",
       "       1.000, 1.000, 1.000, 1.000, 1.000, 1.000, 1.000, 1.000])>"
      ]
     },
     "execution_count": 28,
     "metadata": {},
     "output_type": "execute_result"
    }
   ],
   "source": []
  },
  {
   "cell_type": "markdown",
   "metadata": {},
   "source": [
    "## Non-linear response\n",
    "    "
   ]
  },
  {
   "cell_type": "code",
   "execution_count": null,
   "metadata": {},
   "outputs": [],
   "source": []
  }
 ],
 "metadata": {
  "kernelspec": {
   "display_name": "Python 3",
   "language": "python",
   "name": "python3"
  },
  "language_info": {
   "codemirror_mode": {
    "name": "ipython",
    "version": 3
   },
   "file_extension": ".py",
   "mimetype": "text/x-python",
   "name": "python",
   "nbconvert_exporter": "python",
   "pygments_lexer": "ipython3",
   "version": "3.7.6"
  }
 },
 "nbformat": 4,
 "nbformat_minor": 4
}
